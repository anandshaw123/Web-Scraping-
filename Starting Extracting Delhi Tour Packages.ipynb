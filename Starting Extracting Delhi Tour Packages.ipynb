{
 "cells": [
  {
   "cell_type": "code",
   "execution_count": 2,
   "id": "98b274b1-187a-447b-a869-8ef07465ef74",
   "metadata": {},
   "outputs": [],
   "source": [
    "#import time\n",
    "import pandas as pd\n",
    "from selenium import webdriver\n",
    "from selenium.webdriver.chrome.service import Service\n",
    "from bs4 import BeautifulSoup"
   ]
  },
  {
   "cell_type": "code",
   "execution_count": 3,
   "id": "e6f39e37-c41d-4bc9-902c-b44e9bacdadd",
   "metadata": {},
   "outputs": [],
   "source": [
    "# Path to the ChromeDriver executable\n",
    "chrome_driver_path = 'chromedriver.exe'\n",
    "\n",
    "# Create a Service object with the path to ChromeDriver\n",
    "service = Service(chrome_driver_path)"
   ]
  },
  {
   "cell_type": "code",
   "execution_count": 4,
   "id": "7735a034-80be-4983-a702-f37761503a65",
   "metadata": {},
   "outputs": [],
   "source": [
    "# Initialize the Chrome WebDriver with the Service object\n",
    "driver = webdriver.Chrome(service=service)\n",
    "\n",
    "# Open a webpage to test if the driver is working\n",
    "driver.get(\"https://www.getyourguide.com/s?cmp=bing&ad_id=78202963710359&adgroup_id=1251244854683240&bid_match_type=bb&campaign_id=434111534&device=c&keyword=www.getyourguide.com&loc_interest_ms=1653&loc_physical_ms=116075&match_type=b&msclkid=9d4de9dec865154c0d038faab1ea4e16&network=o&partner_id=CD951&target_id=dat-2330002578451845&utm_adgroup=ct=dsa|fn=f1&utm_campaign=ct=dsa|ln=29:en|tc=all&utm_keyword=www.getyourguide.com&utm_medium=paid_search&utm_query=Yatra+Delhi+Tour+Packages&utm_source=bing&visitor-id=AD3F72HDN2QE874EVL4FEJUWXHAP6ZZM&locale_autoredirect_optout=true&q=New+Delhi&et=482036&price_range=5000-4838924&dur=4|5|6|7&lng=hi&lc=l104124-l104130-l104121-l104115-l97264-l3868-l104100-l11523-l146358-l3876&poi_types=castle_or_palace-religious-memorial-historic_and_archeological&activity_type=privateTour-guidedTour-entryTicket-dayTrip-other-adventure-hopOnHopOff-cityCard-waterActivity-multiDayTrip-bundle\")"
   ]
  },
  {
   "cell_type": "code",
   "execution_count": 5,
   "id": "eafceb99-c475-4f95-adbd-3f31c563c2f0",
   "metadata": {},
   "outputs": [],
   "source": [
    "source = driver.page_source\n",
    "soup = BeautifulSoup(source, \"html.parser\")"
   ]
  },
  {
   "cell_type": "markdown",
   "id": "e9e05069-c155-4a52-990b-86a3d3bae0dd",
   "metadata": {},
   "source": [
    "## Creating the Function to Store Extracting Data"
   ]
  },
  {
   "cell_type": "code",
   "execution_count": 6,
   "id": "77fa2527-c242-4a74-a9bc-9ee7eb0776ae",
   "metadata": {},
   "outputs": [],
   "source": [
    "package_title = []\n",
    "old_price = []\n",
    "duration = []\n",
    "activity_type = []\n",
    "price_category = []\n",
    "group_category = []"
   ]
  },
  {
   "cell_type": "code",
   "execution_count": 7,
   "id": "87ebab2f-ddd9-41f9-afb7-c961c2124d84",
   "metadata": {},
   "outputs": [],
   "source": [
    "boxes = soup.find_all(\"div\", class_=\"activity-card-block activity-card-block--grid\")\n",
    "\n",
    "#Extracting package_title Data\n",
    "for box in boxes:\n",
    "    title_tag = box.find_all('h3', class_=\"vertical-activity-card__title vertical-activity-card__title--with-styles\")\n",
    "    for title in title_tag:       \n",
    "        titles = title.get_text(strip=True)\n",
    "        package_title.append(titles if titles else None)\n",
    "\n",
    "\n",
    "\n",
    "#Extracting old_price Data\n",
    "boxc = soup.find_all(\"div\", class_=\"activity-card-block activity-card-block--grid\")\n",
    "for variables in boxc:\n",
    "    froms = variables.find(\"span\", class_=\"baseline-pricing__from--value\") \n",
    "    storage = froms.text\n",
    "    old_price.append(storage)\n",
    "\n",
    "\n",
    "\n",
    "\n",
    "## Extracting Duration Data:\n",
    "bd = soup.find_all(\"div\", class_=\"vertical-activity-card__body\")\n",
    "for anand in bd:\n",
    "    shaw = anand.find('span', class_=\"bullet\")\n",
    "    for avishek in shaw:       \n",
    "        tis = avishek.get_text().strip()\n",
    "        duration.append(tis if tis else None)\n",
    "\n",
    "\n",
    "\n",
    "##Extracting activity_type Data:\n",
    "total_box = soup.find_all(\"div\", class_=\"activity-card-block activity-card-block--grid\")\n",
    "for var in total_box:\n",
    "    google = var.find_all('span', class_=\"c-classifier-badge vertical-activity-card__activity-type\")\n",
    "    for chrome in google:       \n",
    "        new_flipkart = chrome.get_text(strip=True)\n",
    "        activity_type.append(new_flipkart if new_flipkart else None)\n",
    "\n",
    "\n",
    "\n",
    "##Extracting price_category Data:\n",
    "total_boxed = soup.find_all(\"div\", class_=\"activity-card-block activity-card-block--grid\")\n",
    "for google_chrome in total_boxed:\n",
    "    googles = google_chrome.find_all('p', class_=\"baseline-pricing__category\")\n",
    "    for chromes in googles:       \n",
    "        flipkarts = chromes.get_text(strip=True)\n",
    "        price_category.append(flipkarts if flipkarts else None)\n",
    "\n",
    "\n",
    "\n",
    "##Extracting group_category Data:\n",
    "bj = soup.find_all(\"div\", class_=\"vertical-activity-card__body\")\n",
    "for anil in bj:\n",
    "    koko = anil.find('span', class_='')\n",
    "    for sahil in koko:       \n",
    "        ts = sahil.get_text().strip()\n",
    "        group_category.append(ts if ts else None)\n"
   ]
  },
  {
   "cell_type": "code",
   "execution_count": 8,
   "id": "49d7d415-214c-44a8-921a-d87346cb4404",
   "metadata": {},
   "outputs": [
    {
     "name": "stdout",
     "output_type": "stream",
     "text": [
      "package_title: ['From Delhi: Private 3-Day Golden Triangle Tour with Hotels', 'From Delhi: 3-Day Private Golden Triangle Tour with Hotels', 'From Delhi: 2-Day Taj Mahal Sunrise Tour with Fatehpur Sikri', 'From Delhi: 3-Day Golden Triangle Tour with Agra and Jaipur', 'Explore 3-Day Golden Triangle Tour with Hotels from Delhi', 'From Delhi: Private 4-Day Golden Triangle Tour with Pickup', 'From Delhi: Private 4-Day Golden Triangle Luxury Tour', '5 Days Golden Traingle Tour with Breakfast & local Guide', 'From Delhi: Private Tour to Delhi, Agra and Jaipur By Car', 'From Delhi :Private 3 Day Delhi,Agra,Jaipur Tour', 'From Delhi: 5 Days Golden Triangle Delhi, Agra & Jaipur Tour', 'Delhi: 3-Day Delhi, Agra & Jaipur Guided Tour with Hotels', 'From Delhi: Private 2-Day Delhi & Agra Tour with Hotel', 'From Delhi: 3-Day Private Golden Triangle Tour with Hotels', '4-Days Luxury Golden Triangle Tour Agra & Jaipur from Delhi', '2 Days Delhi and Agra Tour by Car With an approved guide', '7 Days Golden Triangle India Tour with Varanasi', 'From Delhi: Private 5-Day Delhi, Agra and Jaipur Tour', 'From Delhi: Private 5 Days Golden Triangle Guided Tour', 'From Delhi : 6 Days Delhi, Jaipur, Agra & Ranthambore By Car', 'New Delhi: 3-Day Private Golden Triangle Tour with Lodging', 'From Delhi: Private 4-Day Golden Triangle Tour with Hotels', '2-Day Private Jaipur City Sightseeing Tour From Delhi', 'From Delhi: 2-Day Golden Triangle Tour to Agra and Jaipur', 'From Delhi: 6-Day Golden Triangle and Udaipur Private Tour', 'From Delhi: 2-Days Luxury Golden Triangle Tour with Hotel', 'From Delhi: Private 4 Days Golden Triangle Tour with Hotels', 'Golden Triangle Tour with Ranthambor Tiger Safari From Delhi', 'From Delhi: Private Tour of Delhi & Agra Overnight By Train', 'From Delhi: Private 2-Day Tour to Agra and Jaipur', 'From Delhi : Golden Triangle Tour With Ranthambore', 'From Delhi: 4-Day Golden Triangle Tour', 'Delhi: 2 Days Taj Mahal Agra, Fatehpur & Bird Sanctuary Tour', 'Delhi: Private 4-Days Golden Triangle Tour with Hotels', 'Private 5 Days Golden Triangle Guided Tour from Delhi', 'From Delhi: Private 11-Days Séjour De Grand Luxe India Tour', 'Delhi: Private 4-Day Delhi-Agra-Jaipur Golden Triangle Tour', 'From Delhi: 2-day Golden Triangle trip to Agra and Jaipur', 'From Delhi: 5-Day Tiger Safari & Golden Triangle Tour', 'From New Delhi : 2 Days Delhi & Agra Tour by Car & Train.', 'From Delhi: Private 5-Day Golden Triangle Tour', 'Overnight Delhi Luxurious Tour (02 Days)', 'From Delhi: 3-Days Luxury Golden Triangle Tour', 'Delhi: Delhi Agra Jaipur Tour Package by car - 3D/2N', 'From Delhi: 4 Days Guided Tour to Agra, Ranthambore & Jaipur', '3 Day / 2 Night- Delhi, Agra & Jaipur Golden Triangle Trip', 'Delhi: Best Tour Guide with Delhi & Taj Mahal Sightseeing', 'From Delhi: Private 3-Day Royal Indian Golden Triangle Tour', 'From Delhi : Best 3 Days Golden Triangle Experience in India', 'From Mumbai: Private Guided Taj Mahal Trip with Overnight', 'From Delhi: All Inclusive Private 3 Day Golden Triangle Tour', 'From Delhi: Private 3-Day Golden Triangle Tour', 'From Delhi: 3 Days Golden Triangle Tour With Taj Mahal', 'From Delhi: 5 Days Delhi, Agra & Jaipur Golden Triangle Tour', '2 Days Jaipur to Agra Tour with Delhi Drop', '7 days india Taj Mahal tour with ranthambore tiger safari', 'Historical, Golden Triangle with Khajuraho Tour (07N / 08D)', 'From Delhi Agra Jaipur 6-Days Private Tour', 'From Delhi: Private 4-Day Golden Triangle Tour', 'Delhi: 5-Day Golden Triangle Guided Private Trip with Entry', 'From Delhi: 4-Day Tiger Safari & Golden Triangle Tour', '06 Days, Delhi Agra Amritsar with Dharamshala Exclusive Tour', 'From Delhi: Agra & Jaipur Private Tour in 2 Days.', 'From Delhi: Private 4-Day Golden Triangle Luxury Tour', 'Luxury 3-Days Delhi Agra Jaipur Private Tour', 'From Delhi: Best of Delhi, Agra and Jaipur 3-Day Tour', '5-Day Delhi Agra Jaipur Private Tour', 'From Delhi: 09 Days Golden Triangle Tour With Varanasi', 'Golden Triangle Tour 4 Nights and 5 Days Package From Delhi', 'From Delhi: 5-Days Private Indian Golden Triangle Tour', 'From New Delhi : 2 Days Delhi & Jaipur City Tour by Car', 'Delhi: 3-Days Delhi Agra Jaipur Private Golden Triangle Tour', 'From Delhi: 3-Days Private Trip to Delhi, Agra and Jaipur', 'Delhi: Amazing Hidden Gems of New Delhi & Taj Mahal Tour', '3 Days Delhi Agra Jaipur Golden Triangle Tour From Delhi', 'From Delhi: Taj Mahal Sunrise with Fatehpur Sikri in 2 Days', 'From Delhi: 4-Days Golden Triangle Tour With Hotel', 'From Delhi: 4-Day Private Golden Triangle Tour with Hotels', 'From Delhi: 3-Day Private Golden Triangle Tour', 'Golden Triangle Tour of India', 'From Delhi: 3-Day Golden Triangle Private Tour with Hotels', 'From New Delhi: Overnight Taj Mahal Tour By Superfast Train', 'Memorable, Delhi, Agra with Khajuraho Tour (05N / 06D)', 'Delhi: Private Delhi Agra Jaipur Tour Package by car - 2N3D', 'From Delhi: 2-Days Delhi and Jaipur Private City Tour', 'From Delhi: 4 Days Golden Triangle Tour Delhi, Agra & Jaipur', '2 Days Delhi and Agra Tour by private car', 'A Land Called India !!', 'From New Delhi : Delhi & Agra 2 Days Tour with Car & Train', '8 Days Motorbike tour (Delhi Agra Jaipur Pushkar) From Delhi'], 90\n"
     ]
    }
   ],
   "source": [
    "print(f\"package_title: {package_title}, {len(package_title)}\")"
   ]
  },
  {
   "cell_type": "code",
   "execution_count": 9,
   "id": "54713e1c-743b-4198-94f0-5f9af7c9b0b0",
   "metadata": {},
   "outputs": [
    {
     "name": "stdout",
     "output_type": "stream",
     "text": [
      "duration: ['3 days', '3 days', '2 days', '3 days', '3 days', '4 days', '4 days', '5 days', '3 days', '3 days', '5 days', '3 days', '2 days', '3 days', '4 days', '2 days', '7 days', '5 days', '5 days', '6 days', '3 days', '4 days', '2 days', '2 days', '6 days', '2 days', '4 days', '3 - 6 days', '22 hours - 2 days', '2 days', '7 days', '4 days', '2 days', '4 days', '5 days', '11 days', '4 days', '2 days', '5 days', '2 days', '5 days', '2 days', '3 days', '3 days', '4 days', '3 days', '2 days', '3 days', '3 days', '2 days', '3 days', '3 days', '3 days', '5 days', '2 days', '7 days', '8 days', '6 days', '4 days', '5 days', '4 days', '6 days', '2 days', '4 days', '3 days', '3 days', '5 days', '9 days', '5 days', '5 days', '2 days', '3 days', '3 days', '2 days', '3 days', '2 days', '4 days', '4 days', '3 days', '3 days', '3 days', '2 days', '6 days', '3 days', '2 days', '4 days', '2 days', '12 days', '2 days', '8 days'], 90\n"
     ]
    }
   ],
   "source": [
    "print(f\"duration: {duration}, {len(duration)}\")"
   ]
  },
  {
   "cell_type": "code",
   "execution_count": 10,
   "id": "4c299ec8-3835-4fc0-8966-1d6f273d5300",
   "metadata": {},
   "outputs": [
    {
     "name": "stdout",
     "output_type": "stream",
     "text": [
      "activity_type: ['Multi-day trip', 'Multi-day trip', 'Multi-day trip', 'Multi-day trip', 'Multi-day trip', 'Multi-day trip', 'Multi-day trip', 'Multi-day trip', 'Multi-day trip', 'Multi-day trip', 'Multi-day trip', 'Multi-day trip', 'Multi-day trip', 'Multi-day trip', 'Multi-day trip', 'Multi-day trip', 'Multi-day trip', 'Multi-day trip', 'Multi-day trip', 'Multi-day trip', 'Multi-day trip', 'Multi-day trip', 'Multi-day trip', 'Multi-day trip', 'Multi-day trip', 'Multi-day trip', 'Multi-day trip', 'Multi-day trip', 'Multi-day trip', 'Multi-day trip', 'Multi-day trip', 'Multi-day trip', 'Multi-day trip', 'Multi-day trip', 'Multi-day trip', 'Multi-day trip', 'Multi-day trip', 'Multi-day trip', 'Multi-day trip', 'Multi-day trip', 'Multi-day trip', 'Multi-day trip', 'Multi-day trip', 'Multi-day trip', 'Multi-day trip', 'Multi-day trip', 'Multi-day trip', 'Multi-day trip', 'Multi-day trip', 'Multi-day trip', 'Multi-day trip', 'Multi-day trip', 'Multi-day trip', 'Multi-day trip', 'Multi-day trip', 'Multi-day trip', 'Multi-day trip', 'Multi-day trip', 'Multi-day trip', 'Multi-day trip', 'Multi-day trip', 'Multi-day trip', 'Multi-day trip', 'Multi-day trip', 'Multi-day trip', 'Multi-day trip', 'Multi-day trip', 'Multi-day trip', 'Multi-day trip', 'Multi-day trip', 'Multi-day trip', 'Multi-day trip', 'Multi-day trip', 'Multi-day trip', 'Multi-day trip', 'Multi-day trip', 'Multi-day trip', 'Multi-day trip', 'Multi-day trip', 'Multi-day trip', 'Multi-day trip', 'Multi-day trip', 'Multi-day trip', 'Multi-day trip', 'Multi-day trip', 'Multi-day trip', 'Multi-day trip', 'Multi-day trip', 'Multi-day trip', 'Multi-day trip'], 90\n"
     ]
    }
   ],
   "source": [
    "print(f\"activity_type: {activity_type}, {len(activity_type)}\")"
   ]
  },
  {
   "cell_type": "code",
   "execution_count": 11,
   "id": "2b4e5223-175a-4fa0-9605-a52e069a5380",
   "metadata": {},
   "outputs": [
    {
     "name": "stdout",
     "output_type": "stream",
     "text": [
      "price_category: ['per person', 'per person', 'per person', 'per person', 'per person', 'per person', 'per person', 'per person', 'per person', 'per person', 'per person', 'per person', 'per person', 'per person', 'per person', 'per person', 'per person', 'per person', 'per person', 'per person', 'per person', 'per person', 'per group up to 2', 'per person', 'per person', 'per person', 'per person', 'per person', 'per person', 'per person', 'per person', 'per person', 'per person', 'per person', 'per person', 'per person', 'per person', 'per person', 'per person', 'per person', 'per person', 'per person', 'per person', 'per person', 'per person', 'per person', 'per person', 'per person', 'per person', 'per person', 'per person', 'per person', 'per person', 'per person', 'per person', 'per person', 'per person', 'per person', 'per person', 'per person', 'per person', 'per person', 'per person', 'per person', 'per group up to 4', 'per person', 'per group up to 4', 'per person', 'per person', 'per person', 'per person', 'per person', 'per person', 'per person', 'per person', 'per person', 'per person', 'per person', 'per person', 'per group up to 4', 'per person', 'per group up to 1', 'per person', 'per person', 'per person', 'per person', 'per person', 'per person', 'per person', 'per person'], 90\n"
     ]
    }
   ],
   "source": [
    "print(f\"price_category: {price_category}, {len(price_category)}\")"
   ]
  },
  {
   "cell_type": "code",
   "execution_count": 12,
   "id": "12141228-d3c8-4421-a633-78594561f397",
   "metadata": {},
   "outputs": [
    {
     "name": "stdout",
     "output_type": "stream",
     "text": [
      "group_category: ['Private group', 'Private group', 'Small group', 'Private group', 'Private group', 'Private group', 'Private group', 'Small group', 'Private group', 'Private group', 'Private group', 'Pickup available', 'Private group', 'Private group', 'Pickup available', 'Private group', 'Pickup available', 'Small group', 'Private group', 'Private group', 'Private group', 'Private group', 'Pickup available', 'Private group', 'Private group', 'Private group', 'Small group', 'Private group', 'Private group', 'Private group', 'Private group', 'Private group', 'Private group', 'Private group', 'Small group', 'Private group', 'Private group', 'Small group', 'Private group', 'Private group', 'Private group', 'Private group', 'Private group', 'Small group', 'Private group', 'Pickup available', 'Private group', 'Private group', 'Small group', 'Private group', 'Private group', 'Private group', 'Private group', 'Private group', 'Pickup available', 'Private group', 'Private group', 'Pickup available', 'Private group', 'Private group', 'Private group', 'Private group', 'Private group', 'Small group', 'Pickup available', 'Private group', 'Pickup available', 'Private group', 'Pickup available', 'Private group', 'Private group', 'Private group', 'Private group', 'Private group', 'Small group', 'Private group', 'Pickup available', 'Private group', 'Private group', 'Pickup available', 'Private group', 'Private group', 'Private group', 'Small group', 'Private group', 'Pickup available', 'Private group', 'Small group', 'Private group', 'Private group'], 90\n"
     ]
    }
   ],
   "source": [
    "print(f\"group_category: {group_category}, {len(group_category)}\")"
   ]
  },
  {
   "cell_type": "code",
   "execution_count": 13,
   "id": "faf36401-868d-465e-87d1-63911a292b1c",
   "metadata": {},
   "outputs": [
    {
     "name": "stdout",
     "output_type": "stream",
     "text": [
      "old_price: [' ₹27,000', ' ₹33,000', ' ₹11,000', ' ₹13,000', ' ₹27,000', ' ₹15,000', ' ₹25,000', ' ₹7,250', ' ₹15,648', ' ₹14,600', ' ₹18,500', ' ₹19,000', ' ₹10,999', ' ₹18,648', ' ₹14,000', ' ₹5,075', ' ₹80,000', ' ₹15,850', ' ₹50,000', ' ₹32,500', ' ₹19,999', ' ₹34,786', ' ₹20,271', ' ₹18,996', ' ₹30,500', ' ₹19,950', ' ₹23,500', ' ₹35,250', ' ₹10,500', ' ₹21,998', ' ₹120,000', ' ₹30,000', ' ₹13,000', ' ₹17,000', ' ₹25,000', ' ₹73,000', ' ₹6,525', ' ₹10,094', ' ₹77,777', ' ₹10,500', ' ₹19,000', ' ₹19,000', ' ₹11,267', ' ₹12,858', ' ₹22,000', ' ₹14,500', ' ₹6,175', ' ₹15,015', ' ₹17,999', ' ₹22,000', ' ₹14,400', ' ₹15,000', ' ₹11,240', ' ₹22,500', ' ₹25,026', ' ₹14,450', ' ₹70,000', ' ₹50,719', ' ₹14,000', ' ₹18,000', ' ₹23,500', ' ₹66,500', ' ₹29,675', ' ₹16,000', ' ₹28,446', ' ₹50,733', ' ₹42,711', ' ₹76,145', ' ₹20,500', ' ₹25,900', ' ₹11,000', ' ₹15,000', ' ₹13,759', ' ₹6,196', ' ₹13,890', ' ₹18,000', ' ₹29,280', ' ₹49,999', ' ₹16,648', ' ₹21,344', ' ₹12,700', ' ₹17,500', ' ₹60,000', ' ₹12,272', ' ₹11,000', ' ₹30,000', ' ₹24,000', ' ₹23,985', ' ₹10,500', ' ₹80,000'], 90\n"
     ]
    }
   ],
   "source": [
    "print(f\"old_price: {old_price}, {len(old_price)}\")"
   ]
  },
  {
   "cell_type": "markdown",
   "id": "3b2c7711-b44b-4a56-bb0f-b19e78bdab3d",
   "metadata": {},
   "source": [
    "## **Extracting Multiple Page Link From Each Package Boxes:**"
   ]
  },
  {
   "cell_type": "code",
   "execution_count": 14,
   "id": "91068dc1-d316-4e38-899d-84c835138d7b",
   "metadata": {},
   "outputs": [
    {
     "name": "stdout",
     "output_type": "stream",
     "text": [
      "jaipur-l1149/from-delhi-delhi-agra-jaipur-golden-triangle-tour-3d2n-t528281/?ranking_uuid=ac64758f-7c71-429e-8420-2acf1e1e7367\n",
      "new-delhi-l231/from-delhi-3-days-delhi-agra-jaipur-golden-triangle-tour-t445328/?ranking_uuid=ac64758f-7c71-429e-8420-2acf1e1e7367\n",
      "new-delhi-l231/delhi-or-gurgaon-private-2-day-taj-mahal-baby-taj-tour-t444248/?ranking_uuid=ac64758f-7c71-429e-8420-2acf1e1e7367\n",
      "jaipur-l1149/from-delhi-3-day-golden-triangle-tour-with-agra-and-jaipur-t625446/?ranking_uuid=ac64758f-7c71-429e-8420-2acf1e1e7367\n",
      "jaipur-l1149/explore-3-day-golden-triangle-tour-with-hotels-from-delhi-t554624/?ranking_uuid=ac64758f-7c71-429e-8420-2acf1e1e7367\n",
      "jaipur-l1149/from-delhi-full-day-private-sightseeing-tour-in-jaipur-t364130/?ranking_uuid=ac64758f-7c71-429e-8420-2acf1e1e7367\n",
      "new-delhi-l231/from-delhi-private-4-day-golden-triangle-luxury-tour-t532034/?ranking_uuid=ac64758f-7c71-429e-8420-2acf1e1e7367\n",
      "new-delhi-l231/5-days-golden-traingle-tour-with-breakfast-local-guide-t558526/?ranking_uuid=ac64758f-7c71-429e-8420-2acf1e1e7367\n",
      "new-delhi-l231/from-delhi-3-days-luxury-golden-triangle-private-tour-t465169/?ranking_uuid=ac64758f-7c71-429e-8420-2acf1e1e7367\n",
      "new-delhi-l231/from-delhi-private-4-day-delhiagrajaipur-tour-t480104/?ranking_uuid=ac64758f-7c71-429e-8420-2acf1e1e7367\n",
      "new-delhi-l231/from-new-delhi-delhi-agra-jaipur-golden-triangle-tour-t469612/?ranking_uuid=ac64758f-7c71-429e-8420-2acf1e1e7367\n",
      "new-delhi-l231/from-delhi-3-days-delhi-agra-jaipur-golden-triangle-tour-t479594/?ranking_uuid=ac64758f-7c71-429e-8420-2acf1e1e7367\n",
      "new-delhi-l231/private-2-days-agra-and-delhi-tour-from-delhi-t444540/?ranking_uuid=ac64758f-7c71-429e-8420-2acf1e1e7367\n",
      "jaipur-l1149/from-delhi-3-day-golden-triangle-tour-with-accommodation-t626249/?ranking_uuid=ac64758f-7c71-429e-8420-2acf1e1e7367\n",
      "new-delhi-l231/from-delhi-private-4-days-golden-triangle-tour-by-ac-car-t555609/?ranking_uuid=ac64758f-7c71-429e-8420-2acf1e1e7367\n",
      "agra-l824/delhi-agra-sightseeing-city-tour-with-local-guide-t500071/?ranking_uuid=ac64758f-7c71-429e-8420-2acf1e1e7367\n",
      "new-delhi-l231/7-days-golden-triangle-india-tour-with-varanasi-t508120/?ranking_uuid=74e598e2-92d4-4576-bec5-273ba2b3a2b0\n",
      "new-delhi-l231/delhi-private-5-day-delhi-agra-and-jaipur-tour-t629383/?ranking_uuid=74e598e2-92d4-4576-bec5-273ba2b3a2b0\n",
      "jaipur-l1149/5-days-golden-triangle-guided-tour-from-delhi-agra-jaipur-t533623/?ranking_uuid=74e598e2-92d4-4576-bec5-273ba2b3a2b0\n",
      "new-delhi-l231/from-delhi-6-days-delhi-jaipur-agra-ranthambore-by-car-t497491/?ranking_uuid=74e598e2-92d4-4576-bec5-273ba2b3a2b0\n",
      "new-delhi-l231/from-delhi-golden-triangle-3-days-private-tour-t490130/?ranking_uuid=74e598e2-92d4-4576-bec5-273ba2b3a2b0\n",
      "new-delhi-l231/from-delhi-4-day-golden-triangle-tour-with-accommodation-t637208/?ranking_uuid=74e598e2-92d4-4576-bec5-273ba2b3a2b0\n",
      "jaipur-l1149/2-day-private-jaipur-city-sightseeing-tour-from-delhi-t491876/?ranking_uuid=74e598e2-92d4-4576-bec5-273ba2b3a2b0\n",
      "jaipur-l1149/from-delhi-2-day-golden-triangle-tour-with-hotel-stay-t630481/?ranking_uuid=74e598e2-92d4-4576-bec5-273ba2b3a2b0\n",
      "jaipur-l1149/from-delhi-6-day-golden-triangle-and-udaipur-private-tour-t554712/?ranking_uuid=74e598e2-92d4-4576-bec5-273ba2b3a2b0\n",
      "jaipur-l1149/from-delhi-2-days-private-luxury-golden-triangle-tour-t730656/?ranking_uuid=74e598e2-92d4-4576-bec5-273ba2b3a2b0\n",
      "agra-l824/from-delhi-private-4-days-golden-triangle-tour-with-hotels-t543939/?ranking_uuid=74e598e2-92d4-4576-bec5-273ba2b3a2b0\n",
      "new-delhi-l231/2day-agra-jaipur-private-tour-with-taj-mahal-breakfast-t599419/?ranking_uuid=74e598e2-92d4-4576-bec5-273ba2b3a2b0\n",
      "new-delhi-l231/from-new-delhi-delhi-agra-overnight-tour-by-car-train-t476802/?ranking_uuid=74e598e2-92d4-4576-bec5-273ba2b3a2b0\n",
      "new-delhi-l231/from-delhi-2-days-agra-jaipur-golden-triangle-tour-t444818/?ranking_uuid=74e598e2-92d4-4576-bec5-273ba2b3a2b0\n",
      "agra-l824/golden-triangle-tour-with-ranthambore-t471881/?ranking_uuid=74e598e2-92d4-4576-bec5-273ba2b3a2b0\n",
      "new-delhi-l231/from-delhi-4-day-golden-triangle-tour-t479885/?ranking_uuid=74e598e2-92d4-4576-bec5-273ba2b3a2b0\n",
      "agra-l824/delhi-2-days-taj-mahal-agra-fatehpur-bird-sanctuary-tour-t491564/?ranking_uuid=ac19910f-e23e-4df0-81b8-7f1ab312174b\n",
      "faridabad-l99714/delhi-private-4-days-golden-triangle-tour-with-hotels-t625578/?ranking_uuid=ac19910f-e23e-4df0-81b8-7f1ab312174b\n",
      "faridabad-l99714/private-5-days-golden-triangle-guided-tour-from-delhi-t544617/?ranking_uuid=ac19910f-e23e-4df0-81b8-7f1ab312174b\n",
      "new-delhi-l231/from-delhi-private-11-days-sejour-de-grand-luxe-india-tour-t618173/?ranking_uuid=ac19910f-e23e-4df0-81b8-7f1ab312174b\n",
      "new-delhi-l231/from-delhi-4-days-delhi-agra-jaipur-golden-triangle-tour-t485327/?ranking_uuid=ac19910f-e23e-4df0-81b8-7f1ab312174b\n",
      "new-delhi-l231/from-delhi-two-day-golden-triangle-trip-to-agra-and-jaipur-t659421/?ranking_uuid=ac19910f-e23e-4df0-81b8-7f1ab312174b\n",
      "new-delhi-l231/from-delhi-5-days-golden-triangle-ranthambore-tiger-tour-t446608/?ranking_uuid=ac19910f-e23e-4df0-81b8-7f1ab312174b\n",
      "new-delhi-l231/from-new-delhi-2-days-delhi-agra-tour-by-car-train-t470416/?ranking_uuid=ac19910f-e23e-4df0-81b8-7f1ab312174b\n",
      "new-delhi-l231/from-delhi-private-5-day-golden-triangle-tour-t617429/?ranking_uuid=ac19910f-e23e-4df0-81b8-7f1ab312174b\n",
      "new-delhi-l231/overnight-delhi-luxurious-tour-02-days-t653443/?ranking_uuid=ac19910f-e23e-4df0-81b8-7f1ab312174b\n",
      "ghaziabad-l102243/from-delhi-3-days-luxury-golden-triangle-tour-t674865/?ranking_uuid=ac19910f-e23e-4df0-81b8-7f1ab312174b\n",
      "new-delhi-l231/delhi-delhi-agra-jaipur-tour-package-by-car-3d2n-t544605/?ranking_uuid=ac19910f-e23e-4df0-81b8-7f1ab312174b\n",
      "new-delhi-l231/from-delhi-4-day-guided-tour-to-agra-ranthambore-jaipur-t629136/?ranking_uuid=ac19910f-e23e-4df0-81b8-7f1ab312174b\n",
      "new-delhi-l231/from-delhi-3-day-delhi-agra-jaipur-golden-triangle-trip-t519402/?ranking_uuid=ac19910f-e23e-4df0-81b8-7f1ab312174b\n",
      "agra-l824/english-speaking-tourist-guide-for-delhi-sightseeing-t500168/?ranking_uuid=ac19910f-e23e-4df0-81b8-7f1ab312174b\n",
      "jaipur-l1149/from-delhi-private-3-days-golden-triangle-tour-with-hotels-t669932/?ranking_uuid=ac19910f-e23e-4df0-81b8-7f1ab312174b\n",
      "new-delhi-l231/3-day-private-golden-triangle-tour-delhi-agra-and-jaipur-t542958/?ranking_uuid=f17282f7-9d40-4bcc-8c34-13c59db7a5ae\n",
      "mumbai-l201/welcome-to-heart-of-mughal-dynasty-from-mumbai-t451891/?ranking_uuid=f17282f7-9d40-4bcc-8c34-13c59db7a5ae\n",
      "new-delhi-l231/from-delhi-all-inclusive-private-3-day-golden-triangle-tour-t553261/?ranking_uuid=f17282f7-9d40-4bcc-8c34-13c59db7a5ae\n",
      "new-delhi-l231/from-delhi-private-3-day-golden-triangle-tour-t617557/?ranking_uuid=f17282f7-9d40-4bcc-8c34-13c59db7a5ae\n",
      "agra-l824/from-delhi-3-days-delhi-agra-jaipur-tour-by-ac-car-t503428/?ranking_uuid=f17282f7-9d40-4bcc-8c34-13c59db7a5ae\n",
      "new-delhi-l231/from-delhi-5-days-delhi-agra-jaipur-golden-triangle-tour-t474717/?ranking_uuid=f17282f7-9d40-4bcc-8c34-13c59db7a5ae\n",
      "new-delhi-l231/2-days-jaipur-to-agra-delhi-drop-off-t494581/?ranking_uuid=f17282f7-9d40-4bcc-8c34-13c59db7a5ae\n",
      "agra-l824/7-days-golden-triangle-tour-with-ranthambhore-tiger-safari-t502127/?ranking_uuid=f17282f7-9d40-4bcc-8c34-13c59db7a5ae\n",
      "new-delhi-l231/historical-golden-triangle-with-khajuraho-tour-07n-08d-t649660/?ranking_uuid=f17282f7-9d40-4bcc-8c34-13c59db7a5ae\n",
      "new-delhi-l231/from-delhi-luxury-golden-triangle-6-days-private-tour-t493319/?ranking_uuid=f17282f7-9d40-4bcc-8c34-13c59db7a5ae\n",
      "new-delhi-l231/from-delhi-private-4-day-golden-triangle-tour-t617516/?ranking_uuid=f17282f7-9d40-4bcc-8c34-13c59db7a5ae\n",
      "new-delhi-l231/delhi-5-day-golden-triangle-guided-private-trip-with-entry-t534075/?ranking_uuid=f17282f7-9d40-4bcc-8c34-13c59db7a5ae\n",
      "new-delhi-l231/from-delhi-4-day-tiger-safari-golden-triangle-tour-t668754/?ranking_uuid=f17282f7-9d40-4bcc-8c34-13c59db7a5ae\n",
      "new-delhi-l231/06-days-delhi-agra-amritsar-with-dharamshala-exclusive-tour-t673268/?ranking_uuid=f17282f7-9d40-4bcc-8c34-13c59db7a5ae\n",
      "new-delhi-l231/from-delhi-agra-jaipur-guided-tour-with-private-transfers-t470384/?ranking_uuid=f17282f7-9d40-4bcc-8c34-13c59db7a5ae\n",
      "jaipur-l1149/from-delhi-private-4-day-golden-triangle-luxury-tour-t667370/?ranking_uuid=f17282f7-9d40-4bcc-8c34-13c59db7a5ae\n",
      "new-delhi-l231/from-delhi-luxury-3-days-golden-triangle-private-tour-t493336/?ranking_uuid=6e052990-d987-4e9c-a1a1-7725632a6ae9\n",
      "new-delhi-l231/from-delhi-private-3-day-golden-triangle-tour-with-hotel-t647485/?ranking_uuid=6e052990-d987-4e9c-a1a1-7725632a6ae9\n",
      "new-delhi-l231/from-delhi-5-day-golden-triangle-private-tour-t493286/?ranking_uuid=6e052990-d987-4e9c-a1a1-7725632a6ae9\n",
      "new-delhi-l231/from-delhi-golden-triangle-tour-with-spiritual-varanasi-t482887/?ranking_uuid=6e052990-d987-4e9c-a1a1-7725632a6ae9\n",
      "jaipur-l1149/golden-triangle-tour-4-nights-and-5-days-package-from-delhi-t613852/?ranking_uuid=6e052990-d987-4e9c-a1a1-7725632a6ae9\n",
      "new-delhi-l231/from-delhi-5-days-private-golden-triangle-tour-t454364/?ranking_uuid=6e052990-d987-4e9c-a1a1-7725632a6ae9\n",
      "new-delhi-l231/from-delhi-2-days-delhi-jaipur-sightseeing-tour-by-car-t468965/?ranking_uuid=6e052990-d987-4e9c-a1a1-7725632a6ae9\n",
      "new-delhi-l231/3-days-delhi-agra-tour-with-transport-guide-t531740/?ranking_uuid=6e052990-d987-4e9c-a1a1-7725632a6ae9\n",
      "new-delhi-l231/from-delhi-private-3-day-agra-and-jaipur-tour-with-hotels-t618648/?ranking_uuid=6e052990-d987-4e9c-a1a1-7725632a6ae9\n",
      "new-delhi-l231/delhi-amazing-hidden-gems-of-new-delhi-taj-mahal-tour-t558518/?ranking_uuid=6e052990-d987-4e9c-a1a1-7725632a6ae9\n",
      "new-delhi-l231/3-days-delhi-agra-jaipur-golden-triangle-tour-from-delhi-t553340/?ranking_uuid=6e052990-d987-4e9c-a1a1-7725632a6ae9\n",
      "agra-l824/from-delhi-taj-mahal-sunrise-with-fatehpur-sikri-in-2-days-t644412/?ranking_uuid=6e052990-d987-4e9c-a1a1-7725632a6ae9\n",
      "new-delhi-l231/from-delhi-4-days-golden-triangle-luxury-private-tour-t493362/?ranking_uuid=6e052990-d987-4e9c-a1a1-7725632a6ae9\n",
      "new-delhi-l231/from-delhi-private-4-days-golden-triangle-tour-t446247/?ranking_uuid=6e052990-d987-4e9c-a1a1-7725632a6ae9\n",
      "new-delhi-l231/3-days-private-golden-triangle-tour-delhi-agra-and-jaipur-t557820/?ranking_uuid=6e052990-d987-4e9c-a1a1-7725632a6ae9\n",
      "jaipur-l1149/golden-triangle-tour-of-india-t583955/?ranking_uuid=6e052990-d987-4e9c-a1a1-7725632a6ae9\n",
      "jaipur-l1149/from-delhi-3-day-golden-triangle-private-tour-with-hotels-t697022/?ranking_uuid=d7d93e7a-e2ca-46f6-b293-30efd4d9c2c2\n",
      "new-delhi-l231/from-new-delhi-overnight-agra-tour-by-vande-bharat-express-t476009/?ranking_uuid=d7d93e7a-e2ca-46f6-b293-30efd4d9c2c2\n",
      "new-delhi-l231/memorable-delhi-agra-with-khajuraho-tour-05n-06d-t649689/?ranking_uuid=d7d93e7a-e2ca-46f6-b293-30efd4d9c2c2\n",
      "new-delhi-l231/delhi-private-delhi-agra-jaipur-tour-package-by-car-2n3d-t479439/?ranking_uuid=d7d93e7a-e2ca-46f6-b293-30efd4d9c2c2\n",
      "new-delhi-l231/from-delhi-2-days-delhi-jaipur-city-sightseeing-tour-t484505/?ranking_uuid=d7d93e7a-e2ca-46f6-b293-30efd4d9c2c2\n",
      "jaipur-l1149/from-delhi-4-days-golden-triangle-tour-delhi-agra-jaipur-t532451/?ranking_uuid=d7d93e7a-e2ca-46f6-b293-30efd4d9c2c2\n",
      "new-delhi-l231/2-days-delhi-and-agra-tour-by-private-car-t474034/?ranking_uuid=d7d93e7a-e2ca-46f6-b293-30efd4d9c2c2\n",
      "new-delhi-l231/a-land-called-india--t709558/?ranking_uuid=d7d93e7a-e2ca-46f6-b293-30efd4d9c2c2\n",
      "new-delhi-l231/from-new-delhi-delhi-agra-2-days-tour-with-car-train-t470646/?ranking_uuid=d7d93e7a-e2ca-46f6-b293-30efd4d9c2c2\n",
      "jaipur-l1149/8-days-motorbike-tour-tour-delhi-agra-jaipur-pushkar-t529956/?ranking_uuid=d7d93e7a-e2ca-46f6-b293-30efd4d9c2c2\n",
      "Total links extracted: 90\n"
     ]
    }
   ],
   "source": [
    "Page_Links = []\n",
    "\n",
    "\n",
    "boxed = soup.find_all(\"div\", class_=\"activity-card-block activity-card-block--grid\")\n",
    "\n",
    "for box in boxed:\n",
    "    a_tag = box.find('a', href=True, attrs={'data-activity-id': True})\n",
    "    if a_tag: ## Its Work finally\n",
    "        Page_Links.append(a_tag['href'])\n",
    "\n",
    "for href in Page_Links:\n",
    "    print(href)\n",
    "\n",
    "print(f'Total links extracted: {len(Page_Links)}')"
   ]
  },
  {
   "cell_type": "markdown",
   "id": "938b168b-4e0b-4df4-b206-0d29786b9f84",
   "metadata": {},
   "source": [
    "## Making Multiple Page links and save into **`created_link`** variable:"
   ]
  },
  {
   "cell_type": "code",
   "execution_count": 15,
   "id": "ed0a7402-72ca-4348-94cc-b56d16db05fa",
   "metadata": {
    "scrolled": true
   },
   "outputs": [
    {
     "name": "stdout",
     "output_type": "stream",
     "text": [
      "90\n"
     ]
    },
    {
     "data": {
      "text/plain": [
       "['https://www.getyourguide.com/jaipur-l1149/from-delhi-delhi-agra-jaipur-golden-triangle-tour-3d2n-t528281/?ranking_uuid=ac64758f-7c71-429e-8420-2acf1e1e7367',\n",
       " 'https://www.getyourguide.com/new-delhi-l231/from-delhi-3-days-delhi-agra-jaipur-golden-triangle-tour-t445328/?ranking_uuid=ac64758f-7c71-429e-8420-2acf1e1e7367',\n",
       " 'https://www.getyourguide.com/new-delhi-l231/delhi-or-gurgaon-private-2-day-taj-mahal-baby-taj-tour-t444248/?ranking_uuid=ac64758f-7c71-429e-8420-2acf1e1e7367',\n",
       " 'https://www.getyourguide.com/jaipur-l1149/from-delhi-3-day-golden-triangle-tour-with-agra-and-jaipur-t625446/?ranking_uuid=ac64758f-7c71-429e-8420-2acf1e1e7367',\n",
       " 'https://www.getyourguide.com/jaipur-l1149/explore-3-day-golden-triangle-tour-with-hotels-from-delhi-t554624/?ranking_uuid=ac64758f-7c71-429e-8420-2acf1e1e7367',\n",
       " 'https://www.getyourguide.com/jaipur-l1149/from-delhi-full-day-private-sightseeing-tour-in-jaipur-t364130/?ranking_uuid=ac64758f-7c71-429e-8420-2acf1e1e7367',\n",
       " 'https://www.getyourguide.com/new-delhi-l231/from-delhi-private-4-day-golden-triangle-luxury-tour-t532034/?ranking_uuid=ac64758f-7c71-429e-8420-2acf1e1e7367',\n",
       " 'https://www.getyourguide.com/new-delhi-l231/5-days-golden-traingle-tour-with-breakfast-local-guide-t558526/?ranking_uuid=ac64758f-7c71-429e-8420-2acf1e1e7367',\n",
       " 'https://www.getyourguide.com/new-delhi-l231/from-delhi-3-days-luxury-golden-triangle-private-tour-t465169/?ranking_uuid=ac64758f-7c71-429e-8420-2acf1e1e7367',\n",
       " 'https://www.getyourguide.com/new-delhi-l231/from-delhi-private-4-day-delhiagrajaipur-tour-t480104/?ranking_uuid=ac64758f-7c71-429e-8420-2acf1e1e7367',\n",
       " 'https://www.getyourguide.com/new-delhi-l231/from-new-delhi-delhi-agra-jaipur-golden-triangle-tour-t469612/?ranking_uuid=ac64758f-7c71-429e-8420-2acf1e1e7367',\n",
       " 'https://www.getyourguide.com/new-delhi-l231/from-delhi-3-days-delhi-agra-jaipur-golden-triangle-tour-t479594/?ranking_uuid=ac64758f-7c71-429e-8420-2acf1e1e7367',\n",
       " 'https://www.getyourguide.com/new-delhi-l231/private-2-days-agra-and-delhi-tour-from-delhi-t444540/?ranking_uuid=ac64758f-7c71-429e-8420-2acf1e1e7367',\n",
       " 'https://www.getyourguide.com/jaipur-l1149/from-delhi-3-day-golden-triangle-tour-with-accommodation-t626249/?ranking_uuid=ac64758f-7c71-429e-8420-2acf1e1e7367',\n",
       " 'https://www.getyourguide.com/new-delhi-l231/from-delhi-private-4-days-golden-triangle-tour-by-ac-car-t555609/?ranking_uuid=ac64758f-7c71-429e-8420-2acf1e1e7367',\n",
       " 'https://www.getyourguide.com/agra-l824/delhi-agra-sightseeing-city-tour-with-local-guide-t500071/?ranking_uuid=ac64758f-7c71-429e-8420-2acf1e1e7367',\n",
       " 'https://www.getyourguide.com/new-delhi-l231/7-days-golden-triangle-india-tour-with-varanasi-t508120/?ranking_uuid=74e598e2-92d4-4576-bec5-273ba2b3a2b0',\n",
       " 'https://www.getyourguide.com/new-delhi-l231/delhi-private-5-day-delhi-agra-and-jaipur-tour-t629383/?ranking_uuid=74e598e2-92d4-4576-bec5-273ba2b3a2b0',\n",
       " 'https://www.getyourguide.com/jaipur-l1149/5-days-golden-triangle-guided-tour-from-delhi-agra-jaipur-t533623/?ranking_uuid=74e598e2-92d4-4576-bec5-273ba2b3a2b0',\n",
       " 'https://www.getyourguide.com/new-delhi-l231/from-delhi-6-days-delhi-jaipur-agra-ranthambore-by-car-t497491/?ranking_uuid=74e598e2-92d4-4576-bec5-273ba2b3a2b0',\n",
       " 'https://www.getyourguide.com/new-delhi-l231/from-delhi-golden-triangle-3-days-private-tour-t490130/?ranking_uuid=74e598e2-92d4-4576-bec5-273ba2b3a2b0',\n",
       " 'https://www.getyourguide.com/new-delhi-l231/from-delhi-4-day-golden-triangle-tour-with-accommodation-t637208/?ranking_uuid=74e598e2-92d4-4576-bec5-273ba2b3a2b0',\n",
       " 'https://www.getyourguide.com/jaipur-l1149/2-day-private-jaipur-city-sightseeing-tour-from-delhi-t491876/?ranking_uuid=74e598e2-92d4-4576-bec5-273ba2b3a2b0',\n",
       " 'https://www.getyourguide.com/jaipur-l1149/from-delhi-2-day-golden-triangle-tour-with-hotel-stay-t630481/?ranking_uuid=74e598e2-92d4-4576-bec5-273ba2b3a2b0',\n",
       " 'https://www.getyourguide.com/jaipur-l1149/from-delhi-6-day-golden-triangle-and-udaipur-private-tour-t554712/?ranking_uuid=74e598e2-92d4-4576-bec5-273ba2b3a2b0',\n",
       " 'https://www.getyourguide.com/jaipur-l1149/from-delhi-2-days-private-luxury-golden-triangle-tour-t730656/?ranking_uuid=74e598e2-92d4-4576-bec5-273ba2b3a2b0',\n",
       " 'https://www.getyourguide.com/agra-l824/from-delhi-private-4-days-golden-triangle-tour-with-hotels-t543939/?ranking_uuid=74e598e2-92d4-4576-bec5-273ba2b3a2b0',\n",
       " 'https://www.getyourguide.com/new-delhi-l231/2day-agra-jaipur-private-tour-with-taj-mahal-breakfast-t599419/?ranking_uuid=74e598e2-92d4-4576-bec5-273ba2b3a2b0',\n",
       " 'https://www.getyourguide.com/new-delhi-l231/from-new-delhi-delhi-agra-overnight-tour-by-car-train-t476802/?ranking_uuid=74e598e2-92d4-4576-bec5-273ba2b3a2b0',\n",
       " 'https://www.getyourguide.com/new-delhi-l231/from-delhi-2-days-agra-jaipur-golden-triangle-tour-t444818/?ranking_uuid=74e598e2-92d4-4576-bec5-273ba2b3a2b0',\n",
       " 'https://www.getyourguide.com/agra-l824/golden-triangle-tour-with-ranthambore-t471881/?ranking_uuid=74e598e2-92d4-4576-bec5-273ba2b3a2b0',\n",
       " 'https://www.getyourguide.com/new-delhi-l231/from-delhi-4-day-golden-triangle-tour-t479885/?ranking_uuid=74e598e2-92d4-4576-bec5-273ba2b3a2b0',\n",
       " 'https://www.getyourguide.com/agra-l824/delhi-2-days-taj-mahal-agra-fatehpur-bird-sanctuary-tour-t491564/?ranking_uuid=ac19910f-e23e-4df0-81b8-7f1ab312174b',\n",
       " 'https://www.getyourguide.com/faridabad-l99714/delhi-private-4-days-golden-triangle-tour-with-hotels-t625578/?ranking_uuid=ac19910f-e23e-4df0-81b8-7f1ab312174b',\n",
       " 'https://www.getyourguide.com/faridabad-l99714/private-5-days-golden-triangle-guided-tour-from-delhi-t544617/?ranking_uuid=ac19910f-e23e-4df0-81b8-7f1ab312174b',\n",
       " 'https://www.getyourguide.com/new-delhi-l231/from-delhi-private-11-days-sejour-de-grand-luxe-india-tour-t618173/?ranking_uuid=ac19910f-e23e-4df0-81b8-7f1ab312174b',\n",
       " 'https://www.getyourguide.com/new-delhi-l231/from-delhi-4-days-delhi-agra-jaipur-golden-triangle-tour-t485327/?ranking_uuid=ac19910f-e23e-4df0-81b8-7f1ab312174b',\n",
       " 'https://www.getyourguide.com/new-delhi-l231/from-delhi-two-day-golden-triangle-trip-to-agra-and-jaipur-t659421/?ranking_uuid=ac19910f-e23e-4df0-81b8-7f1ab312174b',\n",
       " 'https://www.getyourguide.com/new-delhi-l231/from-delhi-5-days-golden-triangle-ranthambore-tiger-tour-t446608/?ranking_uuid=ac19910f-e23e-4df0-81b8-7f1ab312174b',\n",
       " 'https://www.getyourguide.com/new-delhi-l231/from-new-delhi-2-days-delhi-agra-tour-by-car-train-t470416/?ranking_uuid=ac19910f-e23e-4df0-81b8-7f1ab312174b',\n",
       " 'https://www.getyourguide.com/new-delhi-l231/from-delhi-private-5-day-golden-triangle-tour-t617429/?ranking_uuid=ac19910f-e23e-4df0-81b8-7f1ab312174b',\n",
       " 'https://www.getyourguide.com/new-delhi-l231/overnight-delhi-luxurious-tour-02-days-t653443/?ranking_uuid=ac19910f-e23e-4df0-81b8-7f1ab312174b',\n",
       " 'https://www.getyourguide.com/ghaziabad-l102243/from-delhi-3-days-luxury-golden-triangle-tour-t674865/?ranking_uuid=ac19910f-e23e-4df0-81b8-7f1ab312174b',\n",
       " 'https://www.getyourguide.com/new-delhi-l231/delhi-delhi-agra-jaipur-tour-package-by-car-3d2n-t544605/?ranking_uuid=ac19910f-e23e-4df0-81b8-7f1ab312174b',\n",
       " 'https://www.getyourguide.com/new-delhi-l231/from-delhi-4-day-guided-tour-to-agra-ranthambore-jaipur-t629136/?ranking_uuid=ac19910f-e23e-4df0-81b8-7f1ab312174b',\n",
       " 'https://www.getyourguide.com/new-delhi-l231/from-delhi-3-day-delhi-agra-jaipur-golden-triangle-trip-t519402/?ranking_uuid=ac19910f-e23e-4df0-81b8-7f1ab312174b',\n",
       " 'https://www.getyourguide.com/agra-l824/english-speaking-tourist-guide-for-delhi-sightseeing-t500168/?ranking_uuid=ac19910f-e23e-4df0-81b8-7f1ab312174b',\n",
       " 'https://www.getyourguide.com/jaipur-l1149/from-delhi-private-3-days-golden-triangle-tour-with-hotels-t669932/?ranking_uuid=ac19910f-e23e-4df0-81b8-7f1ab312174b',\n",
       " 'https://www.getyourguide.com/new-delhi-l231/3-day-private-golden-triangle-tour-delhi-agra-and-jaipur-t542958/?ranking_uuid=f17282f7-9d40-4bcc-8c34-13c59db7a5ae',\n",
       " 'https://www.getyourguide.com/mumbai-l201/welcome-to-heart-of-mughal-dynasty-from-mumbai-t451891/?ranking_uuid=f17282f7-9d40-4bcc-8c34-13c59db7a5ae',\n",
       " 'https://www.getyourguide.com/new-delhi-l231/from-delhi-all-inclusive-private-3-day-golden-triangle-tour-t553261/?ranking_uuid=f17282f7-9d40-4bcc-8c34-13c59db7a5ae',\n",
       " 'https://www.getyourguide.com/new-delhi-l231/from-delhi-private-3-day-golden-triangle-tour-t617557/?ranking_uuid=f17282f7-9d40-4bcc-8c34-13c59db7a5ae',\n",
       " 'https://www.getyourguide.com/agra-l824/from-delhi-3-days-delhi-agra-jaipur-tour-by-ac-car-t503428/?ranking_uuid=f17282f7-9d40-4bcc-8c34-13c59db7a5ae',\n",
       " 'https://www.getyourguide.com/new-delhi-l231/from-delhi-5-days-delhi-agra-jaipur-golden-triangle-tour-t474717/?ranking_uuid=f17282f7-9d40-4bcc-8c34-13c59db7a5ae',\n",
       " 'https://www.getyourguide.com/new-delhi-l231/2-days-jaipur-to-agra-delhi-drop-off-t494581/?ranking_uuid=f17282f7-9d40-4bcc-8c34-13c59db7a5ae',\n",
       " 'https://www.getyourguide.com/agra-l824/7-days-golden-triangle-tour-with-ranthambhore-tiger-safari-t502127/?ranking_uuid=f17282f7-9d40-4bcc-8c34-13c59db7a5ae',\n",
       " 'https://www.getyourguide.com/new-delhi-l231/historical-golden-triangle-with-khajuraho-tour-07n-08d-t649660/?ranking_uuid=f17282f7-9d40-4bcc-8c34-13c59db7a5ae',\n",
       " 'https://www.getyourguide.com/new-delhi-l231/from-delhi-luxury-golden-triangle-6-days-private-tour-t493319/?ranking_uuid=f17282f7-9d40-4bcc-8c34-13c59db7a5ae',\n",
       " 'https://www.getyourguide.com/new-delhi-l231/from-delhi-private-4-day-golden-triangle-tour-t617516/?ranking_uuid=f17282f7-9d40-4bcc-8c34-13c59db7a5ae',\n",
       " 'https://www.getyourguide.com/new-delhi-l231/delhi-5-day-golden-triangle-guided-private-trip-with-entry-t534075/?ranking_uuid=f17282f7-9d40-4bcc-8c34-13c59db7a5ae',\n",
       " 'https://www.getyourguide.com/new-delhi-l231/from-delhi-4-day-tiger-safari-golden-triangle-tour-t668754/?ranking_uuid=f17282f7-9d40-4bcc-8c34-13c59db7a5ae',\n",
       " 'https://www.getyourguide.com/new-delhi-l231/06-days-delhi-agra-amritsar-with-dharamshala-exclusive-tour-t673268/?ranking_uuid=f17282f7-9d40-4bcc-8c34-13c59db7a5ae',\n",
       " 'https://www.getyourguide.com/new-delhi-l231/from-delhi-agra-jaipur-guided-tour-with-private-transfers-t470384/?ranking_uuid=f17282f7-9d40-4bcc-8c34-13c59db7a5ae',\n",
       " 'https://www.getyourguide.com/jaipur-l1149/from-delhi-private-4-day-golden-triangle-luxury-tour-t667370/?ranking_uuid=f17282f7-9d40-4bcc-8c34-13c59db7a5ae',\n",
       " 'https://www.getyourguide.com/new-delhi-l231/from-delhi-luxury-3-days-golden-triangle-private-tour-t493336/?ranking_uuid=6e052990-d987-4e9c-a1a1-7725632a6ae9',\n",
       " 'https://www.getyourguide.com/new-delhi-l231/from-delhi-private-3-day-golden-triangle-tour-with-hotel-t647485/?ranking_uuid=6e052990-d987-4e9c-a1a1-7725632a6ae9',\n",
       " 'https://www.getyourguide.com/new-delhi-l231/from-delhi-5-day-golden-triangle-private-tour-t493286/?ranking_uuid=6e052990-d987-4e9c-a1a1-7725632a6ae9',\n",
       " 'https://www.getyourguide.com/new-delhi-l231/from-delhi-golden-triangle-tour-with-spiritual-varanasi-t482887/?ranking_uuid=6e052990-d987-4e9c-a1a1-7725632a6ae9',\n",
       " 'https://www.getyourguide.com/jaipur-l1149/golden-triangle-tour-4-nights-and-5-days-package-from-delhi-t613852/?ranking_uuid=6e052990-d987-4e9c-a1a1-7725632a6ae9',\n",
       " 'https://www.getyourguide.com/new-delhi-l231/from-delhi-5-days-private-golden-triangle-tour-t454364/?ranking_uuid=6e052990-d987-4e9c-a1a1-7725632a6ae9',\n",
       " 'https://www.getyourguide.com/new-delhi-l231/from-delhi-2-days-delhi-jaipur-sightseeing-tour-by-car-t468965/?ranking_uuid=6e052990-d987-4e9c-a1a1-7725632a6ae9',\n",
       " 'https://www.getyourguide.com/new-delhi-l231/3-days-delhi-agra-tour-with-transport-guide-t531740/?ranking_uuid=6e052990-d987-4e9c-a1a1-7725632a6ae9',\n",
       " 'https://www.getyourguide.com/new-delhi-l231/from-delhi-private-3-day-agra-and-jaipur-tour-with-hotels-t618648/?ranking_uuid=6e052990-d987-4e9c-a1a1-7725632a6ae9',\n",
       " 'https://www.getyourguide.com/new-delhi-l231/delhi-amazing-hidden-gems-of-new-delhi-taj-mahal-tour-t558518/?ranking_uuid=6e052990-d987-4e9c-a1a1-7725632a6ae9',\n",
       " 'https://www.getyourguide.com/new-delhi-l231/3-days-delhi-agra-jaipur-golden-triangle-tour-from-delhi-t553340/?ranking_uuid=6e052990-d987-4e9c-a1a1-7725632a6ae9',\n",
       " 'https://www.getyourguide.com/agra-l824/from-delhi-taj-mahal-sunrise-with-fatehpur-sikri-in-2-days-t644412/?ranking_uuid=6e052990-d987-4e9c-a1a1-7725632a6ae9',\n",
       " 'https://www.getyourguide.com/new-delhi-l231/from-delhi-4-days-golden-triangle-luxury-private-tour-t493362/?ranking_uuid=6e052990-d987-4e9c-a1a1-7725632a6ae9',\n",
       " 'https://www.getyourguide.com/new-delhi-l231/from-delhi-private-4-days-golden-triangle-tour-t446247/?ranking_uuid=6e052990-d987-4e9c-a1a1-7725632a6ae9',\n",
       " 'https://www.getyourguide.com/new-delhi-l231/3-days-private-golden-triangle-tour-delhi-agra-and-jaipur-t557820/?ranking_uuid=6e052990-d987-4e9c-a1a1-7725632a6ae9',\n",
       " 'https://www.getyourguide.com/jaipur-l1149/golden-triangle-tour-of-india-t583955/?ranking_uuid=6e052990-d987-4e9c-a1a1-7725632a6ae9',\n",
       " 'https://www.getyourguide.com/jaipur-l1149/from-delhi-3-day-golden-triangle-private-tour-with-hotels-t697022/?ranking_uuid=d7d93e7a-e2ca-46f6-b293-30efd4d9c2c2',\n",
       " 'https://www.getyourguide.com/new-delhi-l231/from-new-delhi-overnight-agra-tour-by-vande-bharat-express-t476009/?ranking_uuid=d7d93e7a-e2ca-46f6-b293-30efd4d9c2c2',\n",
       " 'https://www.getyourguide.com/new-delhi-l231/memorable-delhi-agra-with-khajuraho-tour-05n-06d-t649689/?ranking_uuid=d7d93e7a-e2ca-46f6-b293-30efd4d9c2c2',\n",
       " 'https://www.getyourguide.com/new-delhi-l231/delhi-private-delhi-agra-jaipur-tour-package-by-car-2n3d-t479439/?ranking_uuid=d7d93e7a-e2ca-46f6-b293-30efd4d9c2c2',\n",
       " 'https://www.getyourguide.com/new-delhi-l231/from-delhi-2-days-delhi-jaipur-city-sightseeing-tour-t484505/?ranking_uuid=d7d93e7a-e2ca-46f6-b293-30efd4d9c2c2',\n",
       " 'https://www.getyourguide.com/jaipur-l1149/from-delhi-4-days-golden-triangle-tour-delhi-agra-jaipur-t532451/?ranking_uuid=d7d93e7a-e2ca-46f6-b293-30efd4d9c2c2',\n",
       " 'https://www.getyourguide.com/new-delhi-l231/2-days-delhi-and-agra-tour-by-private-car-t474034/?ranking_uuid=d7d93e7a-e2ca-46f6-b293-30efd4d9c2c2',\n",
       " 'https://www.getyourguide.com/new-delhi-l231/a-land-called-india--t709558/?ranking_uuid=d7d93e7a-e2ca-46f6-b293-30efd4d9c2c2',\n",
       " 'https://www.getyourguide.com/new-delhi-l231/from-new-delhi-delhi-agra-2-days-tour-with-car-train-t470646/?ranking_uuid=d7d93e7a-e2ca-46f6-b293-30efd4d9c2c2',\n",
       " 'https://www.getyourguide.com/jaipur-l1149/8-days-motorbike-tour-tour-delhi-agra-jaipur-pushkar-t529956/?ranking_uuid=d7d93e7a-e2ca-46f6-b293-30efd4d9c2c2']"
      ]
     },
     "execution_count": 15,
     "metadata": {},
     "output_type": "execute_result"
    }
   ],
   "source": [
    "created_link = []\n",
    "\n",
    "\n",
    "for link in Page_Links:\n",
    "    links = f\"https://www.getyourguide.com/{link}\"\n",
    "    created_link.append(links)\n",
    "\n",
    "print(len(created_link))\n",
    "created_link"
   ]
  },
  {
   "cell_type": "markdown",
   "id": "555cc8c0-cfe7-4217-9ef2-944d6b200b5d",
   "metadata": {},
   "source": [
    "## Extracting Image Links and Stored into **Img_Links** variable:"
   ]
  },
  {
   "cell_type": "code",
   "execution_count": 16,
   "id": "56d42142-a760-4a90-9931-58bd6a4cc194",
   "metadata": {},
   "outputs": [
    {
     "name": "stdout",
     "output_type": "stream",
     "text": [
      "Source srcset links:\n",
      "https://cdn.getyourguide.com/img/tour/54143ab3cde6d8ee.jpeg/132.webp\n",
      "https://cdn.getyourguide.com/img/tour/105557b29f3f91572205a4972293bbfccabf05781a0dab8de5ad8cecb0312b0f.jpg/132.webp\n",
      "https://cdn.getyourguide.com/img/tour/dcdd51e3facd1e7bead8a323bc8041db9b12efeb040c805474865e76dd801d2f.jpg/132.webp\n",
      "https://cdn.getyourguide.com/img/tour/faf8c53a81bd56dab543d4bf6522556adce425e2609841b928683fbd32ed70a5.jpg/132.webp\n",
      "https://cdn.getyourguide.com/img/tour/0497abdf27452df3f52c993e04f5bb80d2d724a983ef2c3a100bbda584e23cdc.jpeg/132.webp\n",
      "https://cdn.getyourguide.com/img/tour/47487d1e952de583531215923d0747ae7572b3bbab0434a779214fd400db8786.jpeg/132.webp\n",
      "https://cdn.getyourguide.com/img/tour/eb2f538fe147c73c11e11a5f4b863b1cc2f678b1a339cce42adf665c56af8606.jpeg/132.webp\n",
      "https://cdn.getyourguide.com/img/tour/f2ecc0e2b75e9261.jpeg/132.webp\n",
      "https://cdn.getyourguide.com/img/tour/a322b3659874cabc5dc9226babf8154a4b3efd3ae22feb8ee8cdf1dc932798f1.jpeg/132.webp\n",
      "https://cdn.getyourguide.com/img/tour/649857dbc01d5.jpeg/132.webp\n",
      "https://cdn.getyourguide.com/img/tour/b8c8e80a137da4c7c3670b5dae8425cba26ff504b1cb45b65e634551496b44e5.jpeg/132.webp\n",
      "https://cdn.getyourguide.com/img/tour/6495e06ca338b.jpeg/132.webp\n",
      "https://cdn.getyourguide.com/img/tour/01ba36694334e2b25df0c7c622ebf221afc198f774b75dbbc3736f497c6f3057.jpg/132.webp\n",
      "https://cdn.getyourguide.com/img/tour/269b42a652894852018aa355ae3f4bafb9b4976f20def0628930648efcdc3c47.jpg/132.webp\n",
      "https://cdn.getyourguide.com/img/tour/921c3bf03a4eff64e064efbb353dba3f6d9446914d6570630faa27583bcfbb66.jpg/132.webp\n",
      "https://cdn.getyourguide.com/img/tour/86b1d38be4a4b83d.jpeg/132.webp\n",
      "https://cdn.getyourguide.com/img/tour/b50fd4c9ea81b3cf.jpeg/132.webp\n",
      "https://cdn.getyourguide.com/img/tour/a7c3780b23336b0b099d6f959f02d160eb48e0b8ddc103998199d8189b770f7d.jpg/132.webp\n",
      "https://cdn.getyourguide.com/img/tour/a6d9b07349166ea3e351aa6be7aa15450e43da3d5f933de9226ff07612a933aa.jpeg/132.webp\n",
      "https://cdn.getyourguide.com/img/tour/3ec67556e8484892.jpeg/132.webp\n",
      "https://cdn.getyourguide.com/img/tour/f6a2c4faec69d7750830b036cfaec27ad6a590ec96818773377280889f3968ec.jpg/132.webp\n",
      "https://cdn.getyourguide.com/img/tour/01ba36694334e2b25df0c7c622ebf221afc198f774b75dbbc3736f497c6f3057.jpg/132.webp\n",
      "https://cdn.getyourguide.com/img/tour/64b95ce048d4d.png/132.webp\n",
      "https://cdn.getyourguide.com/img/tour/2a0559682d9ec5b2b807fdd2685591515416fd9d2166bdcac840ad5f91b079e0.jpg/132.webp\n",
      "https://cdn.getyourguide.com/img/tour/f7cea21ce2879a47f489fc8fae9891047b7a06b8902ecc37e9e03507d26f000c.jpeg/132.webp\n",
      "https://cdn.getyourguide.com/img/tour/2a0559682d9ec5b2b807fdd2685591515416fd9d2166bdcac840ad5f91b079e0.jpg/132.webp\n",
      "https://cdn.getyourguide.com/img/tour/36964424f86dc2a6.jpeg/132.webp\n",
      "https://cdn.getyourguide.com/img/tour/f8e3d113c2e9b8a842cb7f873022c1470e5d1a23e4e923b6b5053d189912fbe4.jpg/132.webp\n",
      "https://cdn.getyourguide.com/img/tour/648d5c551b8c5.jpeg/132.webp\n",
      "https://cdn.getyourguide.com/img/tour/94fd997e9b763789493a0f71984cd7799695e0dcaa90bd40fa5cc6b8de39130e.jpg/132.webp\n",
      "https://cdn.getyourguide.com/img/tour/64804d0ec6594.jpeg/132.webp\n",
      "https://cdn.getyourguide.com/img/tour/64973045254bf.jpeg/132.webp\n",
      "https://cdn.getyourguide.com/img/tour/42d1433668eca045b8247afa1ab6c40f7eaafc6e10b5289019bc7468998bb63a.jpeg/132.webp\n",
      "https://cdn.getyourguide.com/img/tour/ee80e097d9084c4ae5a4a45791f8d672426e88b024a26d542bd6040edc965386.jpeg/132.webp\n",
      "https://cdn.getyourguide.com/img/tour/f9e742c911223196.jpeg/132.webp\n",
      "https://cdn.getyourguide.com/img/tour/a78af48765553d64977b3044623cb5454afcfd911ccb1b6ec7e163862d829cac.png/132.webp\n",
      "https://cdn.getyourguide.com/img/tour/d00674c1a31fd4c7.jpeg/132.webp\n",
      "https://cdn.getyourguide.com/img/tour/ecb8fddb9dfa521028d3be6dfe285f56fc88495603013c7131d7269118c9cd70.jpg/132.webp\n",
      "https://cdn.getyourguide.com/img/tour/066617d7bd00e704ad955d3e0dbda4fad842422fe002fbe3cb354a1e80b9901b.jpg/132.webp\n",
      "https://cdn.getyourguide.com/img/tour/99c11542da266751e4aad70177548e0a4e7e969323f100b24c9dd75ca8090fb4.jpg/132.webp\n",
      "https://cdn.getyourguide.com/img/tour/5918c020efa3e2b7bea5503c2a977c6baf055527cf0b6795f868ca5167087d60.png/132.webp\n",
      "https://cdn.getyourguide.com/img/tour/e30dad2c32ca7a6ceff2c041c77a1f501164e117ec95617c71b13604b4ae0dc9.jpg/132.webp\n",
      "https://cdn.getyourguide.com/img/tour/01ba36694334e2b25df0c7c622ebf221afc198f774b75dbbc3736f497c6f3057.jpg/132.webp\n",
      "https://cdn.getyourguide.com/img/tour/748c328bd65c09a204bd7e3c1bc635c4c4f38651684c0a2f51692a35fb04548d.png/132.webp\n",
      "https://cdn.getyourguide.com/img/tour/cbb401f936673e45af3000a1259fdd8091a457896b4a8e6661bad1f250a10235.jpg/132.webp\n",
      "https://cdn.getyourguide.com/img/tour/d85351d8395c3964.jpeg/132.webp\n",
      "https://cdn.getyourguide.com/img/tour/27c8c75769fdbb5a.jpeg/132.webp\n",
      "https://cdn.getyourguide.com/img/tour/b8792a5fa950a065aa3d13cdfaed21fc8612c46ae0997fa3f3aa1c5f7574ba82.jpg/132.webp\n",
      "https://cdn.getyourguide.com/img/tour/ec70defbc52ed2ecb007a7346e758dc0cc0c0be3fe43824c28d0658b3e3b0d6e.jpeg/132.webp\n",
      "https://cdn.getyourguide.com/img/tour/64136ee4e9c7e.jpeg/132.webp\n",
      "https://cdn.getyourguide.com/img/tour/e93a79ef9d8c89a3.jpeg/132.webp\n",
      "https://cdn.getyourguide.com/img/tour/638fda790ca2362b6b9118170e4fc1da0eee9d3f57c344ff77f03bbeffce270b.png/132.webp\n",
      "https://cdn.getyourguide.com/img/tour/9ae077c7e4241a67.jpeg/132.webp\n",
      "https://cdn.getyourguide.com/img/tour/38ee3ca2ac057c5a39bd559276b9a0223ea5066332349d31933ce4a5fb3e389d.png/132.webp\n",
      "https://cdn.getyourguide.com/img/tour/64c1508c68c7a.jpeg/132.webp\n",
      "https://cdn.getyourguide.com/img/tour/978bf86c028244b8.jpeg/132.webp\n",
      "https://cdn.getyourguide.com/img/tour/29961b4a59443b1faef3d8dc1e62bbe1be0d7222bde73939f3a85e33a6544ba9.jpg/132.webp\n",
      "https://cdn.getyourguide.com/img/tour/64be814595e90.jpeg/132.webp\n",
      "https://cdn.getyourguide.com/img/tour/0fb73dab0f9a0be1d97ffa11ea01ab62b2b8be33f346d52c1c362789fd3fd5fb.png/132.webp\n",
      "https://cdn.getyourguide.com/img/tour/2060c0a4ab50a499.png/132.webp\n",
      "https://cdn.getyourguide.com/img/tour/118132b9fc1081d7a3123c5a76fc35804f6611a4770158739e7e00b87e60c7ad.jpg/132.webp\n",
      "https://cdn.getyourguide.com/img/tour/68eddbf9ddd024d7c04a3123f3f328cebc755ab7cf0a01069d69a24e1daa1ea6.jpg/132.webp\n",
      "https://cdn.getyourguide.com/img/tour/6484263202af2.jpeg/132.webp\n",
      "https://cdn.getyourguide.com/img/tour/4bef05033d08e1d5349ebccb5d5202e9fb32ac56efd644ececde72f2eebe5bd6.png/132.webp\n",
      "https://cdn.getyourguide.com/img/tour/64be8aebbccb3.jpeg/132.webp\n",
      "https://cdn.getyourguide.com/img/tour/01ba36694334e2b25df0c7c622ebf221afc198f774b75dbbc3736f497c6f3057.jpg/132.webp\n",
      "https://cdn.getyourguide.com/img/tour/aa84d9711ca0bbf7a7d4ba0e91fe0c0f4c9f11a5c73fc27fd8f4de217be6bdc8.jpg/132.webp\n",
      "https://cdn.getyourguide.com/img/tour/649fff4614a75.jpeg/132.webp\n",
      "https://cdn.getyourguide.com/img/tour/14c63d2e58e06b5c7871215d8c106543faec14572361f769041efafa951c5799.jpeg/132.webp\n",
      "https://cdn.getyourguide.com/img/tour/eccf2cae9b4d3003e773c0205066109b297c99e185da2344356c1aacec204477.jpg/132.webp\n",
      "https://cdn.getyourguide.com/img/tour/6475a182660b5.jpeg/132.webp\n",
      "https://cdn.getyourguide.com/img/tour/18c84965d76ddf54.jpeg/132.webp\n",
      "https://cdn.getyourguide.com/img/tour/105557b29f3f91572205a4972293bbfccabf05781a0dab8de5ad8cecb0312b0f.jpg/132.webp\n",
      "https://cdn.getyourguide.com/img/tour/2c3d56e63bf2adc3.jpeg/132.webp\n",
      "https://cdn.getyourguide.com/img/tour/37ca5b56c2dab1ddfe5254b8aa8794deb4a38a027e66207f1ac440e97c2ea347.jpeg/132.webp\n",
      "https://cdn.getyourguide.com/img/tour/b43ac55944530efb69a47b73d299cbb596ff989033be320a8e435f72969cca62.jpeg/132.webp\n",
      "https://cdn.getyourguide.com/img/tour/abf220cb70aa22fada7f650b7db191dd2fcadb27909b304bb5541a59d38bccc2.jpeg/132.webp\n",
      "https://cdn.getyourguide.com/img/tour/62ebc24eaca000c4580b2d607bf540facac0736e4007c734e0b42057221fc28c.jpg/132.webp\n",
      "https://cdn.getyourguide.com/img/tour/eb70aeb331d4a5accda3ce71c8cb6e894dcc9cfd4fc9f4f537c0fc92b0ac4859.jpg/132.webp\n",
      "https://cdn.getyourguide.com/img/tour/d6c45842f53e632913fa7bedddab56e799694b50cb9a513f3c516401519f7285.jpeg/132.webp\n",
      "https://cdn.getyourguide.com/img/tour/c7712b924a4a349d32a1519f81fb31c0c48dd7f14a22e6e887f2e11b821311e8.jpg/132.webp\n",
      "https://cdn.getyourguide.com/img/tour/41d369e40b268ef5fc58447e08206b5634f9bfa57eeb877f62046d9af8cd5e4b.jpeg/132.webp\n",
      "https://cdn.getyourguide.com/img/tour/177f333f27d4e36c3efda5c181dfe76131753bda6a031a5d3c49091e2676238c.jpg/132.webp\n",
      "https://cdn.getyourguide.com/img/tour/5a3b68f9fba34a3962560e121d9b6f9c8b21eb94db387c452a96fa31f31fece8.png/132.webp\n",
      "https://cdn.getyourguide.com/img/tour/5afc5427227adb10e40c2c6334b4ae4a2bd8a6b44aa79f311d51a3194d8b6f2a.png/132.webp\n",
      "https://cdn.getyourguide.com/img/tour/06f3dc8b6fe840bb.png/132.webp\n",
      "https://cdn.getyourguide.com/img/tour/6486b43d2597d.jpeg/132.webp\n",
      "https://cdn.getyourguide.com/img/tour/768b5523972414a4b23000d590629f4c884a1944a26a9baf7baeccc1c435a822.jpeg/132.webp\n",
      "https://cdn.getyourguide.com/img/tour/647c6c305d652.jpeg/132.webp\n",
      "https://cdn.getyourguide.com/img/tour/c3c8febda71390a4.jpeg/132.webp\n",
      "Img_Links: ['https://cdn.getyourguide.com/img/tour/54143ab3cde6d8ee.jpeg/132.webp', 'https://cdn.getyourguide.com/img/tour/105557b29f3f91572205a4972293bbfccabf05781a0dab8de5ad8cecb0312b0f.jpg/132.webp', 'https://cdn.getyourguide.com/img/tour/dcdd51e3facd1e7bead8a323bc8041db9b12efeb040c805474865e76dd801d2f.jpg/132.webp', 'https://cdn.getyourguide.com/img/tour/faf8c53a81bd56dab543d4bf6522556adce425e2609841b928683fbd32ed70a5.jpg/132.webp', 'https://cdn.getyourguide.com/img/tour/0497abdf27452df3f52c993e04f5bb80d2d724a983ef2c3a100bbda584e23cdc.jpeg/132.webp', 'https://cdn.getyourguide.com/img/tour/47487d1e952de583531215923d0747ae7572b3bbab0434a779214fd400db8786.jpeg/132.webp', 'https://cdn.getyourguide.com/img/tour/eb2f538fe147c73c11e11a5f4b863b1cc2f678b1a339cce42adf665c56af8606.jpeg/132.webp', 'https://cdn.getyourguide.com/img/tour/f2ecc0e2b75e9261.jpeg/132.webp', 'https://cdn.getyourguide.com/img/tour/a322b3659874cabc5dc9226babf8154a4b3efd3ae22feb8ee8cdf1dc932798f1.jpeg/132.webp', 'https://cdn.getyourguide.com/img/tour/649857dbc01d5.jpeg/132.webp', 'https://cdn.getyourguide.com/img/tour/b8c8e80a137da4c7c3670b5dae8425cba26ff504b1cb45b65e634551496b44e5.jpeg/132.webp', 'https://cdn.getyourguide.com/img/tour/6495e06ca338b.jpeg/132.webp', 'https://cdn.getyourguide.com/img/tour/01ba36694334e2b25df0c7c622ebf221afc198f774b75dbbc3736f497c6f3057.jpg/132.webp', 'https://cdn.getyourguide.com/img/tour/269b42a652894852018aa355ae3f4bafb9b4976f20def0628930648efcdc3c47.jpg/132.webp', 'https://cdn.getyourguide.com/img/tour/921c3bf03a4eff64e064efbb353dba3f6d9446914d6570630faa27583bcfbb66.jpg/132.webp', 'https://cdn.getyourguide.com/img/tour/86b1d38be4a4b83d.jpeg/132.webp', 'https://cdn.getyourguide.com/img/tour/b50fd4c9ea81b3cf.jpeg/132.webp', 'https://cdn.getyourguide.com/img/tour/a7c3780b23336b0b099d6f959f02d160eb48e0b8ddc103998199d8189b770f7d.jpg/132.webp', 'https://cdn.getyourguide.com/img/tour/a6d9b07349166ea3e351aa6be7aa15450e43da3d5f933de9226ff07612a933aa.jpeg/132.webp', 'https://cdn.getyourguide.com/img/tour/3ec67556e8484892.jpeg/132.webp', 'https://cdn.getyourguide.com/img/tour/f6a2c4faec69d7750830b036cfaec27ad6a590ec96818773377280889f3968ec.jpg/132.webp', 'https://cdn.getyourguide.com/img/tour/01ba36694334e2b25df0c7c622ebf221afc198f774b75dbbc3736f497c6f3057.jpg/132.webp', 'https://cdn.getyourguide.com/img/tour/64b95ce048d4d.png/132.webp', 'https://cdn.getyourguide.com/img/tour/2a0559682d9ec5b2b807fdd2685591515416fd9d2166bdcac840ad5f91b079e0.jpg/132.webp', 'https://cdn.getyourguide.com/img/tour/f7cea21ce2879a47f489fc8fae9891047b7a06b8902ecc37e9e03507d26f000c.jpeg/132.webp', 'https://cdn.getyourguide.com/img/tour/2a0559682d9ec5b2b807fdd2685591515416fd9d2166bdcac840ad5f91b079e0.jpg/132.webp', 'https://cdn.getyourguide.com/img/tour/36964424f86dc2a6.jpeg/132.webp', 'https://cdn.getyourguide.com/img/tour/f8e3d113c2e9b8a842cb7f873022c1470e5d1a23e4e923b6b5053d189912fbe4.jpg/132.webp', 'https://cdn.getyourguide.com/img/tour/648d5c551b8c5.jpeg/132.webp', 'https://cdn.getyourguide.com/img/tour/94fd997e9b763789493a0f71984cd7799695e0dcaa90bd40fa5cc6b8de39130e.jpg/132.webp', 'https://cdn.getyourguide.com/img/tour/64804d0ec6594.jpeg/132.webp', 'https://cdn.getyourguide.com/img/tour/64973045254bf.jpeg/132.webp', 'https://cdn.getyourguide.com/img/tour/42d1433668eca045b8247afa1ab6c40f7eaafc6e10b5289019bc7468998bb63a.jpeg/132.webp', 'https://cdn.getyourguide.com/img/tour/ee80e097d9084c4ae5a4a45791f8d672426e88b024a26d542bd6040edc965386.jpeg/132.webp', 'https://cdn.getyourguide.com/img/tour/f9e742c911223196.jpeg/132.webp', 'https://cdn.getyourguide.com/img/tour/a78af48765553d64977b3044623cb5454afcfd911ccb1b6ec7e163862d829cac.png/132.webp', 'https://cdn.getyourguide.com/img/tour/d00674c1a31fd4c7.jpeg/132.webp', 'https://cdn.getyourguide.com/img/tour/ecb8fddb9dfa521028d3be6dfe285f56fc88495603013c7131d7269118c9cd70.jpg/132.webp', 'https://cdn.getyourguide.com/img/tour/066617d7bd00e704ad955d3e0dbda4fad842422fe002fbe3cb354a1e80b9901b.jpg/132.webp', 'https://cdn.getyourguide.com/img/tour/99c11542da266751e4aad70177548e0a4e7e969323f100b24c9dd75ca8090fb4.jpg/132.webp', 'https://cdn.getyourguide.com/img/tour/5918c020efa3e2b7bea5503c2a977c6baf055527cf0b6795f868ca5167087d60.png/132.webp', 'https://cdn.getyourguide.com/img/tour/e30dad2c32ca7a6ceff2c041c77a1f501164e117ec95617c71b13604b4ae0dc9.jpg/132.webp', 'https://cdn.getyourguide.com/img/tour/01ba36694334e2b25df0c7c622ebf221afc198f774b75dbbc3736f497c6f3057.jpg/132.webp', 'https://cdn.getyourguide.com/img/tour/748c328bd65c09a204bd7e3c1bc635c4c4f38651684c0a2f51692a35fb04548d.png/132.webp', 'https://cdn.getyourguide.com/img/tour/cbb401f936673e45af3000a1259fdd8091a457896b4a8e6661bad1f250a10235.jpg/132.webp', 'https://cdn.getyourguide.com/img/tour/d85351d8395c3964.jpeg/132.webp', 'https://cdn.getyourguide.com/img/tour/27c8c75769fdbb5a.jpeg/132.webp', 'https://cdn.getyourguide.com/img/tour/b8792a5fa950a065aa3d13cdfaed21fc8612c46ae0997fa3f3aa1c5f7574ba82.jpg/132.webp', 'https://cdn.getyourguide.com/img/tour/ec70defbc52ed2ecb007a7346e758dc0cc0c0be3fe43824c28d0658b3e3b0d6e.jpeg/132.webp', 'https://cdn.getyourguide.com/img/tour/64136ee4e9c7e.jpeg/132.webp', 'https://cdn.getyourguide.com/img/tour/e93a79ef9d8c89a3.jpeg/132.webp', 'https://cdn.getyourguide.com/img/tour/638fda790ca2362b6b9118170e4fc1da0eee9d3f57c344ff77f03bbeffce270b.png/132.webp', 'https://cdn.getyourguide.com/img/tour/9ae077c7e4241a67.jpeg/132.webp', 'https://cdn.getyourguide.com/img/tour/38ee3ca2ac057c5a39bd559276b9a0223ea5066332349d31933ce4a5fb3e389d.png/132.webp', 'https://cdn.getyourguide.com/img/tour/64c1508c68c7a.jpeg/132.webp', 'https://cdn.getyourguide.com/img/tour/978bf86c028244b8.jpeg/132.webp', 'https://cdn.getyourguide.com/img/tour/29961b4a59443b1faef3d8dc1e62bbe1be0d7222bde73939f3a85e33a6544ba9.jpg/132.webp', 'https://cdn.getyourguide.com/img/tour/64be814595e90.jpeg/132.webp', 'https://cdn.getyourguide.com/img/tour/0fb73dab0f9a0be1d97ffa11ea01ab62b2b8be33f346d52c1c362789fd3fd5fb.png/132.webp', 'https://cdn.getyourguide.com/img/tour/2060c0a4ab50a499.png/132.webp', 'https://cdn.getyourguide.com/img/tour/118132b9fc1081d7a3123c5a76fc35804f6611a4770158739e7e00b87e60c7ad.jpg/132.webp', 'https://cdn.getyourguide.com/img/tour/68eddbf9ddd024d7c04a3123f3f328cebc755ab7cf0a01069d69a24e1daa1ea6.jpg/132.webp', 'https://cdn.getyourguide.com/img/tour/6484263202af2.jpeg/132.webp', 'https://cdn.getyourguide.com/img/tour/4bef05033d08e1d5349ebccb5d5202e9fb32ac56efd644ececde72f2eebe5bd6.png/132.webp', 'https://cdn.getyourguide.com/img/tour/64be8aebbccb3.jpeg/132.webp', 'https://cdn.getyourguide.com/img/tour/01ba36694334e2b25df0c7c622ebf221afc198f774b75dbbc3736f497c6f3057.jpg/132.webp', 'https://cdn.getyourguide.com/img/tour/aa84d9711ca0bbf7a7d4ba0e91fe0c0f4c9f11a5c73fc27fd8f4de217be6bdc8.jpg/132.webp', 'https://cdn.getyourguide.com/img/tour/649fff4614a75.jpeg/132.webp', 'https://cdn.getyourguide.com/img/tour/14c63d2e58e06b5c7871215d8c106543faec14572361f769041efafa951c5799.jpeg/132.webp', 'https://cdn.getyourguide.com/img/tour/eccf2cae9b4d3003e773c0205066109b297c99e185da2344356c1aacec204477.jpg/132.webp', 'https://cdn.getyourguide.com/img/tour/6475a182660b5.jpeg/132.webp', 'https://cdn.getyourguide.com/img/tour/18c84965d76ddf54.jpeg/132.webp', 'https://cdn.getyourguide.com/img/tour/105557b29f3f91572205a4972293bbfccabf05781a0dab8de5ad8cecb0312b0f.jpg/132.webp', 'https://cdn.getyourguide.com/img/tour/2c3d56e63bf2adc3.jpeg/132.webp', 'https://cdn.getyourguide.com/img/tour/37ca5b56c2dab1ddfe5254b8aa8794deb4a38a027e66207f1ac440e97c2ea347.jpeg/132.webp', 'https://cdn.getyourguide.com/img/tour/b43ac55944530efb69a47b73d299cbb596ff989033be320a8e435f72969cca62.jpeg/132.webp', 'https://cdn.getyourguide.com/img/tour/abf220cb70aa22fada7f650b7db191dd2fcadb27909b304bb5541a59d38bccc2.jpeg/132.webp', 'https://cdn.getyourguide.com/img/tour/62ebc24eaca000c4580b2d607bf540facac0736e4007c734e0b42057221fc28c.jpg/132.webp', 'https://cdn.getyourguide.com/img/tour/eb70aeb331d4a5accda3ce71c8cb6e894dcc9cfd4fc9f4f537c0fc92b0ac4859.jpg/132.webp', 'https://cdn.getyourguide.com/img/tour/d6c45842f53e632913fa7bedddab56e799694b50cb9a513f3c516401519f7285.jpeg/132.webp', 'https://cdn.getyourguide.com/img/tour/c7712b924a4a349d32a1519f81fb31c0c48dd7f14a22e6e887f2e11b821311e8.jpg/132.webp', 'https://cdn.getyourguide.com/img/tour/41d369e40b268ef5fc58447e08206b5634f9bfa57eeb877f62046d9af8cd5e4b.jpeg/132.webp', 'https://cdn.getyourguide.com/img/tour/177f333f27d4e36c3efda5c181dfe76131753bda6a031a5d3c49091e2676238c.jpg/132.webp', 'https://cdn.getyourguide.com/img/tour/5a3b68f9fba34a3962560e121d9b6f9c8b21eb94db387c452a96fa31f31fece8.png/132.webp', 'https://cdn.getyourguide.com/img/tour/5afc5427227adb10e40c2c6334b4ae4a2bd8a6b44aa79f311d51a3194d8b6f2a.png/132.webp', 'https://cdn.getyourguide.com/img/tour/06f3dc8b6fe840bb.png/132.webp', 'https://cdn.getyourguide.com/img/tour/6486b43d2597d.jpeg/132.webp', 'https://cdn.getyourguide.com/img/tour/768b5523972414a4b23000d590629f4c884a1944a26a9baf7baeccc1c435a822.jpeg/132.webp', 'https://cdn.getyourguide.com/img/tour/647c6c305d652.jpeg/132.webp', 'https://cdn.getyourguide.com/img/tour/c3c8febda71390a4.jpeg/132.webp'], and SIZE: 90\n"
     ]
    }
   ],
   "source": [
    "# (src):source of your Image location\n",
    "Img_Links = []\n",
    "\n",
    "\n",
    "source_links = [source['srcset'] for source in soup.find_all('source')]\n",
    "print(\"Source srcset links:\")\n",
    "for link in source_links:\n",
    "    print(link)\n",
    "    Img_Links.append(link)\n",
    "\n",
    "print(f\"Img_Links: {Img_Links}, and SIZE: {len(Img_Links)}\")"
   ]
  },
  {
   "cell_type": "code",
   "execution_count": 20,
   "id": "43ed042a-fb4d-4e9d-8c02-4077f40a1bc2",
   "metadata": {},
   "outputs": [
    {
     "name": "stdout",
     "output_type": "stream",
     "text": [
      "Free_cancellation: [],live_tour_guide_languages: [], Highlights: [], Includes: [], price: [], Product_id: [], Excludes: [], overview: []\n"
     ]
    }
   ],
   "source": [
    "Highlights = []\n",
    "Includes = []\n",
    "actual_Price = []\n",
    "#Not_suitable = []\n",
    "ids = []\n",
    "Excludes = []\n",
    "overview = [] \n",
    "Free_cancellation = []\n",
    "live_tour_guide_languages = []\n",
    "print(f\"Free_cancellation: {Free_cancellation},live_tour_guide_languages: {live_tour_guide_languages}, Highlights: {Highlights}, Includes: {Includes}, price: {actual_Price}, Product_id: {ids}, Excludes: {Excludes}, overview: {overview}\")"
   ]
  },
  {
   "cell_type": "markdown",
   "id": "49305586-9890-40ae-9aba-2f17549f7084",
   "metadata": {},
   "source": [
    "## Extrating Data from **`Links`**"
   ]
  },
  {
   "cell_type": "code",
   "execution_count": 21,
   "id": "aa560c1b-62f9-4de6-bf75-46529e1ad613",
   "metadata": {},
   "outputs": [],
   "source": [
    "import time\n",
    "\n",
    "def url_extract_data(links):\n",
    "    chrome_driver_path = 'chromedriver.exe'\n",
    "    service = Service(chrome_driver_path)\n",
    "\n",
    "    driver = webdriver.Chrome(service=service)\n",
    "    driver.get(links)\n",
    "    \n",
    "    # Hold the page and open for 13 seconds for better Extracting.\n",
    "    time.sleep(20)\n",
    "    \n",
    "    source = driver.page_source\n",
    "    soup = BeautifulSoup(source, \"html.parser\")\n",
    "\n",
    "\n",
    "\n",
    "    \n",
    "    ## This is the Actual Price Data:\n",
    "    box1 = soup.find_all(\"strong\",class_=\"price-block__price-actual\")\n",
    "    for text in box1:       \n",
    "        txt = text.get_text(strip=True)\n",
    "        actual_Price.append(txt if txt else None)\n",
    "\n",
    "\n",
    "    \n",
    "    ## This is the overview data:\n",
    "    cv = soup.find_all('section',class_='activity-overview')\n",
    "    for i in cv:\n",
    "        bb = i.find('p', class_='activity-overview__content')\n",
    "        anands = bb.get_text()\n",
    "        overview.append(anands if anands else None)\n",
    "\n",
    "\n",
    "    \n",
    "    ## this is the Free_cancellation data:\n",
    "    for i in soup.find_all('dl',class_='activity-key-details__list'):\n",
    "        j = i.find('dd',class_='activity-key-details__description')\n",
    "        k = j.get_text()\n",
    "        Free_cancellation.append(k)\n",
    "\n",
    "    \n",
    "\n",
    "    ## this is the live_tour_guide_languages:\n",
    "    for i in soup.find_all('dl',class_='activity-key-details__list'):\n",
    "        j = i.find_all('dd')[4].text\n",
    "        live_tour_guide_languages.append(j)\n",
    "        \n",
    "\n",
    "    \n",
    "    ## this is the Highlights data: \n",
    "    box2 = soup.find_all(\"ul\",class_=\"activity-highlights__list\")\n",
    "    for x in box2:\n",
    "        var1 = x.get_text(strip=True)\n",
    "        Highlights.append(var1 if var1 else None)\n",
    "\n",
    "    \n",
    "    ## this is Includes data:\n",
    "    box3 = soup.find_all(\"ul\",class_=\"activity-inclusions-inclusion\")\n",
    "    for y in box3:\n",
    "        var2 = y.get_text(strip=True)\n",
    "        Includes.append(var2 if var2 else None)\n",
    "\n",
    "\n",
    "    ## This is Excludes data:\n",
    "    box10 = soup.find_all(\"ul\",class_=\"activity-inclusions-exclusion\")\n",
    "    for pogo in box10:\n",
    "        egg = pogo.get_text() \n",
    "        Excludes.append(egg if egg else None)\n",
    "\n",
    "\n",
    "    ## this is Not_suitable:\n",
    "    #box64 = soup.find_all(\"ul\", class_=\"not-suitable-for-list\")\n",
    "    #for box11 in box64:\n",
    "    #    li_element = box11.find('li', attrs={'data-v-39a3ece1': ''})\n",
    "     #   for te1 in li_element:\n",
    "      #      var45 = te1.get_text()\n",
    "       #     Not_suitable.append(var45 if var45 else 'Not-Available')\n",
    "\n",
    "\n",
    "    ## this is ids data \n",
    "    box7 = soup.find_all(\"p\",class_=\"activity__product-id\")\n",
    "    for b in box7:\n",
    "        var5 = b.get_text()\n",
    "        product_ids = var5.split(': ')[1]\n",
    "        ids.append(product_ids)\n",
    "\n",
    "\n",
    "for url in created_link:\n",
    "    url_extract_data(url)"
   ]
  },
  {
   "cell_type": "code",
   "execution_count": 22,
   "id": "c5998693-19d4-4bdf-a62f-90cafc690fe1",
   "metadata": {},
   "outputs": [
    {
     "name": "stdout",
     "output_type": "stream",
     "text": [
      "Highlights: ['See the Qutub Minar, Humayun Tomb, India Gate, Lotus Temple in New DelhiView the breathtaking Taj Mahal and explore Agra Fort in AgraVisit Amber Fort, City Palace, Jal Mahal, Hawa Mahal, Jantar Mantar in JaipurListen as your guide tells you all about the rich history and culture', \"Utilize three days to utilize the highlights of the Golden Triangle TourExpertise in the Taj Mahal's splendid splendor, empowered as World Heritage SiteFeel a step roaring in time with the glorious Mughal and Rajputana architectureNavigate for an excursion containing breakfast and residing insteadIndividual interest and flexibility of tour guide are implied on private tour\", 'Experience the Taj Mahal\\'s grandeur at sunrise an iconic symbol of enduring loveExplore Agra Fort, witness the Baby Taj, and enjoy sunset views at Mehtab BaghDiscover the UNESCO-listed \"ghost town\" of Fatehpur Sikri during a guided tourEnjoy India\\'s rich history through architectural wonders and cultural gemsGet seamless transfers for a hassle-free journey from Delhi to Agra and back', 'Discover the highlights of Old and New Delhi on a guided sightseeing tourVisit the iconic Taj Mahal and Agra Fort on a guided tour of AgraExplore the Amber Fort, City Palace, and Hawa Mahal in JaipurSee the Jal Mahal, Jantar Mantar, and Panna Meena Ka Kund in JaipurEnjoy the convenience of hotel pick-up and drop-off in Delhi', 'See the Qutub Minar, Humayun Tomb, India Gate, Lotus Temple in New DelhiView the breathtaking Taj Mahal and explore Agra Fort in AgraVisit Amber Fort, City Palace, Jal Mahal, Hawa Mahal, Jantar Mantar in JaipurListen as your guide tells you all about the rich history and culture', 'Visit Old and New Delhi and experience a real rickshaw ride.Explore iconic sights like the unforgettable Taj Mahal and Agra Fort.Experience the royal lifestyle of Maharaja at the City Palace and Amer Fort.Discover 3 major cities of India on private tour with a personal guide.Visit Fatehpur Sikri, Abhaneri and Galtaji Temple while drive to Jaipur.', 'Step back in time and explore the historic cities of Delhi, Agra and Jaipur StayStay in luxury hotels in the great cities of the Golden TriangleVisit the beautiful Palace of the Winds and hilltop Amber FortAdmire most beautiful sunrise Taj MahalCustomize your itinerary in each city as per your own interests', \"Humayun's Tomb is a UNESCO World Heritage Site, definitely explore it.Also visit the Taj Mahal and Agra Fort, built by the Mughal emperors.Hawa Mahal is a striking pink sandstone structure with its uniqe honeycomb shapeQutub Minar is one of the tallest minarets in the world with a height of 239feetDelhi Agra And Jaipur Tour In A Comfortable Transport With Local Guide\", \"Explore Agra's wonders: Breathtaking Taj Mahal and historic Agra FortDiscover Jaipur's gems: Amber Fort, City Palace, Hawa Mahal, and moreVisit Delhi's renowned sites: Lotus Temple, India Gate, Qutub Minar, and othersOpt for an upgrade for a seamlessly convenient and enhanced stay, complete withPick an upgrade to enjoy an exceptional and enhanced accommodation and breakfast\", 'Private TourAccomodation in 3 star Category HotelPrivate Guide in each cityBuffet Breakfast in HotelPrivate Aircondetioned Car', \"Explore the three capitals of India – Delhi, Agra and Jaipur – in just 5 daysVisit both Old and New Delhi, experiencing a mix of ancient and modern sitesWitness the magnificent Taj Mahal, one of the wonders of the world, at sunriseExplore Jaipur's sites like Amer Fort, Hawa Mahal, Jantar Mantar & City PalaceUncover hidden gems like Fatehpur Sikri and Chand Baodi Stepwell at Abhaneri\", 'Visit Qutub Minar, Humayun Tomb, India Gate, Lotus Temple in New Delhi.View the breathtaking Taj Mahal and explore Agra Fort in Agra.Visit Amber Fort, City Palace, Jal Mahal, Hawa Mahal, Jantar Mantar in JaipurLearn about the history of these cities with an experienced tour guide.Enjoy luxury transportation throughout the tour', \"Marvel at the timeless beauty of the Taj Mahal, a symbol of enduring loveExplore Agra Fort, a UNESCO site along the Yamuna River, initiated by AkbarExplore Delhi's Mughal legacy with brief stop at the Red Fort and Humayun's TombExperience tranquility at the towering Jama Masjid amid the chaos of Old DelhiAdmire Qutub Minar's UNESCO elegance, a 75-meter-tall Afghan-inspired structure\", \"Discover the history and culture of India on a 3-day Golden Triangle tourVisit the Jama Masjid, the Red Fort, and Chandni Chowk in Old DelhiExplore the India Gate, Rashtrapati Bhavan, Humayu's Tomb, and Qutub MinarSee the Taj Mahal at sunrise and visit Agra Fort and Fatehpur SikriExplore the Amber Fort, Jal Mahal, Hawa Mahal, City Palace, and Jantar Mantar\", 'Discover the ancient cities of Delhi, Agra, and Jaipur as you travel backStay in luxury hotels in the great cities of the Golden TriangleExplore iconic sights like the unforgettable Taj Mahal and Agra FortVisit the beautiful Palace of the Winds and hilltop Amber FortHotel, airport, railway, or other New Delhi pickup and drop-off included', 'Welcome to delhi the capital of India.Comfortable A/C Car for entire tour.Explore the local market at Agra.', 'Experience the vibrant & colorful culture & Heritage of the IndiaVisit the Delhi, Agra, Jaipur with VaranasiMarvel at the beauty of the Amer Fort, Qutub Minar, Hawa Mahal Taj Mahal & MoreVisit the historical and heritage monument of India with Religious city VaranasiTravel comfortably in a air-conditioned vehicle', 'Discover Delhi, Agra and Jaipur over the course of 5 daysLearn the history of India from your English speaking guideEnjoy Indian culture and history along the Golden TriangleExperience sunrise Taj Mahal from inside', 'Explore the beauty of the historic cities of Delhi, Agra and Jaipur.View the breathtaking Taj Mahal and explore Agra Fort in AgraVisit Amber Fort, City Palace, Jal Mahal, Hawa Mahal, Jantar Mantar in JaipurSee the Qutub Minar, Humayun Tomb, India Gate, Lotus Temple in New DelhiEnjoy luxury transportation throughout the private tour', 'Delhi boasts a treasure trove of historical landmarks like Qutub, Humayun & JamaJaipur is renowned for its majestic palaces, Like the City Palace & Amer FortRanthambore is a paradise for wildlife enthusiasts, offer thrilling tiger safariAgra is home to the mesmerizing Taj Mahal, an architectural masterpiece', \"Old Delhi's Jama Masjid and Red Fort, coupled with modern marvel like India GateSunrise at the timeless Taj Mahal, a symbol of enduring loveMughal grandeur at Agra Fort, crafted by Emperor Akbar.Morning sightseeing, local market exploration, and a return to Delhi.Dive into Jaipur's vibrant markets for unique handicrafts and traditional finds.\", \"Explore the iconic Qutub Minar and the Lotus Temple in DelhiVisit the majestic Amber Fort and the Jal Mahal in JaipurDiscover the architectural wonders of Hawa Mahal and Jantar MantarAdmire the beauty of the Taj Mahal and Agra Fort in AgraSee the grand Maharaja's City Palace in Jaipur\", 'AC vehicle for comfortDive into royal historyPrivate tour for flexibilityCapture memorable photos', 'Discover the UNESCO-listed Amber Fort for its distinctive Hindu architectureImmerse yourself in the City Palace, a complex featuring museums, courtyardsVisit Hawa Mahal, cherished as the \"Palace of the Wind\" and a Jaipur landmarkExplore Agra Fort, a UNESCO site with rich history dating back to Emperor AkbarSee the Taj Mahal, a Heritage Site built by Shah Jahan in memory of his wife', 'Visit the famous Golden Triangle comprising Delhi, Agra and JaipurEnjoy time in Udaipur as an added extra to the Golden Triangle experienceExplore the monumental sites such as the Taj Mahal, Qutub Minar, India GateHave a hassle-free journey with flights and accommodation prearranged if wishedTailor the trip to suit your needs, with different types of accommodation', \"Explore the Taj Mahal, a symbol of eternal love and architectural masterpieceDiscover the historic Agra Fort with its Mughal architecture and panoramic viewsVisit Jaipur's Amber Fort for its intricate palaces and hilltop settingSee the iconic Hawa Mahal, known for its unique latticework designExperience Jantar Mantar, an ancient observatory showcasing scientific prowess\", 'Step back in time and explore the historic cities of Delhi, Agra and JaipurStay in luxury hotels in the great cities of the Golden TriangleLearn about the history of India from your private tour guide.Luxury Transportation in your whole tour.Customize your itinerary in each city as per your own interests', 'Enjoy Taj mahal, Agra fort & local city.Visit the New Delhi, Jaipur, Agra, Fatehpur Sikri & Ranthambore Tiger safariTravel in comfort of air conditioned car & local guide in these cities.while nature-lovers will enjoy going on safari in RanthamboreVisit Red Fort, Qutub Minar, Amer Fort, City Palace in Jaipur, and Hawa Mahal.', 'Explore the two Heritage Cities of India - Delhi and Agra in 2 days.Learn about the History of Capital City Old & New Delhi along with Agra.Explore the one of the seven wonder of the world \"Taj Mahal\" & Agra Fort.', 'Experience the breathtaking beauty and love story behind the Taj MahalUncover Agra Fort\\'s UNESCO history with Shah Jahan\\'s marble enhancementsDiscover Hindu architecture at Amber Fort & explore City Palace\\'s rich heritageAdmire the iconic Hawa Mahal, known as the \"Palace of the Wind.\"Explore Jantar Mantar, a UNESCO site with ancient astronomical instruments', 'Most travellers can participateThis is a private tour/activity. Only your group will participateFor a full refund, cancel at least 24 hours in advance of the start date of the', 'Delhi - Red Fort, Jama Masjid, Chandni ChowkAgra - Taj Mahal, Agra Fort, Baby TajJaipur - Amber Fort, City Palace, Hawa MahalJaipur - Jaigarh Fort, Jal Mahal, Rajasthani cuisine', 'Delhi-Agra-FatehpurSikri-Keoladeo park 2 Days Tour with 3/5 Star Accommodation,Explore the stunning white marble mausoleum and learn about its rich history.Visit the deserted capital city of Emperor Akbar \"Fatehpur Sikri\"Keoladeo National Park, also known as Bharatpur Bird Sanctuary.', \"Discover the highlights of India's Golden Triangle on a private tourExplore the cities of Delhi, Agra, and Jaipur with a private guideStay in luxury hotels in Agra and Jaipur or book your own accommodationVisit the Taj Mahal, Agra Fort, and the Amber Fort on a private tourEnjoy a rickshaw ride through the narrow streets of Chandni Chowk\", 'Explore the beauty of the historic cities of Delhi, Agra and Jaipur.View the breathtaking Taj Mahal and explore Agra Fort in AgraVisit Amber Fort, City Palace, Jal Mahal, Hawa Mahal, Jantar Mantar in JaipurSee the Qutub Minar, Humayun Tomb, India Gate, Lotus Temple in New DelhiEnjoy luxury transportation throughout the private tour', \"Immerse in India's vibrant culture and heritage.Explore India's historical monuments.Discover Rajasthan's rich culture and traditions.Tour Delhi, Agra, Jaipur, Udaipur, Jodhpur, and Ranthambore.Travel conveniently in a private air-conditioned vehicle.\", \"Take in the wonders of Delhi like the Red Fort and Jama Masjid mosqueEnjoy iconic sites in Agra like the world famous Taj Mahal and Agra FortCapture pictures of Jaipur's pink sandstone at the Hawa Mahal palaceDive into some of India's most iconic monuments with the help of a guideEnhance your trip with options to include a 3-star hotel that provides breakfast\", 'Discover Agra and Jaipur over the course of 2-dayLearn the history of India from your English speaking guideEnjoy Indian culture and history along the Golden TriangleEnjoy a Pink city JaipurExperience the Taj Mahal', 'Enjoy the traditions, culture, history and spirituality of India.Visit several world heritage sites - the Taj Mahal, which you see at sunriseMorning Safari in Ranthambore National ParkRelax with pre-booked hotel reservations and A/C ground transfers, with airportLearn about Indian history from your private tour guide', 'Explore the two Most Famous Cities of India \"Delhi\" and \"Agra\" in 2 days.Learn about the History of Capital City Old & New Delhi.Explore the one of the seven wonder of the world \"Taj Mahal\" & Agra Fort.', \"Explore Delhi's iconic landmarks, from Humayun's Tomb to India Gate.Witness the breathtaking beauty of the Taj Mahal at sunrise in Agra.Marvel at the majestic Amber Fort and Palace of the Winds in Jaipur.Experience the bustling streets and vibrant culture of Old Delhi.Enjoy panoramic views of the city from the Qutub Minar in Delhi.\", \"Visit Rashtrapati Bhavan, the official residence of the President of IndiaVisit Qutub Minar, the tallest brick minaret in the world World Heritage Site.Visit the Lotus Temple, a Bahá'í House of Worship known for its stunningVisit Red Fort, a UNESCO World Heritage Site.Visit Raj Ghat, a memorial dedicated to Mahatma Gandhi,\", 'Explore the vibrant bazaars and historical landmarks of Old Delhi.Witness the mesmerizing sunrise at the iconic Taj Mahal in Agra.Discover the architectural marvels of Agra Fort and Fatehpur Sikri.Immerse yourself in the rich heritage of Jaipur.Enjoy scenic drives and comfortable transfers between each destination.', 'Visit three major cities of India. Delhi- Agra – Jaipur.Explore Two sides of Delhi, Old & New DelhiDiscover the world famous Taj Mahal during sunrise.Explore the beautiful city of Agra at your own pace.Treat your eyes to the stunning architecture of Jaipur.', 'Explore the vibrant streets of Delhi and visit iconic sites like the India GateImmerse yourself in the local atmosphere of Old Delhi with a rickshaw rideMarvel at the grandeur of the Agra Fort & the intricate design of the Taj MahalBoard on a wildlife safari in Ranthambore Park with an experienced naturalistVisit the iconic Hawa Mahal and the fascinating City Palace Museum in Jaipur', 'Explore Old and New Delhi City and fall in love with India’s capital city.See one of the world’s most stunning structures, the Taj Mahal.Visit Jaipur to learn about Rajput heritage and Rajasthani culture.Relax in the car and tour at your own pace with a Private tour.Taj Mahal remains close on Friday', \"The best tour guides of Delhi and Agra will enlighten you about the history.Visit renowned landmarks such as the Taj Mahal, India Gate, and Humayun's Tomb.Savor traditional Indian lunch at handpicked local eateries.Explore local markets shop for souvenirs and immerse yourself in art and cultureFor added comfort, choose to rest in a good hotel in Delhi.\", \"Discover Old and New Delhi's blend of history and modernityWitness the Taj Mahal at sunrise and explore Agra Fort's splendorExperience Jaipur's majestic forts and palacesEnjoy authentic live commentary at all site by your personal tour guide\", 'Explore the historic cities of India - Delhi, Agra and Jaipur.Stay in luxury hotels in the great cities of the Golden Triangle.Look inside the Taj Mahal before the crowds arrive.Visit the beautiful Palace of the Winds and hilltop Amber Fort in Jaipur.Explore Main Heritage sites Taj Mahal, Qutub Minar, Agra Fort, Amber Fort, other', 'Comfortable walking shoes and sunglasses are recommended.Please note that (Taj Mahal is closed on every Friday)This tour/activity will have a maximum of 06 travelers02 Days private tour to Agra from MumbaiMumbai Airport transfer Included', \"Explore New Delhi's treasures including Qutub Minar, Humayun's Tomb & India GateExperience the awe-inspiring beauty of the Taj Mahal in AgraExplore the wonders of Jaipur including the Amber Fort, City Palace & Jal MahalConvenient Private pick-up & drop-off services are provided by a skilled Driver\", 'Explore Qutub Minar, Humayun Tomb, India Gate, and Lotus Temple in New Delhi.Marvel at the Taj Mahal and discover Agra Fort in Agra.Tour Amber Fort, City Palace, Jal Mahal, Hawa Mahal, and Jantar Mantar in JaipurLearn about the rich history and culture from your guide.', 'Explore the best of Delhi, Agra, and Jaipur in just 3 days.Witness the timeless beauty of the Taj Mahal.Delight in delicious breakfasts throughout the tour.Discover iconic landmarks like India Gate, Agra Fort, and Amber Fort.Immerse in the rich history, culture, and architecture of the Golden Triangle.', '3 Different Capitals Of India Delhi, Agra & Jaipur in 5 Days & 4 Nights.Excursion of Old & New Delhi along with Rikshaw Ride at Chandni ChowkExperience the one of the wonder of the world - The Taj Mahal in Sunrise.Discover the Amer Fort & City Palace Museum Jaipur', 'Visit the spectacular Taj Mahal and Agra Fort.Explore Fatehpur Sikri, a fascinating ghost city built in the 16th century.Private Jaipur to Agra tour with Delhi drop-off.', \"Immerse in Jaipur's regal charm: Amber Fort, City Palace, Hawa Mahal.Witness the ethereal beauty of the Taj Mahal in Agra.Explore Delhi's historical wonders: Red Fort, Humayun's Tomb, Qutub MinarEmbark on a thrilling Ranthambhore Safari, seeking Bengal tigers.Experience the blend of culture, history, and wildlife in one journey.\", 'Old Delhi, Jama Masjid and a rickshaw ride through Chandni ChowkMajor attractions of Delhi including India Gate, Lotus Temple, HumayunKhajuraho is famous for its intricate temple architecture and intricateAlbert Hall Museum, Birla Mandir, Laxmi Narayan temple.Visit to the Taj Mahal, one of the Seven Wonders of the World.', \"Admire Mughal & Rajput architecture's grandeur.Explore Delhi, Agra, and Jaipur's historical allure.Visit Palace of the Winds & Amber Fort.Customize itinerary to your interests.\", \"Explore both Old and New Delhi with a thrilling rickshaw ride.Discover iconic landmarks such as the Taj Mahal and Agra Fort.Immerse yourself in the regal ambiance of the City Palace and Amer Fort.Experience India's top cities privately with a dedicated guide.Journey to Jaipur with stops at Fatehpur Sikri, Abhaneri, and Galtaji Temple.\", \"Explore India's Golden Triangle with iconic landmarksConvenient city tours in both Old and New DelhiWitness the stunning wonders of Agra, including the Taj MahalGain cultural insights from an informative tour guide\", \"Delhi's landmarks: Visit Qutub Minar and India Gate.Taj Mahal sunrise: Experience its beauty at dawn.Ranthambore adventures safari: Spot the tigers in the wild.Jaipur's gems: Explore Amber Fort and Jal Mahal.Cultural immersion: Engage with local life and cuisine.\", \"Visit Delhi's iconic landmarks such as India Gate, Humayun's Tomb & Qutub Minor.Explore New Delhi Parliament House, President's House, and India Gate.Visit Taj Mahal, one of the most breathtaking sights in the worldVisit the Golden Temple (Harmandir Sahib), the holiest shrine of SikhismMcLeod Ganj, the vibrant Tibetan community, and visit the Tsuglagkhang Complex\", 'Luxuriate in a chauffeured ride with a private car and driverIconic Monuments: Taj Mahal, Agra Fort, City Palace, Jal MahalArchitectural Marvels: Hawa Mahal, Amer Palace, Lotus Temple, Step Well and more', \"Explore Delhi's iconic landmarks like the Red Fort and Jama Masjid.Witness the eternal beauty of the Taj Mahal in Agra.Visit the Jaipur's regal heritage at Amber Fort and City Palace.Discover UNESCO World Heritage Sites: Qutub Minar and Humayun’s Tomb.Experience history and architecture at Fatehpur Sikri.\", 'Personalize itinerary as per your interests.Visit Palace of the Winds & Amber FortWitness Mughal & Rajput architecture.Enjoy luxury hotels in the Golden Triangle.Explore Delhi, Agra, and Jaipur.', \"Explore historic sites like the Red Fort, Jama Masjid, and India GateWitness the Taj Mahal's splendor at dawnDiscover the grandeur of Agra Fort, a UNESCO marvelExperience the allure of this UNESCO heritage siteExplore Jaipur's Amber Fort for panoramic views\", 'Explore Delhi, Agra, and Jaipur.Customize your itinerary based on interests.Visit Palace of the Winds & Amber Fort.Immerse in Mughal & Rajput architecture.', 'Discover the major sites such as Taj Mahal and River GangesExplore Indian culture with including Jaipur and VaranasiSee the amazing views of Ganga Aarti Ceremony at VaranasiSavor the bright flavors of Indian food', 'Explore the best historic cities of India, Delhi, Agra and Jaipur.Explore iconic forts, palaces, and UNESCO World Heritage sites.Shop for exquisite souvenirs in vibrant Indian markets', \"Explore Red Fort, Jama Masjid, Qutub Minar, and Humayun's Tomb in DelhiWitness the awe-inspiring Taj Mahal and delve into the exploration of Agra FortDiscover Jaipur's gems: Amber Fort, City Palace, Jal Mahal, Hawa Mahal & othersEmbark on a journey through Fatehpur Sikri's rich history as you tour to JaipurEnjoy seamless travel with convenient pick-ups, transfers, and hotel drop-offs\", 'Explore the National Capital \"Delhi\" and State Capital of Rajasthan \"Jaipur\"Experience the Old & New Delhi and Jaipur City Tour in two DaysEnjoy the Scenic Views between Delhi to Jaipur by AC Vehicle', 'Explore The Beauty Of Taj MahalVisit Magnificent Agra FortExplore Top Tourist Attractions Of DelhiVisit Amber Fort - Jal Mahal - Hawa MahalExplore Local Handicraft Market Of Agra & Jaipur', \"Witness the iconic Taj Mahal, an eternal symbol of love and a UNESCO Listed SiteExplore Agra Fort, a historic stronghold and UNESCO World Heritage siteExplore UNESCO-listed Fatehpur Sikri's captivating red sandstone structuresExperience Jaipur's royal heritage at the UNESCO-listed Amber FortDiscover Jaipur's gems: City Palace, Jal Mahal, and UNESCO's Jantar Mantar\", \"Explore the historic Jama Masjid and Chandni Chowk in Delhi.Pay homage to Mahatma Gandhi at Raj Ghat.Explore the architectural beauty of Humayun's Tomb and India GateWitness the majesty of the Taj Mahal at sunrise in Agra.Visit the UNESCO-listed Agra Fort and discover its rich history.\", 'Visit Qutub Minar, Humayun Tomb, India Gate, Lotus Temple in New DelhiView the breathtaking Taj Mahal and explore Agra Fort in AgraVisit Qutub Minar, Humayun Tomb, India Gate, Lotus Temple in New DelhiLearn about the history of these cities with an experienced tour guideEnjoy luxury transportation throughout the tour', \"Get seamless transfers for a hassle-free journey from Delhi to Agra and backExperience the Taj Mahal's grandeur at sunrise an iconic symbol of enduring loveExplore Agra Fort, witness the Baby Taj, and enjoy sunset views at Mehtab BaghExplore Agra Fort, witness the Baby Taj, and enjoy sunset views at Mehtab BaghEnjoy India's rich history through architectural wonders and cultural gems\", \"Explore Delhi, Agra, and Jaipur's rich heritage.Indulge in luxury hotels within the Golden Triangle.Journey through time with Mughal & Rajput architecture.Marvel at the Palace of the Winds & Amber Fort.Personalize your itinerary to suit your interests.\", \"Explore India's amazing history on this luxury tour of the Golden TriangleAdmire the magnificent architecture of Humayun's Tomb, Qutub Minar and moreGet an in-depth introduction to the city's top sights the Taj Mahal & Agra FortDiscover Amer Fort, Hawa Mahal, Jantar Mantar & other famous landmarks in JaipurProvides private air-conditioned car with uniformed driver and local tour guide\", \"Marvel at the timeless beauty of the Taj Mahal, a global architectural iconDiscover Delhi's history at Red Fort, Jama Masjid, Raj Ghat, India Gate & moreAppreciate the wonders of Fatehpur Sikri, a UNESCO site with captivating artExplore Jaipur's regal charm at Amber Fort, City Palace, and Hawa MahalImmerse yourself in history and culture as your guide shares captivating stories\", \"Visit the Taj MahalVisit Humayun's Tomb in New DelhiSee the famous Amber Palace in Jaipur\", 'See the Qutub Minar, Humayun Tomb, India Gate, Lotus Temple in New DelhiView the breathtaking Taj Mahal and explore Agra Fort in AgraVisit Amber Fort, City Palace, Jal Mahal, Hawa Mahal, Jantar Mantar in JaipurListen as your guide tells you all about the rich history and culture', 'Embark on private tour that combines the best trains Trip by Express trainExplore the Mesmerising & most Lovable Sunset and sunrise Taj Mahal views.Experience the 03 star or 05 star Hotel accomodation in agra.Explore the royal life of Mughals at Agra fort & Baby Taj.', \"Visit India Gate, Lotus Temple, Humayun's Tomb, and Qutub Minar, India Gate.Kalakarti Show, it is known Mohabbat – E- Taj Show in Agra.Visit and enjoy Taj Mahal (A Symbol of Love) SightseeingVisit Western and Eastern Group of Temples in KhajurahoElephant ride / Jeep ride at Amer Fort in Jaipur\", 'Visit three major cities of India. Delhi- Agra – Jaipur.Explore Two sides of Delhi, Old & New DelhiDiscover the world famous Taj Mahal during sunrise.Explore the beautiful city of Agra at your own paceTreat your eyes to the stunning architecture of Jaipur.', \"Feel amazed as you take in the sights of Delhi and Jaipur on a 2-day tourAdmire India's capital city, Delhi, and the Rajasthan state capital, JaipurExplore Old and New Delhi, visiting Humayun's Tomb, Qutub Minar, and moreDiscover the highlights of Jaipur, such as Amber Fort and the City PalaceEnjoy a private tour in an air-conditioned car and optional 5-star accommodation\", 'Step back in time and explore the historic cities of Delhi, Agra and JaipurStay in luxury hotels in the great cities of the Golden TriangleLearn about the history of India from your private tour guide.Luxury Transportation in your whole tour.Customize your itinerary in each city as per your own interests', \"Explore the rich heritage of the capital city of India, DelhiAdmire the cultural and historical marvels of Agra,Discover some of India's most iconic monuments over 2 days\", \"Explore India's bustling national capitalBe awed at the sight of the magnificent TA J MAHA LFind your spiritual self at the holy city of VaranasiExplore the gems of Rajasthan - Jodhpur, Udaipur, Jaipur, Ranthambhore & moreStir up the adventurer in you as you enter the tiger infested jungles\", 'Explore the two Heritage Cities of India - Delhi and Agra in 2 days.Learn about the History of Capital City Old & New Delhi along with Agra.Explore the one of the seven wonder of the world \"Taj Mahal\" & Agra Fort.', 'Discover the most famous UNESCO spots of India by Royal Enfield bikeEnjoy the company of Experienced English speaking tour guide during entire tour.500 CC bullet (Royal Enfield) will make your trip awesomeOur certified guide give you service during entire tour on royal Enfield bike.Enjoy the hospitality of 4 star heritage hotel.'], Size: 90\n"
     ]
    }
   ],
   "source": [
    "print(f\"Highlights: {Highlights}, Size: {len(Highlights)}\")"
   ]
  },
  {
   "cell_type": "code",
   "execution_count": 23,
   "id": "66eda047-1371-4468-86e7-7b3135b715f7",
   "metadata": {
    "scrolled": true
   },
   "outputs": [
    {
     "name": "stdout",
     "output_type": "stream",
     "text": [
      "Includes: ['Hotel pickup and drop-offPrivate tour2 nights accommodation (if option selected)Transportation by private, air-conditioned vehiclePrivate guide at all sitesRickshaw ride in Old DelhiDaily breakfast at hotels (if accommodation booked)Battery bus ride to the Taj MahalBottles of mineral water during the drives', 'Hotel or airport pickup and drop-off includedAir-conditioned private car for all transfers and sightseeingAn endless supply of water bottlesPersonal live tour guide in Jaipur, Agra, and DelhiHotel lodging for 2\\xa0nights in a hotel (If option chosen)Breakfast in the hotel in the morning (If option chosen)', 'Hotel or airport pick-up and drop-offAll transfers and sightseeing provided in an air-conditioned private carInclusive of car, driver, and fuel cost for a seamless journeyToll tax, parking, and driver allowance included in the packageStay hydrated with unlimited water bottles during your tourBenefit from insights with a live professional tour guide1-night hotel stay on a single/double basis (if option chosen)Enjoy a complimentary morning breakfast in the hotel (applicable only with the hotel option chosen)', 'Pick-up and drop-off at your hotel or the Delhi AirportTransportation by air-conditioned vehicle2 Night Hotel Accomodation (If Option Selected)Breakfast at Hotel (If Hotel booked with us)Professional tour guide for all SightseeingTuk Tuk Ride For Taj Mahal from ParkingBottled water in CarAll taxes and ChargesFuel Surcharges', \"2 nights' accommodation (if option selected)Daily hotel breakfastTransportation by private, air-conditioned carAll sightseeing with private local guidesBattery bus ride to and from the Taj Mahal parking lot up to the Taj MahalFuel surchargeAll taxes and service chargesAll applicable hotel taxesHotel or airport pickup and drop-offBottles of mineral water during car journeysPersonal care and attention\", 'Private 4 Days TourPrivate air-conditioned vehiclePick-up & drop off at hotelsAll sightseeing with local Tour guidesE-Vehicle ride to & from the Taj Mahal parking.3 nights accommodation (if option selected)Breakfast at the hotels (if option Selected)Bottles of mineral waterFuel surcharge', 'Private tour3 nights accommodation (if option chosen)Transportation by private, air-conditioned vehicleAll sightseeing with private local guidesDaily breakfast at the hotelsBattery bus ride to and from the Taj Mahal parkingFuel surchargeAll taxes and service chargesAll applicable hotel taxesPick-up and drop off at hotels, the airport or railway stationBottles of mineral water during the journeysPersonal care and attention', '4 nights accommodation inMeals: Daily breakfast at the hotel.Sightseeing by air-conditioned VehicleDestination Local Tour GuideBottle to drink fresh water while travelingAll taxes and parking charges.', \"Hotel or airport pickup and drop-offAll transfers and sightseeing in an air-conditioned private carIncludes toll tax, parking, and driver's allowanceComplimentary unlimited water bottlesPersonal live tour guide2-Nights hotel accommodation on single, double, twin, or triple sharing (based on the chosen option)Morning breakfast (if any hotel option chosen)\", 'Private Air Conditioned CarEnglish Speaking DriverAll Fuel Toll and parking charges during the tourPrivate Guide in Each CityAccomodation in 3 star Hotel (if option chosen ) on Twin Sharing BasisSkip The Line Entrance of Monuments (If Option Chosen )Buffet Breakfast (if option chosen )Sight seeing as per the itineraryBattery Bus in Taj Mahal', 'Pick up and drop off serviceTransportation in air-conditioned vehicle for 5 daysHotel accommodation 5 or 3 stars (If Option Selected)Daily breakfast at the hotel (if Hotel provided by us)Knowledgeable tour guide in Delhi, Agra, Fatehpur Sikri and JaipurFree water bottles and umbrellasAll parking fees and taxes are included', 'Hotel/airport pickup and drop-offTransportation in the air-conditioned carDriverGuideRickshaw ride in Old DelhiEntry tickets to all monuments (if option selected)2 nights hotel accommodation with breakfast (if option selected)', 'Hotel and Airport pick-up and drop-offAll sightseeing and transfers in an air-conditioned private carComplimentary water bottleLive professional tour guide1-Night hotel stay on single, double, twin, or triple sharing (applicable with hotel option)Complimentary morning breakfast at the hotel (included with the hotel option)', 'Hotel pickup and drop-offTransportation by private, air-conditioned vehicle2 nights accommodation with breakfast (if option selected)Daily breakfast at hotels (if accommodation booked)Rickshaw ride in Old DelhiBattery bus ride to the Taj MahalUnlimited bottles of mineral waterPrivate guide at all sites', 'Private 4 Days TourHotel or airport pickup and drop-off includedThree nights accommodation with breakfast (if option chosen)All transfers & sightseeing by private air-conditioned car and driverPrivate live tour guidePersonalized care and attentionTuk-Tuk Ride: To and from Old DelhiGolf Cart Ride: To and from Taj Mahal ParkingBottles of mineral water and soft drinks during the journeyFuel surcharge', 'Pick-up & Drop Service.Accommodation in Agra.Breakfast at Hotel in AgraAn experienced English speaking Tour GuideMineral water during sight-seeingTransportation service by Ac-Car.Free WiFi in Car.Toll Tax & Parking.', 'Hotel/Railway Station/Bus Station Pick-up & Drop by Air-Conditioned vehicleAir-conditioned vehicle & Private transportationFuel (Petrol/Diesel/Gasoline), Parking Charges, Toll Taxes & Interstate...Bottled waterFlight Tickets from Jaipur to Varanasi', '4 night accommodation in hotels (if option chosen)Pick up and drop-off at the airport or railway stationAir-conditioned car with a driverMineral waterfuelToll plazaparkingstate taxLive English guide in Delhi, Agra and Jaipur', 'Private tour4 nights accommodation (4, or 5-star hotel options available if option selected)Transportation by private, air-conditioned vehiclePrivate guide in all sitesRickshaw ride in Old DelhiDaily breakfast at the hotelsBattery bus ride to and from the Taj Mahal parking lot up to the Taj Mahal monumentFuel surchargeAll taxes and service chargesAll applicable hotel taxesPick-up and drop off at hotels, the airport or railway stationBottles of mineral water during the journeysPersonal care and attention', 'Pick-up and Drop-off from anywhere in Delhi/Ncr5 Night Hotel Accommodation 3/5 star hotel (if option selected)Breakfast at Hotel (if option selected)All Meal in Ranthambore (if option selected)Air Condition vehicle for 6 daysEnglish Speaking DriverLanguage expert tour guide in each cityEnglish speaking forest expert guide in RanthamboreOne morning & One evening Tiger SafariForest Vehicle expenses', 'Pick-up and drop-off at the airport or hotelAll sightseeing and transfers via air-conditioned private carToll tax, parking, and driver allowanceUnlimited water bottlesLive private tour guide2-night hotel accommodation (if hotel option chosen)Morning breakfast at the hotel (if hotel option chosen)', 'Airport or hotel Pick-up and drop-offPrivate transportation in an air-conditioned vehicleAll sightseeing with private local guidesAll applicable taxes and service chargesComplimentary bottles of mineral water during the journeysPersonalized care and attention3 nights accommodation (if selected)Daily breakfast at the hotels (if hotel option chosen)', 'Twin sharing accommodation (if selected)Hotel breakfast (if selected)Private air-conditioned vehicle for pick-up and drop-offFuel charges and parking feesProfessional tour guideComplimentary water bottleAll applicable taxes for a hassle-free journey.', 'Hotel pickup and drop-off1-nights accommodation with daily breakfast (if option booked)Transportation by private, air-conditioned vehiclePrivate guide at all sitesRickshaw ride in Old DelhiBattery bus ride to the Taj Mahal entry gateUnlimited bottles of mineral waterPrivate tour', 'Private tourTransport by private, air-conditioned carAll sightseeing with private local guidesFlight ticket from Jaipur to UdaipurAll taxes and service chargesHotel or airport pick-up and drop-offFive nights accommodation in hotels (if option selected)Daily hotel breakfast (if tour booked with hotels option)Flight ticket from Udaipur to Delhi (if option selected)', 'Hotel or airport pick-up and drop-offPrivate air-conditioned transportation with a driverGuided sightseeing tours with local experts1-Night hotel accommodation with breakfast (if option chosen)Battery bus ride to and from Taj Mahal parkingAll taxes and service charges includedBottled mineral waterPersonalized attention and care', 'Private Tour3 nights accommodation (if option chosen)Transportation by private, air-conditioned vehicleAll sightseeing with private local guidesDaily breakfast at the hotelsBattery bus ride to and from the Taj Mahal parking lot up to the Taj Mahal monumentFuel surchargeAll taxes and service chargesAll applicable hotel taxesPick-up and drop off at hotels, the airport or railway stationBottles of mineral water during the journeysPersonal care and attention', 'Pick-up and Drop-offPrivate Air conditioned vehiclePrivate Tour GuideEntry Ticket (If Option Selected)5*star Acccommodation(If Option Selected)Ranthambore Tiger SafariWater Bottle', 'Pick up & Drop offPrivate Air Condition TransportationReturn Train TicketsMonument Tickets (If option Selected)Lunch at Multicuisine Restaurants (If Option Selected)Live Tour Guide5 star Hotel Accommodation (If Option Selected)Water Bottles & UmbrellasAll Parking & Taxes', 'Hotel or airport pick-up and drop-offTravel in style with air-conditioned private car for all transfers and sightseeingAll expenses covered, including toll tax, parking, and driver allowanceComplimentary unlimited water bottlesLive professional tour guide1-Night hotel stay based on single, double, or twin sharing preferences (as per the chosen option)Morning breakfast at the hotel (if with hotel option chosen)', '1 Night Accomodation in Delhi1 Night Accomodation in Agra2 Night Accomodation in Ranthabore2 Night Accomodation in Jaipuron Room Plus Breakfast Basis 3/4 Star HotelAcc Transport Througout the Tour( Private Vehicle)Local Guides in All the CitiesIn Ranthambore Lunch/ Dinner Included (Ranthabore Accomodation on Ap Basis )', 'Hotel Pickup and drop-offAc Private Transport4 Star Hotel with Breakfast 3 NightTour GuideWater bottleWi-Fi in car', \"Pick up & Drop off AssistanceAir Condition CarMonument Entrance fee (If Option Selected)Lunch's (If Option Selected)3*or 5*Hotel Accommodation (If Option Selected)Local Tour GuidesWater Bottles & UmbrellasAll Parking & Taxes.\", 'Private transportation by AC VehicleRickshaw ride in Chandni ChowkEntrance fees to all monumentsLive tour guide for personalized experience3/4/5-star hotel accommodation (if option selected)Breakfast at the hotel (If Hotel booked with us)Tuk Tuk ride to and from the Taj Mahal parking lot up to the Taj MahalBottles of mineral water in the CarFuel SurchargesAll Taxes and Charges', 'Private tour4 nights accommodation (4, or 5-star hotel options available if option selected)Transportation by private, air-conditioned vehiclePrivate guide in all sitesRickshaw ride in Old DelhiDaily breakfast at the hotelsBattery bus ride to and from the Taj Mahal parking lot up to the Taj Mahal monumentFuel surchargeAll taxes and service chargesAll applicable hotel taxesPick-up and drop off at hotels, the airport or railway stationBottles of mineral water during the journeysPersonal care and attention', 'Hotel/Railway Station/Bus Station Pick-up & Drop by Air-Conditioned vehicleAir-conditioned vehicle & Private transportationFuel (Petrol/Diesel/Gasoline), Parking Charges, Toll Taxes & Interstate...Bottled water', 'Private air-conditioned transportationGuide3-star hotel accommodation in Delhi, Agra, and Jaipur (if option selected)Breakfast at the hotel (if hotel option selected)', '1 night accommodation in hotels (if option chosen)Pick up and drop-off at the airport or railway stationAir-conditioned car with a driverMineral waterfuelToll plazaparkingstate taxLive English guide in Agra and Jaipur', \"Private, air-conditioned transportation by carHotel or airport pickup and drop-off servicesAll sightseeing activities with private local guidesRickshaw ride in Old DelhiBus transfer from the parking lot to the Taj Mahal and vice versaInclusive of all applicable taxesComplimentary bottles of mineral water during journeysShared Jeep or shared Canter safari as per the tour itineraryLunch and Dinner included in Ranthambore (if the hotel option is selected)4 nights' accommodation with breakfast (if the option for accommodation is selected)\", 'Pick up & Drop offAir Condition TransportationReturn train fareMonument Tickets (If option Selected)Lunch at Multicuisine Restaurants (If option Selected)Live Tour Guide services5 star Hotel Accomodation(If option Selected)water bottles & UmbrellasAll Prking & Taxes', 'Private tourTransportation by air-conditioned vehicleHotel or airport pickup and drop-offAll sightseeing with private local guidesBus ride between Taj Mahal parking lot and the monumentBottles of mineral water for car journeysAll taxes and service charges including all applicable hotel taxes', 'Accommodation Double Sharing in 03-04 star hotel.BreakfastHotel/airport/train station pickup and drop-offTransport by air conditioned private vehicle.Professional guide.02 Mineral water bottles per person per day.All Applicable Taxes like fuel, parking & Toll Taxes etc.', 'Hotel or airport pick-up and drop-offPrivate air-conditioned car transfers and sightseeingEnjoy a two-night stay at 5-star luxury hotels with breakfast (if hotel option chosen)A rickshaw or tuk-tuk ride in Old DelhiPrivate tour guide at all sitesBattery bus ride to the Taj MahalBottles of mineral water during the tour', 'Hotel pick-up and drop-offDelhi-Agra-Jaipur-Delhi by private air-conditioned carPrivate Tour2 Nights Accommodation in 5*star or 3*star (if option selected)Daily breakfast at hotels (if accommodation is booked)Private live tour guide in each cityBattery bus ride to the Taj MahalRickshaw ride in Old DelhiPackaged mineral waterAll vehicle & travel expensesAll applicable taxes', 'Hotel pickup and drop-offGuided tours in Delhi, Agra and JaipurBreakfast at hotelsJungle safari at Ranthambore National Park in Sharing Jeep or Canter Bus3 Night Hotel Accomodation (If Option Selected)Dinner in Ranthambore (If Option Selected)All applicable taxes', 'Assistance with pick-up and drop-offAir-conditioned luxury carOld Delhi Rickshaw Ride2 nights’ hotel accommodation with breakfast (if option selected)Tour Guide Service in real time.Bottles of mineral waterAll taxes applicable', 'Expert Guides: The best tour guides in both Delhi and Agra who provide in-depth knowledge and local insight.Culinary Experience: Traditional Indian lunch at local eateries.Transport: Comfortable, air-conditioned vehicles for travel between Delhi and Agra.Overnight stay: Accommodation in a good hotel in Delhi.All taxes and parking fees', 'All transfers and sightseeing by an air-conditioned private vehicle2 nights accommodation with daily breakfast (if option chosen)Tour guide at all the sitesRickshaw ride in Old DelhiBattery bus from parking to Taj Mahal entry gateMineral water bottles during the tourPersonal care and attention', '2 nights accommodation (if option chosen)Transportation by private, air-conditioned vehicleAll sightseeing with private local guidesDaily breakfast at the hotelsBattery bus ride to and from the Taj Mahal parking lot up to the Taj Mahal monumentFuel surchargeAll taxes and service chargesAll applicable hotel taxesPick-up and drop off at hotels, the airport or railway stationBottles of mineral water during the journeys', 'All parking fees, tolls and taxes, allowances, fuel and interstate taxesSightseeing by private air-conditioned vehicleComplimentary bottles of water and napkinsTuk Tuk or Battery Buses at the Taj MahalAll Arrival and DeparturesNight Stay in 4 Star hotelPrivate live tour guideBreakfast and LunchProfessional driver', 'Pick-up and drop-off from any Hotel & Airport in Delhi/NcrPrivate tourPrivate transportation in an air-conditioned vehiclePrivate Tour Guide at all locations2 nights of accommodation with Breakfast - ( If Option Selected )Old Delhi rickshaw rideElectronic Vehicle ride for Taj MahalComplimentary bottles of mineral water', 'Private transportationAir-conditioned vehiclePick up & Drop OffLocal GuideBottled water', 'Welcome Drinks (non alcoholic) on Arrival.Pick up and drop at Delhi Airport by our Representative.Accommodation in good hotels in 2 cities.Daily Morning Buffet BreakfastAir-conditioned Car with well experienced License Driver.English Speaking Tour Guide, Approved by Government of India.Bottle to drink fresh water while travelingToll taxes And Parking.', 'Pick up & Drop offAir Condition Vehicle5* Hotel Accomodations (If Option selected)Breakfast at HotelLive Tour Guides - Delhi, Agra & Jaipur.Water bottles & UmbrellasAll Parking & Taxes', 'Hotel/Airport/Railway Station Pick-up & DropChauffeur Driven A/C Private Vehicle for sightseeingMonuments Entrance Fees /Camera FeesAccommodation / HotelsFuel (Petrol/Diesel/Gasoline), Parking Charges, Toll Taxes & Interstate Taxes.Professional guide ( available on re….)Bottled waterAll Government Taxes (Gst)', 'Accommodation in hotels in each destination.Daily breakfast to kickstart your day.Guided tours of Delhi, Agra, and Jaipur with expert insights.fresh water drinking bottle during travelPrivate air-conditioned transportation.All taxes and parking charges.', 'Accommodation Double Sharing in 03-04 star hotel.BreakfastHotel/airport/train station pickup and drop-offTransport by air conditioned private vehicle.Professional guide.02 Mineral water bottles per person per day.All Applicable Taxes like fuel, parking & Toll Taxes etc.', 'Private tour with dedicated attention.Comfortable travel in a private, air-conditioned vehicle.Option for 5 nights hotel accommodation with daily breakfast (if chosen).Guided sightseeing with local private guides.Battery bus ride to Taj Mahal and rickshaw ride in Old Delhi included.No additional fuel surcharge.All toll taxes and parking fees covered.Applicable hotel taxes included.Convenient pick-up and drop-off at hotels, airport, or railway station.Complimentary mineral water bottles during the journeys.', 'Private pickup and drop-offPrivate guidePrivate TourTransportation by air-conditioned carBottled mineral water', 'Transportation in private AC car4 Nights Hotel accommodation with breakfast (if option chosen)Entrance fees of all monumentsLive Tour GuidePickup and drop offBottled Mineral water', 'Hotel or airport pick-up and drop-offShared morning safari ride on Day 3Private air-conditioned car for sightseeing and transfersCar, driver, and fuelToll tax, parking, and driver allowanceUnlimited water bottlesTour guide at all sitesGovernment service tax3-night accommodation with breakfast (optional)', 'Accommodation Double Sharing in 03-04 star hotel.BreakfastHotel/airport/train station pickup and drop-offTransport by air conditioned private vehicle.Professional guide.02 Mineral water bottles per person per day.All Applicable Taxes like fuel, parking & Toll Taxes etc.Air Condition Chair Class Train Ticket from Delhi to Amritsar.All applicable Taxes like, fuel, parking & Toll Taxes etc.', 'Hotel pickup and drop-offPrivate tour guidePrivate tourWater bottles throughout the tourPrivate AC Vehicle (The Type of the vehicle depends on the no. of Adults)Car type for 1 to 2 people is an air-conditioned 4-seater Sedan; for 3 to 4 people is an air-conditioned 6-seater suv; for 5 to 10 people is an air-conditioned 10-seater van.3 Nights Hotel Accommodation (if option chosen)Breakfast (if option including hotel option chosen)Buffet Lunch (places mentioned in the itinerary)Fine Dine Dinner (if addon selected )Entrance fees to monuments (if option chosen)All taxes, fees and handling chargesFuel surchargeG.S.T (Goods and Services Tax)Personal care and attention', 'Hotel pickup and drop-offTransportation by private, air-conditioned vehicleTour guide at all sitesRickshaw ride in Old Delhi3-nights accommodation with breakfast (if option selected)Daily breakfast at hotels (if accommodation booked)Battery bus ride to the Taj Mahal entry gateUnlimited bottles of mineral water', 'Private tour with comfortable AC vehicle.Option for 2-night hotel stay with daily breakfast.Guided sightseeing with private local guides.Battery bus ride to Taj Mahal, rickshaw ride in Old Delhi.fuel surcharge.All toll tax and parking fees included.Applicable hotel taxesConvenient pick-up and drop-off at hotels, airport, or railway station.Complimentary mineral water bottles during the journeys.', \"Private tourTwo nights' accommodation with breakfast (if tour booked with hotel option).All sightseeing guided by local experts.Battery bus ride to and from Taj Mahal parking lot up to Taj Mahal.Inclusive of all taxes, service charges, and hotel taxes.Hotel or airport pick-up and drop-off services.Complimentary bottles of mineral water during journeys.Personalized care and attention throughout the tour.Car Type : for one to two people, four seater sedanCar Car Type : for three to four people, six seater MPV CarCar Type : for five to ten people, ten seater Van\", 'Exclusive private tour with personalized attention.Comfortable travel in a private, air-conditioned vehicle.Stay for 4 nights in well-selected hotels (optional).Enjoy daily breakfast at the hotels (optional).Explore all attractions with knowledgeable private local guides.Experience a battery bus ride to the Taj Mahal from the parking lot.Delight in a rickshaw ride through Old Delhi.No additional charges for fuel surcharge.All toll taxes and parking fees included.Applicable hotel taxes covered.Convenient pick-up and drop-off at hotels, airport, or railway station.Stay hydrated with complimentary bottles of mineral water during the journeys.', \"Hotel/Airport pickup and drop-offTour with transportation by private carMonuments sightseeing with tour guideAll taxes and service charges5 nights' accommodation in hotels with breakfast\", 'Breakfast & DinnerPrivate Tour3 Star HotelsTransport by private, Air-conditioned Car.All Sightseeing With private local tour guide.All taxes and service charges.Hotel or airport pick-up and drop-off.Bottles of mineral water during journeys.Pickup offered from airport, railway station, hotel or any pickup location in DelhiParking Fees', 'Hotel pick-up and drop-offAll sightseeing and transfers provided in a private, air-conditioned carInclusive of car, driver, and fuel costsToll tax, parking, and driver allowance covered.Enjoy unlimited complimentary water bottles during the tourLive professional tour guide4-Night hotel accommodation available on a single, double, or twin-sharing basis (as per selected option)Complimentary morning breakfast included (Only with the hotel option)', 'AC TransportationLive Tour GuideMonument entrance fee5* Hotel AccomodationWater bottles & UmbrellasAll Parking & taxes', 'Hotel pickup and drop-offPrivate tour2 nights accommodation (if option selected)Transportation by private, air-conditioned vehiclePrivate guide at all sitesRickshaw ride in Old DelhiDaily breakfast at hotels (if accommodation booked)Battery bus ride to the Taj MahalBottles of mineral water during the drives', 'Hotel pickup and drop-off2 nights accommodation with daily breakfast (if option selected)Transportation by private, air-conditioned vehicleTour guide at all sitesRickshaw ride in Old DelhiBattery bus ride to the Taj MahalBottles of mineral waterpersonal care and attention', 'Round-trip transportation from Delhi in an air-conditioned vehicle.Shopping time in Agra.Knowledgeable and professional tour guide.Accomodation Hotel in AgraBreakfast at HotelAll applicable taxes and parking charges.', 'Hotel pickup and drop-offPrivate tour2 nights accommodation (if option selected)Transportation by private, air-conditioned vehiclePrivate guide at all sitesRickshaw ride in Old DelhiDaily breakfast at hotels (if accommodation booked)Battery bus ride to the Taj MahalBottles of mineral water during the drives', 'Hotel or airport pick-up and drop-offAll transfers and sightseeing provided in an air-conditioned private carInclusive of car, driver, and fuel cost for a seamless journeyToll tax, parking, and driver allowance included in the packageStay hydrated with unlimited water bottles during your tourBenefit from insights with a live professional tour guide1-night hotel stay on a single/double basis (if option chosen)Enjoy a complimentary morning breakfast in the hotel (applicable only with the hotel option chosen)', 'Private tour with comfortable AC vehicle.Option for 3 nights accommodation (if chosen).Daily breakfast at the hotels.Guided sightseeing with private local guides.Battery bus ride to Taj Mahal, rickshaw ride in Old Delhi.No fuel surcharge.All toll tax and parking fees included.Applicable hotel taxes covered.Convenient pick-up and drop-off at hotels, airport, or railway station.Complimentary mineral water bottles during the journeys.', 'Hotel or airport pick-up and drop-offCar, driver and fuel costToll tax, parking and driver allowanceUnlimited water bottlesLive private tour guide3-Nights hotel accommodation on single/twin sharing basis (as per the chosen option)Daily morning breakfast in the hotels (if with hotel option chosen)All transfer and sightseeing by air-conditioned private car', 'Hotel pick-up and drop-offTravel comfortably in an air-conditioned private car.Receive unlimited water bottles.Personal tour guide in Jaipur, Agra, and Delhi2-accommodation in a hotel with morning breakfast (If option chosen)', 'Bottled WaterCoffee & TeaPickup & Transportation', 'Hotel pickup and drop-offPrivate tour2 nights accommodation (if option selected)Complete Transportation by private, air-conditioned vehiclePrivate Tour guide at all sitesDaily breakfast at hotels (if accommodation booked)Battery bus ride to the Taj MahalBottles of mineral water during the drivesSnaks', 'Pick up & Drop offAC TransportationLive Tour GuideReturn train TicketsMonument Tickets5 star Hotel Accomodationwater bottles & umbrellasAll parking & Taxes', 'Accommodation Double Sharing in 03-04 star hotel.BreakfastHotel/airport/train station pickup and drop-offTransport by air conditioned private vehicle.Professional guide.02 Mineral water bottles per person per day.All Applicable Taxes like fuel, parking & Toll Taxes etc.Airport arrival and departure transfers by same Car.AC Chair Class Shatabdi Train ticket from Agra to Orchha.Battery Van / Tonga ride on your way to the Taj Mahal in Agra.', 'Hotel pick-up and drop-offDelhi-Agra-Jaipur-Delhi by private air-conditioned carPrivate Tour2 Nights Accommodation in 5*star or 3*star (if option selected)Daily breakfast at hotels (if accommodation is booked)Private live tour guide in each cityBattery bus ride to the Taj MahalRickshaw ride in Old DelhiPackaged mineral waterAll vehicle & travel expensesAll applicable taxes', 'Transportation by air-conditioned vehicleHotel pickup and drop-offGuideEntrance fees5-star hotel accommodationBottles of water', 'Private Tour3 nights accommodation (if option chosen)Transportation by private, air-conditioned vehicleAll sightseeing with private local guidesDaily breakfast at the hotelsBattery bus ride to and from the Taj Mahal parking lot up to the Taj Mahal monumentFuel surchargeAll taxes and service chargesAll applicable hotel taxesPick-up and drop off at hotels, the airport or railway stationBottles of mineral water during the journeysPersonal care and attention', 'Pick-up and Drop-Off Service.Accommodation (If option Selected)Professional Tour Guide Service in your Preferred Language.Entrance fees for the Monuments in Agra.Private Air Conditioned Sedan/SUV Car with English speaking Chauffeur.Rickshaw ride in Old DelhiAll parking and toll fees, driver allowance, fuel, and taxesMineral Water Bottles', 'A comprehensive, fully escorted tour commencing and concluding in New DelhiAll transfers and transportation from the reception of the guests at the New Delhi international airport on the first day, to the drop at the international airport in New Delhi on the last dayGuests will have the luxury of private, air conditioned, and chauffeur driven vehicles for all transportation, sightseeing and transfersGuided walking tours as per the itineraryVaranasi sightseeing in a tuk tukAll entrance fees and charges to all monuments and/or attractions as per the programmeRanakpur marble temple with an audio- guideBoat rides at Varanasi & UdaipurTwo (02) jungle safaris at the Ranthambhore National Park - in shared vehiclesand a lot moreServices of your tour leader who is rigorously trained, approved and licensed (Gold Star Level) by the Central Ministry of Tourism, Government of India for the entire tour from New Delhi to New Delhi', 'Pick up & Drop offPrivate Air Condition TransportationReturn Train TicketsMonument Tickets (If option Selected)Lunch at Multicuisine Restaurants (If Option Selected)Live Tour Guide5 star Hotel Accommodation (If Option Selected)Water Bottles & UmbrellasAll Parking & Taxes', 'Pick-up and drop-off service from the hotel, airport or railway station by comfortable luxury car.comfortable Royal Enfield bullet tour with guide during entire tour.Parking charges, toll taxes, and interstate taxes.A professional guide to assist with the tour on Royal Enfield. (optional)Accommodation or hotels at 4 star premium heritage hotel are included in the package (optional)All government taxes, including the Goods and Services Tax (GST).'], Size: 90\n"
     ]
    }
   ],
   "source": [
    "print(f\"Includes: {Includes}, Size: {len(Includes)}\")"
   ]
  },
  {
   "cell_type": "code",
   "execution_count": 24,
   "id": "369fb69a-cea8-4bde-971a-f70faa10722f",
   "metadata": {},
   "outputs": [
    {
     "name": "stdout",
     "output_type": "stream",
     "text": [
      "current_price: ['₹9,520', '₹8,425', '₹5,500', '₹7,800', '₹14,000', '₹10,200', '₹25,000', '₹7,250', '₹7,824', '₹14,600', '₹14,800', '₹19,000', '₹5,500', '₹9,324', '₹7,000', '₹4,365', '₹80,000', '₹15,850', '₹29,250', '₹24,375', '₹10,000', '₹9,187', '₹20,271', '₹9,498', '₹30,500', '₹8,625', '₹23,500', '₹9,000', '₹9,450', '₹10,999', '₹108,000', '₹30,000', '₹13,000', '₹12,750', '₹25,000', '₹73,000', '₹6,525', '₹9,589', '₹35,555', '₹8,925', '₹19,000', '₹19,000', '₹8,450', '₹9,001', '₹18,700', '₹14,500', '₹4,350', '₹11,862', '₹17,999', '₹22,000', '₹9,360', '₹15,000', '₹3,335', '₹16,875', '₹25,026', '₹4,785', '₹70,000', '₹50,719', '₹14,000', '₹18,000', '₹18,565', '₹66,500', '₹29,675', '₹14,240', '₹28,446', '₹9,672', '₹42,711', '₹76,145', '₹20,500', '₹12,950', '₹11,000', '₹10,500', '₹9,494', '₹4,399', '₹13,890', '₹5,000', '₹29,280', '₹11,380', '₹8,324', '₹21,344', '₹12,065', '₹14,000', '₹60,000', '₹11,658', '₹8,800', '₹21,150', '₹24,000', '₹23,985', '₹10,500', '₹80,000'], Size: 90\n"
     ]
    }
   ],
   "source": [
    "print(f\"current_price: {actual_Price}, Size: {len(actual_Price)}\")"
   ]
  },
  {
   "cell_type": "code",
   "execution_count": 26,
   "id": "5c8eb207-0a6d-4e44-9243-03e18253cfc9",
   "metadata": {},
   "outputs": [
    {
     "name": "stdout",
     "output_type": "stream",
     "text": [
      "ids: ['528281', '445328', '444248', '625446', '554624', '364130', '532034', '558526', '465169', '480104', '469612', '479594', '444540', '626249', '555609', '500071', '508120', '629383', '533623', '497491', '490130', '637208', '491876', '630481', '554712', '730656', '543939', '599419', '476802', '444818', '471881', '479885', '491564', '625578', '544617', '618173', '485327', '659421', '446608', '470416', '617429', '653443', '674865', '544605', '629136', '519402', '500168', '669932', '542958', '451891', '553261', '617557', '503428', '474717', '494581', '502127', '649660', '493319', '617516', '534075', '668754', '673268', '470384', '667370', '493336', '647485', '493286', '482887', '613852', '454364', '468965', '531740', '618648', '558518', '553340', '644412', '493362', '446247', '557820', '583955', '697022', '476009', '649689', '479439', '484505', '532451', '474034', '709558', '470646', '529956'], Size: 90\n"
     ]
    }
   ],
   "source": [
    "print(f\"ids: {ids}, Size: {len(ids)}\")"
   ]
  },
  {
   "cell_type": "code",
   "execution_count": 27,
   "id": "ec7c1c3b-2fb4-4b41-affc-d017a05e5172",
   "metadata": {
    "scrolled": true
   },
   "outputs": [
    {
     "name": "stdout",
     "output_type": "stream",
     "text": [
      "Excludes: ['Entry feesLunch and dinnerTips', 'FoodEntry feesParking costsTips', 'Meals except breakfast, Laundry, phone calls, monument feestips and personal expenses', 'Meals and drinksEntrance fees to monumentsTip to Guide and Driver', 'GratuitiesEntrance fees to monumentsLunchDinner', 'Entry tickets (Approx 80 USD)Meals and drinksTips', 'Optional gratuitiesEntrance fees (approximately $60)Lunch and dinner', 'Monument Entry FeeGratuities', 'Excluded: meals (excluding breakfast), monument fees, laundry, phone calls, tips, and any additional personal expenses.', 'Lunch or DinnerGratuitiesMendatory X mas and New Year Gala Dinner to be paid at the Hotel Directly .', 'Lunch and Dinner expensesAny type of DrinksTour Guide for Chand Baodi StepwellMonument Entrance FeeTips and gratuities', 'Food and drinksPersonal expensesTips', 'Meals except breakfast, monument fees, tips and personal expenses', 'Meals and drinksMonument entry feesGratuityPersonal expenses', 'Entrance Fees (Approx. 70 USD for all monuments)Any Lunches, dinners, and extra drinksTips & Gratuities', None, 'Monuments Entrance Fees / Camera FeesHotel / AccomodationMeals & Personal ExpensesOther ActivitiesDriver Tips', 'Monuments entrance feesCamera chargesDriver and guide GratuitiesMealsPersonal expenses such as tips, laundry, telephone calls, liquor, shopping billsAny other activity which are not mentioned in the itinerary', 'Tips (optional)Entrance fees (approximately $80)Lunch and dinnerpersonal expenses', 'Lunch & DinnerAny drink served with mealMonument entrance feesAny photography feesPersonal ExpensesTip and Gratitude', 'Meals, excluding breakfastLaundry and phone call chargesTips, monument fees, and any other personal expenses', 'Meals and drinksEntrance fees to monumentsPersonal expenses', 'Monument feeFood and drinksGratuities', 'Entry feesMeals and drinksTips', 'LunchEntrance fees to all monumentsDinnerGratuities (optional)', 'Food and beveragesEntry ticketsTips', 'Optional gratuitiesEntrance fees (approximately $60)Lunch and dinner', None, 'DrinksTips & GratitudePersonal Expenses', 'Meals, monument fees, laundry, phone calls , tips and other personal expenses', 'Monument Enterance FeesJeep/Canter safari in RanthamboreMeals not Specified in the ItineraryTips / Laundary/ Telephone CallsElephant ride in Jaipur', 'Monument Entrance FeesFood and DrinksElephant Ride at Amber fortGratuities', 'Any DrinksTips & Gratitude', 'Meals and drinks (unless specified)Monument Entrance TicketsPersonal expensesTips', 'Tips (optional)Entrance fees (approximately $80)Lunch and dinnerpersonal expenses', 'Monuments Entrance Fees / Camera FeesHotel / AccomodationMeals & Personal ExpensesOther ActivitiesDriver Tips', 'Entry fees', 'Monuments entrance feesCamera chargesDriver and guide GratuitiesMealsPersonal expenses such as tips, laundry, telephone calls, liquor, shopping billsAny other activity which are not mentioned in the itinerary', 'Meals except breakfast, tips, laundry, entry fee, phone calls and other personal expenses', 'DrinksTips & GratitudeAny Personal Expenses', 'Tips (optional)Entry feesLunch and dinnerHotel Stay', 'Any Monuments Entrances Fees.Any Personal Expense.Camera fees.Any Tips.Any Domestic & International Flight Ticket.New Year & Christmas Day Gala Dinner', 'Meals and drinksEntry feePersonal expensesTips', 'Monument Entrance TicketsLunch/ DinnerAny kind of drinks and beverageAny Personal expensesTips / Gratuities', 'Meals and Drinks not specifiedEntrance fees to all MonumentsPersonal ExpensesTips and Gratuities', 'All monument entrance ticketsAny type of food and drinkGratuities or tips for the driver and guidePersonal costs of any type', None, 'Meals and drinksEntry feesTipsPersonal expenses', 'Optional gratuitiesEntrance feesLunch and dinner', 'Flight Tickets (Mumbai – Delhi – Mumbai)Monument entrance feesTips and Gratuities', 'Any type of DrinksLunches and DinnersMonument Entry FeesTips and Gratuities', 'Monument FeeLunchGratuitiesHotel Stay', 'Personal expenses.Gratuities', 'Monument feesLunch & DinnerDrinksTips & Gratitude', 'Souvenir photos (available to purchase)Meals ExpensesPersonal ExpensesOther ActivitiesDriver & Guide’s Tips', 'Personal expenses.Gratuities', 'Any Domestic Flight Ticket (From Khajuraho to Delhi).Any Tips.Monument Entrance Fee / Ticket.Any Personal Expenses.New Year & Christmas Gala dinner.', 'Monument entrance feescamera fees at monumentsGratuities are optional and not part of the packageTravel insurance, flight & train ticketsMedical care expensesLunch and dinner expensesPersonal expenses such as phone calls, table drinks, etc.,Anything not mentioned in the inclusions list', 'Entry ticketsLunches, dinners, and extra drinksTipsHotel Stays', 'Anything which is not mentioned in inclusionsGratuities(Optional)', 'Meals, tips, laundry, entry feesPhone calls and personal expenses', 'Any Domestic and International Flight Ticket. Airport Taxes.Any Monuments Entrance Fees / Ticket.Any Personal Expenses.Any Tips.Camera Fees.New Year, Christmas day gala dinner cost and room hike supplement charges. (If Applicable).', 'GratuitiesDrinks during Breakfast, Lunch and Dinner', 'Meals and drinksMonument entry feesGratuityPersonal expenses', 'Monument entrance fees, camera fees at monuments.Gratuities are optional and not part of the package.Excludes travel insurance, flight & train tickets.Medical care expenses are not covered.Entrance fees approximately $60.Lunch and dinner expenses are not included.Personal expenses like phone calls, table drinks, etc., not part of the package.Anything not mentioned in the inclusions is not included in the tour.', 'Meals and drinksEntry TicketsTips', 'Monument entrance feesCamera fees for monumentsGratuities are optional and not includedTravel insurance, flight & train ticketsMedical careLunch and dinner ExpensesPersonal expenses such as phone calls, table drinks, etc.,Anything not mentioned in the inclusions list', 'Tips (optional)Lunches and dinnersEntrance Tickets of all Monuments.', 'LunchAlcoholic BeveragesBrunchMonument entrance fee', 'Excluding breakfast, this does not cover meals, monument fees, tips, and personal expenses.', 'LunchDrinksAny personal expensesTips & Gratitude', 'Monuments Entry TicketsAny Personal ExpensesAny MealsAny Tips Driver & Guide', 'Meals and drinksEntrance feesTips', 'Food or drinksMonument Entry ticketlunchPersonal expensesGratuities', 'Tips (optional)Entrance feesLunch and dinner', 'Meals except breakfast, Laundrymonument feesphone callstips and personal expenses', 'Gratuities are optional and not included.Excludes travel insurance, flight & train tickets.Entrance fees (approx. $60) are not part of the package.Lunch and dinner expenses are not covered.', 'Meals except breakfast, monument fees, tips and personal expenses', 'Meals, parking costs, laundry, monuments fee, phone calls, tips, and additional personal expenses', 'Entrance Fees to AttractionsAdditional On-Site Guides', 'Entry feesLunch and dinnerTips', 'LunchAny Drinks', 'Any Domestic Flight (Like Khajuraho to Delhi)Any Personal Expenses.Monument Entrance Fees.TipsNew Year & Christmas Gala Dinner.', 'Monument Entrance TicketsLunch/ DinnerAny kind of drinks and beverageAny Personal expensesTips / Gratuities', 'Lunch, dinner and drinksTips', 'Optional gratuitiesEntrance fees (approximately $60)Lunch and dinner', 'Tips / Gratuities to Tour Guide & Chauffeur.Any personal expenses.', 'Airfare/tickets from the home country to New Delhi and/or backAny accommodationAir travel from New Delhi to Varanasi - from Varanasi back to New Delhi - New Delhi to JodhpurTips and gratuities – including those for the driverPersonal expenses like visa, laundry, phone calls, mineral water, drinks, shopping, and other similar expensesCharges for any optional activities or visits not covered in the itinerary, though almost everything has been coveredMealsAny other expense of similar nature which is not explicitly listed in the “Inclusions” section', 'DrinksTips & GratitudeAny Personal Expenses', 'Souvenir photos, which may be available for purchase separately.Meals expenses, which are not covered by the package.Personal expenses, such as shopping or additional activities not included in the itinerary.'], Size: 90\n"
     ]
    }
   ],
   "source": [
    "print(f\"Excludes: {Excludes}, Size: {len(Excludes)}\")"
   ]
  },
  {
   "cell_type": "code",
   "execution_count": 28,
   "id": "7e2c8025-0a5d-4592-a26f-09163319035a",
   "metadata": {
    "scrolled": true
   },
   "outputs": [
    {
     "name": "stdout",
     "output_type": "stream",
     "text": [
      "overview: ['Embark on a private 3-day Golden Triangle Tour from Delhi with included hotel accommodation. Discover the cultural gems of Delhi, Agra, and Jaipur, featuring iconic landmarks like the Taj Mahal.', \"Explore India's Golden Triangle on a 3-day tour of Delhi, Agra and Jaipur. Visit the Taj Mahal, Amer Fort, Fatehpur Sikri, and Qutub Minar, uncovering India's rich cultural diversity.\", 'Experience the beauty of Agra Fort, Baby Taj, and the Taj Mahal at both sunrise and sunset. Opt for a hotel stay and spend the second day exploring the UNESCO World Heritage Site of Fatehpur Sikri.', 'Explore the highlights of the Golden Triangle on a 3-day tour from Delhi. Visit the Taj Mahal, Agra Fort, Amber Fort, and more. Get the benefits of Hotel Accomodation, Pick-up & Drop-off service.', 'Explore 3-day Golden Triangle tour with Hotels from Delhi with a private car and driver. You will experience the Taj Mahal at sunrise, as well as various other prominent monuments of Agra and Jaipur.', 'Visit 3 major cities of India on this private 4-day Golden Triangle tour. Enjoy a personal tour guide, private air-conditioned transportation, and optional accommodation with included breakfasts.', 'Visit the great cities of India’s famous Golden Triangle on a private tour from Delhi. See the most magnificent monuments of Delhi, Agra, and Jaipur and make unforgettable memories.', 'Explore a 5-day Golden Triangle itinerary that includes breakfast at hotel and comfortable air-conditioned transport. Golden Triangle Tours cover three major cities of India Delhi, Agra and Jaipur.', 'Experiencing the most famous sites in India can be done on an exclusive 3-day tour of the Golden Triangle. The Delhi, Agra, and Jaipur tourist routes are often referred to as the \"Golden Triangle.\"', 'Explore the Best of North India in this 3 day Tour of New Delhi ,Agra and Jaipur from New Delhi.The Tour Includes Accommodation in 3 star Hotel ,Entrance of Monuments and Private air conditioner Car', 'Discover the Golden Triangle in 5 days and 4 nights. Explore Islamic and Hindu architecture in Old and New Delhi, visit the Taj Mahal and the city of Agra, and visit the Amer Fort in Jaipur.', 'Explore Delhi, Agra, and Jaipur on a 3-day guided trip from Delhi. Marvel at breathtaking monuments, including the Taj Mahal and Agra Fort. Book options for entry tickets and accommodation.', \"Explore Delhi and Agra in style with a private car tour. Your expert guide will take you to must-visit attractions like the Taj Mahal, Agra Fort, Jama Masjid, Humayun's Tomb, and more.\", 'Explore the Golden Triangle on a 3-day tour from Delhi, visiting iconic sites like the Taj Mahal, Agra Fort, Fatehpur Sikri, Amber Fort, Jal Mahal, and more.', 'Come and fall in love with our Golden Triangle Tour 4 days wherein we would take you to the journey to Delhi Agra & Jaipur See the Qutab Minar Lotus Temple Taj Mahal Agra Fort Hawa Mahal City Palace.', 'If you are planning to visit India for the first time, then you explore the most important cities like Delhi and Agra.', 'Explore the architectural & heritage marvel in Delhi, Agra & Jaipur with Varanasi on this 7 Days Trip from Delhi & experience the cultural diversity by explore these famous city of India with Varanasi', 'Enjoy a 5 day Golden Triangle tour covering Delhi, Agra and Jaipur in which you will encounter various famous landmarks, including a breathtaking sunrise excursion of the Taj Mahal.', 'Experience the allure of the Private Golden Triangle Tour 5 Days the essence of this remarkable region convergence of culture, art, and profound historic significance that will leave you spellbound.', 'Experience 6 days tour of Delhi, Jaipur, Agra & Ranthambore by car. Explore the rich history and experience the wildlife in Ranthambore. A delectable blend of culture, heritage and nature awaits you.', 'Indulge in a lavish 3-day private Golden Triangle tour, discovering Delhi, Agra, and Jaipur, complete with pick-up and drop-off services', 'Discover the Golden Triangle of India on a 4-day tour from Delhi. Explore the cities of Agra and Jaipur, and see iconic landmarks like the Taj Mahal, Agra Fort, and Amber Fort.', 'Make the most of your first day exploring City Palace, Jantar Mantar, and Amber Fort. Reserve the second day for Hawa Mahal, Jaigarh, and Nahargarh Forts.', 'Explore the Golden Triangle on a 2-day tour from Delhi. Visit Agra and Jaipur, and see the Taj Mahal, Agra Fort, Amber Fort, City Palace, Hawa Mahal, and Jantar Mantar.', 'This 6-Day Golden Triangle and Udaipur tour itinerary consists of 4 famous cities in India: Delhi, Agra, Jaipur and Udaipur. Visit all their amazing sites with a private guide, including the Taj Mahal', \"Discover India's wonders in just two days. Begin with the Taj Mahal and Agra Fort in Agra, then delve into Jaipur's majestic forts and palaces, concluding with a return journey.\", \"Explore India's Golden Triangle on a Private 4-day tour. Travel comfortably in an air-conditioned vehicle from Delhi to Agra to Jaipur and back. Discover iconic attractions with an expert local guide.\", 'Explore all the major attraction of New Delhi, Agra, Jaipur & Fatehpur Sikri with Ranthambore Tiger Safari. Visiting stunning forts and palaces showcasing Mughal and Rajput architecture.', 'Begin in Delhi, the bustling capital known for its vibrant culture. Then, travel to Agra, home to the majestic Taj Mahal, a UNESCO World Heritage Site and one of the New Seven Wonders of the World.', 'Discover Agra and Jaipur on a quick Golden Triangle tour from Delhi. See the Taj Mahal, Agra Fort, Hawa Mahal, and Amber Fort with a guide. Various hotel options available.', 'Planning for a holiday the pick India as your destination as this is one region which is studded with wonderful sites.\\nSo you can enjoy with my agra travel tour.', \"Explore the best of India's cultural heritage on a 4-day Golden Triangle tour. Visit Delhi, Agra, and Jaipur to witness iconic landmarks, magnificent forts, and timeless wonders like the Taj Mahal.\", \"Uncover Agra's majesty with Taj Mahal, delve into history at Fatehpur Sikri, and relish wildlife encounters at Keoladeo National Park. An unforgettable journey of heritage and nature!\", \"Discover the highlights of India's Golden Triangle on a private tour. Visit the Taj Mahal, Agra Fort, and the Amber Fort. Stay in luxury hotels in Agra and Jaipur or book your own accommodation.\", 'Experience the allure of the Private Golden Triangle Tour 5 Days the essence of this remarkable region convergence of culture, art, and profound historic significance that will leave you spellbound.', \"Discover the architectural and heritage wonders of Delhi, Agra, and Rajasthan, experiencing India's rich cultural diversity through this tour.\", 'Explore the top sights in the cities of Delhi, Agra, and Jaipur on this 4-day tour from Delhi. Choose from options that include perks like accommodation, upgraded transportation, and breakfast.', 'Enjoy a 2-day Golden Triangle tour covering Agra and Jaipur in which you will encounter various famous landmarks, including a breathtaking excursion of the Taj Mahal and pink city Jaipur.', 'Discover the best of India on a 5-day private tour from Delhi to Agra, Jaipur and Ranthambore. Visit the Taj Mahal, enjoy a tiger safari, tour the UNESCO-listed Amber Fort and more.', 'Explore two famous cities of India on a Private Tour From Delhi. Spend Day one Exploring the Capital Including Humayun Tomb and Day two to Enjoy the train to Agra to visit the Taj mahal & Agra Fort.', 'Embark on a 5-day luxury tour to explore the iconic landmarks of Delhi, Agra, and Jaipur, marveling at their magnificent beauty.', 'Delhi, officially known as the National Capital Territory of Delhi (NCT), is the capital city of India. It is one of the most historically significant and culturally vibrant cities in the country.', 'Discover the richness of Indian history on a luxurious 3-day Golden Triangle tour, immersing yourself in the iconic sights of Delhi, Agra, and Jaipur with a private tour guide.', 'The Delhi Agra Jaipur Tour Package, aka the most fascinating, yet classical short tour of Northern India. In this tour, you will discover the three major cities of India; Delhi, Agra and Jaipur.', 'Start a 4 days guided tour from Delhi to Agra, Ranthambore and Jaipur. Explore the vibrant streets of Delhi, visit the iconic India Gate and marvel at the grandeur of the Taj Mahal.', 'See the best triangle tour of Delhi, Jaipur, and Agra on a 3-day trip with a tour guide, transfers, and accommodation included. Explore the glory of monuments and history as you visit heritage sites.', 'Discover the rich tapestry of history culture and heritage in the company of the best tour guides on a captivating tour of Delhi and Agra This unique tour takes you from Delhi to the Taj Mahal in Agra', 'Join a private 3-day Golden Triangle Tour starting from Delhi. Explore the cultural highlights of Delhi, Agra, and Jaipur, featuring iconic attractions like the Taj Mahal', \"Spend Memorable 3 days traveling through India's Golden Triangle, Delhi-Agra-Jaipur Start From Delhi, where you visit monuments, temples, Agra to visit the Taj Mahal, Explore Jaipur at last day.\", 'Visit the Taj Mahal on a Private guided overnight stay flying from Mumbai, with all travel details taken care of. Discover Baby Tag, the Taj Mahal, Mehtab Bagh, and Agra Fort.', \"Discover India's heritage on a private 3 days Golden Triangle tour of Delhi, Agra & Jaipur. Alternative accommodation available. Visit iconic places like Jama Masjid, Taj Mahal & Amber Fort.\", 'Embark on a 3-day luxury tour to explore the iconic landmarks of Delhi, Agra, and Jaipur, marveling at their magnificent beauty.', \"Experience the magic of India's Golden Triangle in just 3 days. Starting from Delhi. Then, see the grand Taj Mahal in Agra, followed by the royal splendor of Jaipur. including breakfast.\", 'Explore the Golden Triangle 5 Days & 4 Nights Tour. Here you will Explore islamic & Hindu Architecture. Visit Old & New Delhi, Taj Mahal & Agra City Tour & Next Destination will be Amer Fort Jaipur.', \"Explore Agra's beauty on a 2-day tour from Jaipur with drop-off in Delhi. Witness Taj Mahal at sunrise, visit Agra Fort & Fatehpur Sikri. Private vehicle, expert guide, and monument fees included.\", 'Explore India 7 Day Tour. This tour takes you from the heart of Delhi to the eternal beauty of the Taj Mahal and then on to the wild wonders of Ranthambore National Park and enjoys breakfast each day.', 'Golden Triangle with Khajuraho Tour is a popular itinerary that combines the cultural and historical highlights of the Golden Triangle (Delhi, Agra, & Jaipur) with the stunning temples of Khajuraho', '6-day Golden Triangle tour in India. Private AC vehicle, iconic sights like Taj Mahal, Red Fort, Hawa Mahal, and more. Unforgettable journey!', 'Embark on a 4-day luxury tour to explore the iconic landmarks of Delhi, Agra, and Jaipur, marveling at their magnificent beauty.', 'Experience the cultural heritage and historical grandeur of Delhi, Agra, and Jaipur during a 5-day sightseeing excursion from New Delhi. Opt to include a 4-night stay in a 3 or 5-star hotel.', 'Discover on a 4-day journey from Delhi to Jaipur, Agra, and Ranthambore. Immerse yourself in Indian history and culture, explore UNESCO sites, and encounter Bengal tigers in their natural habitat', 'Touring Delhi, Agra, Amritsar, and Dharamshala offers a rich tapestry of culture, history, and spirituality. Where you will exactly feel and enjoy Incredible India Tour!!', \"Unveil Delhi's treasures, the Taj Mahal's magnificence, and Jaipur's grandeur on this private tour. Enjoy this remarkable 4-day Golden Triangle journey with hotel pickup and private Transfers\", \"Explore India's Golden Triangle: Delhi, Agra, Jaipur. Iconic landmarks, vibrant cultures, unforgettable memories. Enhance your tour by selecting accommodations in luxurious 5-star hotels.\", 'Experience captivating 3-day Golden Triangle tour. Travel in a AC vehicle between Delhi, Agra, & Jaipur, ensuring a comfortable journey. Witness iconic landmarks Taj Mahal, Red Fort, Hawa Mahal & more', \"Discover India's Golden Triangle in 3 days with a private car: Day one, explore Old and New Delhi; day two, visit Agra and Amber Fort; day three, witness the sunrise at the UNESCO-listed Taj Mahal.\", \"Explore India's Golden Triangle in 5 days. Private AC vehicle, iconic sights like Taj Mahal, Red Fort, Hawa Mahal, and more. Unforgettable journey!\", 'Experience one of the most beautiful journeys from New Delhi to Agra visit Delhi, Agra, Jaipur, and Varanasi. Book this private Golden Triangle Tour With Varanasi for 8 Nights/9 Days memorable trip.', \"Explore India's Golden Triangle Tour 4 Nights & 5 Days Package (Delhi, Agra, and Jaipur). Witness history, culture, art, and breathtaking historic significance at affordable Rates\", \"Explore India's famous Golden Triangle: Delhi, Agra and Jaipur on a private tour from Delhi. Choose to book your own hotels or book with hotels and marvel at India's iconic attractions.\", 'Explore the two Iconic cities of India \"Delhi\" and \"Jaipur\" on Private Tour. Spend a day to explore Old & New Delhi and experience the other day to enjoy Jaipur also known as Pink city of Rajasthan', 'Experience journey Delhi Agra and Jaipur in 2 Nights and 3 Days by air-conditioned car on your Golden Triangle Tour 3 Days and visit Most popular UNESCO World Heritage and Experience of indian food.', \"Experience a fast-paced private trip through India's Golden Triangle, where every moment is a highlight as you dash from Delhi's modernity to Agra's timeless Taj Mahal and Jaipur's colorful traditions\", 'Embark on a captivating 2-day cultural journey that will unveil the best of both worlds – the historic charm of Delhi and the timeless beauty of the Taj Mahal in Agra.', 'Explore Delhi, Agra, and Jaipur on a 3-day guided trip from Delhi. Marvel at breathtaking monuments, including the Taj Mahal and Agra Fort, and upgrade your tour for entry tickets and accommodation.', 'Experience the beauty of Agra Fort, Baby Taj, and the Taj Mahal at both sunrise and sunset. Opt for a hotel stay and spend the second day exploring the UNESCO World Heritage Site of Fatehpur Sikri.', 'Embark captivating 4-day Golden Triangle tour in India. Enjoy a private AC vehicle for comfortable travel between Delhi, Agra, & Jaipur. Witness iconic landmarks like Taj Mahal, Red Fort, Hawa Mahal.', \"Discover India's Golden Triangle, a route connecting Delhi, Agra and Jaipur. Discover local flavors, stroll through local markets, and visit UNESCO World Heritage sites with your guide.\", \"The Golden Triangle Tour captures India's royal heritage in Delhi, Agra, and Jaipur, offering a blend of British, Rajputana, and Mughal influences in a brief itinerary.\", \"Explore India's Golden Triangle on a private 3-day tour (Delhi, Agra, Jaipur). See UNESCO sites, incl. Taj Mahal at sunrise. Private transport and iconic landmarks await. An unforgettable journey!\", \"Explore the wonders of India's Golden Triangle on a private 3-day tour from Delhi. Experience culture of Delhi, beauty of the Taj Mahal in Agra, and heritage of Jaipur. Hotel accommodation included\", 'Experience the Indelible Vande bharat Train Journey & Mesmerising Taj Mahal Sunset & sunrise Views with 5*Hotel Accomodation in Agra and Visit the palace of kings \"Agra Fort\", Baby Taj & Mehtab Bagh.', 'Delhi-Agra with Khajuraho 05 Nights / 06 Days tour offers a condensed yet captivating experience that combines the iconic sites of Delhi and Agra with the intricate temple architecture of Khajuraho.', 'The Delhi Agra Jaipur Tour Package, aka the most fascinating, yet classical short tour of Northern India. In this tour will discover the three major cities of Northern India; Delhi, Agra, and Jaipur.', 'Explore 2 of India\\'s most iconic cities, Delhi and Jaipur, on a 2-day private tour. Spend a day exploring Old and New Delhi\\'s highlights, then discover the \"Pink City\" of Jaipur on the second day.', \"Explore India's Golden Triangle on a Private 4-day tour. Travel comfortably in an air-conditioned vehicle from Delhi to Agra to Jaipur and back. Discover iconic attractions with an expert local guide.\", 'Explore in two days the rich heritage of the capital city of India, Delhi, and the past historical glory of the capital city of Mughal Empire Agra in a short period of time.', 'A comprehensive, fully escorted, 12 day tour of the most sought after destinations in India !!\\nNew Delhi- Varanasi- Jodhpur- Udaipur- Jaipur- tigers at Ranthambhore- the Taj Mahal & more !', 'Begin in Delhi, the bustling capital known for its vibrant culture. Then, travel to Agra, home to the majestic Taj Mahal, a UNESCO World Heritage Site and one of the New Seven Wonders of the World.', 'Discover top most autunitic spots of India by motorbike Royal Enfield. Take an original journey on a Royal Enfield (Duk-Duk) with the certified guide during entire tour.\\nDelhi, Agra, Jaipur, Pushkar'], Size: 90\n"
     ]
    }
   ],
   "source": [
    "print(f\"overview: {overview}, Size: {len(overview)}\")"
   ]
  },
  {
   "cell_type": "code",
   "execution_count": 29,
   "id": "09f255bb-a7ee-492b-ac7e-f11a7b0ac87e",
   "metadata": {},
   "outputs": [
    {
     "name": "stdout",
     "output_type": "stream",
     "text": [
      "live_tour_guide_languages: ['English, Spanish, French, German, Russian, Hindi, Portuguese, Japanese, Italian', 'English, French, German, Hindi, Japanese, Spanish, Russian', 'English, French, Spanish, Russian, German, Japanese, Hindi', 'English, French, German, Spanish, Italian, Japanese, Chinese, Russian, Portuguese, Hindi', 'English, Spanish, French, German, Russian, Hindi, Japanese, Portuguese', 'English, French, Russian, Spanish, Japanese, German, Italian, Chinese, Hindi, Portuguese, Arabic', 'English, Spanish, Japanese, Hindi, French', 'English, French, German, Hindi, Japanese, Russian, Spanish, Urdu, Italian, Chinese', 'English, French, Spanish, Russian, German, Japanese, Hindi', 'English, German, Hindi, Russian, Spanish, French, Bengali, Bihari', 'English, Spanish, French, Japanese, Russian, German, Italian, Hindi, Chinese', 'Pick-up Available from any Hotel in Delhi / Gurgaon / Noida. Pick-Up Available at Delhi Airport - Exit of Gate no. 4, terminal 3 Arrivals', 'English, French, Spanish, Russian, German, Japanese, Hindi', 'English, French, German, Spanish, Russian, Hindi', 'We pick-up from hotel anywhere in Delhi / Gurgaon / Noida / Faridabad / Ghaziabad. We also pick-up from Delhi Airport at Terminal 3.', 'Spanish, French, Japanese, English, Hindi, Urdu', 'Your hotel in Delhi (please provide your hotel details)\\nDelhi Airport (please provide your flight details)\\nDelhi Railway Station (please provide your train details)\\nDelhi Bus Station (please provide your bus details)', 'English, Hindi', 'English, French, Russian, German, Spanish, Hindi, Japanese, Italian', 'English, French, German, Spanish, Italian, Japanese, Chinese, Portuguese, Hindi', 'English, French, German, Hindi, Japanese, Russian, Spanish', 'English, French, Spanish, Russian, German, Hindi, Italian', '', 'English, French, Russian, Spanish, German, Japanese, Hindi', 'English, French, German, Hindi, Portuguese, Spanish, Japanese, Russian', 'English, French, Spanish, Russian, German, Hindi', 'English, Spanish, French, German, Russian, Hindi, Japanese, Portuguese, Italian', 'English, French, Spanish, Japanese, Hindi', 'English, Hindi, Spanish, French, Japanese, German, Russian, Portuguese, Italian, Arabic', 'English, French, Spanish, Russian, German, Japanese, Hindi', 'English, Russian, Spanish, Hindi', 'English, French, Spanish, Hindi', 'English, Hindi, Spanish, French, Russian, German, Italian, Japanese, Portuguese, Chinese', 'Chinese, English, French, German, Hindi, Italian, Japanese, Portuguese, Russian, Spanish', 'English, Spanish, French, German, Hindi, Japanese, Russian, Italian', 'English, French, Hindi, Spanish', 'Spanish, English, German, Japanese, French, Russian, Hindi, Urdu, Italian, Chinese', 'English, Hindi', 'English, French, German, Japanese, Russian, Spanish, Hindi', 'English, Spanish, French, Russian, German, Japanese, Italian, Chinese, Arabic, Hausa, Hindi, Portuguese', 'English, French, Spanish, Hindi', 'English, Spanish, Russian, German, French, Italian, Hindi', 'English, French, Spanish, Russian, German, Hindi', 'English, Spanish, French, Russian, Hindi, German, Japanese', 'Chinese, English, French, German, Hindi, Italian, Japanese, Portuguese, Spanish, Russian', '', 'German, Spanish, Japanese, French, English, Russian, Hindi, Urdu, Italian, Chinese', 'English, Hindi', 'English, German, Spanish, French, Russian, Hindi, Japanese', 'English, French, Italian, Hindi, German, Russian, Spanish', 'Arabic, Chinese, English, French, German, Hindi, Italian, Japanese, Portuguese, Russian, Spanish', 'English, Hindi, Spanish, French', 'German, Spanish, French, Japanese, English, Russian, Hindi, Urdu, Italian, Chinese', 'English, Hindi, Spanish, French, Russian, Japanese, Italian, German, Arabic, Chinese, Portuguese', '', 'Spanish, French, Russian, Japanese, English, Hindi, Urdu, German, Italian, Chinese', 'English, Spanish, French, German, Russian, Hindi', '', 'English, French, Hindi, Spanish', 'English, French, German, Hindi, Italian, Spanish', 'English, French, Russian, Spanish, German, Japanese, Hindi', 'English, Hindi, Spanish, Russian, French, Italian', 'English, French, German, Hindi, Italian, Russian, Spanish', 'English, French, Spanish, Russian, German, Japanese, Hindi', '', 'English, French, German, Spanish, Russian, Hindi', '', 'English, Hindi, Russian, French, Icelandic, Italian', '', 'English, French, Spanish, Russian, German, Japanese, Hindi', 'English, Spanish, German, Russian, French, Italian, Japanese, Chinese, Hindi, Arabic', 'English, French, German, Japanese, Russian, Italian, Hindi, Spanish', 'English, German, Russian, Spanish, French, Hindi, Japanese', 'English, French, Hindi, Japanese, Spanish, Urdu, Javanese', 'English, Spanish, Hindi, French, German, Russian, Japanese, Italian, Portuguese', 'English, French, German, Hindi, Japanese, Russian, Spanish, Portuguese', '', 'English, French, Spanish, German, Hindi, Russian', 'English, French, Spanish, Russian, German, Hindi, Japanese', 'We provide pickup from airports, hotels, train stations, or location of your preference in New Delhi', 'English, Hindi, Spanish', 'English, Hindi, Spanish, French, Russian, Japanese, German, Chinese, Arabic, Portuguese, Italian', 'English, Spanish, Russian, Dutch, German, Italian, Hindi', 'English, Spanish, French, Russian, Hindi, German, Japanese', 'English, Hindi, Spanish, French, Russian, Japanese, German, Italian, Chinese', 'English, Spanish, French, German, Russian, Hindi, Japanese, Italian', 'English, Hindi, Spanish, French, Chinese, German, Japanese', 'English, Hindi', 'Arabic, Chinese, English, French, German, Hindi, Italian, Japanese, Portuguese, Russian, Spanish', 'English, French, German, Hindi, Italian, Russian, Spanish'], Size: 90\n"
     ]
    }
   ],
   "source": [
    "print(f\"live_tour_guide_languages: {live_tour_guide_languages}, Size: {len(live_tour_guide_languages)}\")"
   ]
  },
  {
   "cell_type": "code",
   "execution_count": 30,
   "id": "bfcebbbe-08c1-4596-ad8a-67df05a8473d",
   "metadata": {},
   "outputs": [
    {
     "name": "stdout",
     "output_type": "stream",
     "text": [
      "Size: 90, Free_cancellation: ['Cancel up to 24 hours in advance for a full refund', 'Cancel up to 24 hours in advance for a full refund', 'Cancel up to 24 hours in advance for a full refund', 'Cancel up to 24 hours in advance for a full refund', 'Cancel up to 24 hours in advance for a full refund', 'Cancel up to 24 hours in advance for a full refund', 'Cancel up to 24 hours in advance for a full refund', 'Cancel up to 24 hours in advance for a full refund', 'Cancel up to 24 hours in advance for a full refund', 'Cancel up to 24 hours in advance for a full refund', 'Cancel up to 24 hours in advance for a full refund', 'Cancel up to 24 hours in advance for a full refund', 'Cancel up to 24 hours in advance for a full refund', 'Cancel up to 24 hours in advance for a full refund', 'Cancel up to 24 hours in advance for a full refund', 'Cancel up to 24 hours in advance for a full refund', 'Cancel up to 24 hours in advance for a full refund', 'Cancel up to 24 hours in advance for a full refund', 'Cancel up to 24 hours in advance for a full refund', 'Cancel up to 24 hours in advance for a full refund', 'Cancel up to 24 hours in advance for a full refund', 'Cancel up to 24 hours in advance for a full refund', 'Cancel up to 24 hours in advance for a full refund', 'Cancel up to 24 hours in advance for a full refund', 'Cancel up to 24 hours in advance for a full refund', 'Cancel up to 24 hours in advance for a full refund', 'Cancel up to 24 hours in advance for a full refund', 'Cancel up to 24 hours in advance for a full refund', 'Cancel up to 24 hours in advance for a full refund', 'Cancel up to 24 hours in advance for a full refund', 'Cancel up to 24 hours in advance for a full refund', 'Cancel up to 24 hours in advance for a full refund', 'Cancel up to 24 hours in advance for a full refund', 'Cancel up to 24 hours in advance for a full refund', 'Cancel up to 24 hours in advance for a full refund', 'Cancel up to 24 hours in advance for a full refund', 'Cancel up to 24 hours in advance for a full refund', 'Cancel up to 24 hours in advance for a full refund', 'Cancel up to 24 hours in advance for a full refund', 'Cancel up to 24 hours in advance for a full refund', 'Cancel up to 24 hours in advance for a full refund', 'Cancel up to 24 hours in advance for a full refund', 'Cancel up to 24 hours in advance for a full refund', 'Cancel up to 24 hours in advance for a full refund', 'Cancel up to 24 hours in advance for a full refund', 'Cancel up to 24 hours in advance for a full refund', 'Cancel up to 24 hours in advance for a full refund', 'Cancel up to 24 hours in advance for a full refund', 'Cancel up to 24 hours in advance for a full refund', 'Cancel up to 24 hours in advance for a full refund', 'Cancel up to 24 hours in advance for a full refund', 'Cancel up to 24 hours in advance for a full refund', 'Cancel up to 24 hours in advance for a full refund', 'Cancel up to 24 hours in advance for a full refund', 'Cancel up to 24 hours in advance for a full refund', 'Cancel up to 24 hours in advance for a full refund', 'Cancel up to 24 hours in advance for a full refund', 'Cancel up to 24 hours in advance for a full refund', 'Cancel up to 24 hours in advance for a full refund', 'Cancel up to 24 hours in advance for a full refund', 'Cancel up to 24 hours in advance for a full refund', 'Cancel up to 24 hours in advance for a full refund', 'Cancel up to 24 hours in advance for a full refund', 'Cancel up to 24 hours in advance for a full refund', 'Cancel up to 24 hours in advance for a full refund', 'Cancel up to 24 hours in advance for a full refund', 'Cancel up to 24 hours in advance for a full refund', 'Cancel up to 24 hours in advance for a full refund', 'Cancel up to 24 hours in advance for a full refund', 'Cancel up to 24 hours in advance for a full refund', 'Cancel up to 24 hours in advance for a full refund', 'Cancel up to 24 hours in advance for a full refund', 'Cancel up to 24 hours in advance for a full refund', 'Cancel up to 24 hours in advance for a full refund', 'Cancel up to 24 hours in advance for a full refund', 'Cancel up to 24 hours in advance for a full refund', 'Cancel up to 24 hours in advance for a full refund', 'Cancel up to 24 hours in advance for a full refund', 'Cancel up to 24 hours in advance for a full refund', 'Cancel up to 24 hours in advance for a full refund', 'Cancel up to 24 hours in advance for a full refund', 'Cancel up to 24 hours in advance for a full refund', 'Cancel up to 24 hours in advance for a full refund', 'Cancel up to 24 hours in advance for a full refund', 'Cancel up to 24 hours in advance for a full refund', 'Cancel up to 24 hours in advance for a full refund', 'Cancel up to 24 hours in advance for a full refund', 'Cancel up to 24 hours in advance for a full refund', 'Cancel up to 24 hours in advance for a full refund', 'Cancel up to 24 hours in advance for a full refund'],\n"
     ]
    }
   ],
   "source": [
    "print(f\"Size: {len(Free_cancellation)}, Free_cancellation: {Free_cancellation},\")"
   ]
  },
  {
   "cell_type": "code",
   "execution_count": null,
   "id": "c6800fd3-93eb-4a5b-8249-763c7a2ad3ae",
   "metadata": {},
   "outputs": [],
   "source": [
    "#package_title = []\n",
    "#old_price = []\n",
    "#duration = []\n",
    "#activity_type = []\n",
    "#price_category = []\n",
    "#group_category = []\n",
    "\n",
    "\n",
    "#Highlights = []\n",
    "#Includes = []\n",
    "#actual_Price = []\n",
    "#Not_suitable = []\n",
    "#ids = []\n",
    "#Excludes = []\n",
    "#overview = [] \n",
    "#Free_cancellation = []\n",
    "#live_tour_guide_languages = []"
   ]
  },
  {
   "cell_type": "code",
   "execution_count": 31,
   "id": "b95cce4e-a602-4b2a-897a-383d4f06879f",
   "metadata": {},
   "outputs": [],
   "source": [
    "df = {\"ID's\":ids, \"Image Links\":Img_Links, \"Title\":package_title, \"Duration\":duration, \"Price Category\":price_category,\"Group Type\":group_category, \"Activity Type\":activity_type,\n",
    "      \"Trip Overview\":overview, \"Highlights\":Highlights, \"Included\":Includes, \"Excluded\":Excludes,\"Live Tour Guide Languages\":live_tour_guide_languages,\n",
    "      \"Old Price\":old_price, \"Actual Price\":actual_Price, \"Free Cancellation\":Free_cancellation, \"WebSite Links\":created_link}"
   ]
  },
  {
   "cell_type": "code",
   "execution_count": 32,
   "id": "f31292ad-4f4b-4ccd-b2ed-2ae4d18d5e1d",
   "metadata": {},
   "outputs": [
    {
     "data": {
      "text/html": [
       "<div>\n",
       "<style scoped>\n",
       "    .dataframe tbody tr th:only-of-type {\n",
       "        vertical-align: middle;\n",
       "    }\n",
       "\n",
       "    .dataframe tbody tr th {\n",
       "        vertical-align: top;\n",
       "    }\n",
       "\n",
       "    .dataframe thead th {\n",
       "        text-align: right;\n",
       "    }\n",
       "</style>\n",
       "<table border=\"1\" class=\"dataframe\">\n",
       "  <thead>\n",
       "    <tr style=\"text-align: right;\">\n",
       "      <th></th>\n",
       "      <th>ID's</th>\n",
       "      <th>Image Links</th>\n",
       "      <th>Title</th>\n",
       "      <th>Duration</th>\n",
       "      <th>Price Category</th>\n",
       "      <th>Group Type</th>\n",
       "      <th>Activity Type</th>\n",
       "      <th>Trip Overview</th>\n",
       "      <th>Highlights</th>\n",
       "      <th>Included</th>\n",
       "      <th>Excluded</th>\n",
       "      <th>Live Tour Guide Languages</th>\n",
       "      <th>Old Price</th>\n",
       "      <th>Actual Price</th>\n",
       "      <th>Free Cancellation</th>\n",
       "      <th>WebSite Links</th>\n",
       "    </tr>\n",
       "  </thead>\n",
       "  <tbody>\n",
       "    <tr>\n",
       "      <th>0</th>\n",
       "      <td>528281</td>\n",
       "      <td>https://cdn.getyourguide.com/img/tour/54143ab3...</td>\n",
       "      <td>From Delhi: Private 3-Day Golden Triangle Tour...</td>\n",
       "      <td>3 days</td>\n",
       "      <td>per person</td>\n",
       "      <td>Private group</td>\n",
       "      <td>Multi-day trip</td>\n",
       "      <td>Embark on a private 3-day Golden Triangle Tour...</td>\n",
       "      <td>See the Qutub Minar, Humayun Tomb, India Gate,...</td>\n",
       "      <td>Hotel pickup and drop-offPrivate tour2 nights ...</td>\n",
       "      <td>Entry feesLunch and dinnerTips</td>\n",
       "      <td>English, Spanish, French, German, Russian, Hin...</td>\n",
       "      <td>₹27,000</td>\n",
       "      <td>₹9,520</td>\n",
       "      <td>Cancel up to 24 hours in advance for a full re...</td>\n",
       "      <td>https://www.getyourguide.com/jaipur-l1149/from...</td>\n",
       "    </tr>\n",
       "    <tr>\n",
       "      <th>1</th>\n",
       "      <td>445328</td>\n",
       "      <td>https://cdn.getyourguide.com/img/tour/105557b2...</td>\n",
       "      <td>From Delhi: 3-Day Private Golden Triangle Tour...</td>\n",
       "      <td>3 days</td>\n",
       "      <td>per person</td>\n",
       "      <td>Private group</td>\n",
       "      <td>Multi-day trip</td>\n",
       "      <td>Explore India's Golden Triangle on a 3-day tou...</td>\n",
       "      <td>Utilize three days to utilize the highlights o...</td>\n",
       "      <td>Hotel or airport pickup and drop-off includedA...</td>\n",
       "      <td>FoodEntry feesParking costsTips</td>\n",
       "      <td>English, French, German, Hindi, Japanese, Span...</td>\n",
       "      <td>₹33,000</td>\n",
       "      <td>₹8,425</td>\n",
       "      <td>Cancel up to 24 hours in advance for a full re...</td>\n",
       "      <td>https://www.getyourguide.com/new-delhi-l231/fr...</td>\n",
       "    </tr>\n",
       "    <tr>\n",
       "      <th>2</th>\n",
       "      <td>444248</td>\n",
       "      <td>https://cdn.getyourguide.com/img/tour/dcdd51e3...</td>\n",
       "      <td>From Delhi: 2-Day Taj Mahal Sunrise Tour with ...</td>\n",
       "      <td>2 days</td>\n",
       "      <td>per person</td>\n",
       "      <td>Small group</td>\n",
       "      <td>Multi-day trip</td>\n",
       "      <td>Experience the beauty of Agra Fort, Baby Taj, ...</td>\n",
       "      <td>Experience the Taj Mahal's grandeur at sunrise...</td>\n",
       "      <td>Hotel or airport pick-up and drop-offAll trans...</td>\n",
       "      <td>Meals except breakfast, Laundry, phone calls, ...</td>\n",
       "      <td>English, French, Spanish, Russian, German, Jap...</td>\n",
       "      <td>₹11,000</td>\n",
       "      <td>₹5,500</td>\n",
       "      <td>Cancel up to 24 hours in advance for a full re...</td>\n",
       "      <td>https://www.getyourguide.com/new-delhi-l231/de...</td>\n",
       "    </tr>\n",
       "    <tr>\n",
       "      <th>3</th>\n",
       "      <td>625446</td>\n",
       "      <td>https://cdn.getyourguide.com/img/tour/faf8c53a...</td>\n",
       "      <td>From Delhi: 3-Day Golden Triangle Tour with Ag...</td>\n",
       "      <td>3 days</td>\n",
       "      <td>per person</td>\n",
       "      <td>Private group</td>\n",
       "      <td>Multi-day trip</td>\n",
       "      <td>Explore the highlights of the Golden Triangle ...</td>\n",
       "      <td>Discover the highlights of Old and New Delhi o...</td>\n",
       "      <td>Pick-up and drop-off at your hotel or the Delh...</td>\n",
       "      <td>Meals and drinksEntrance fees to monumentsTip ...</td>\n",
       "      <td>English, French, German, Spanish, Italian, Jap...</td>\n",
       "      <td>₹13,000</td>\n",
       "      <td>₹7,800</td>\n",
       "      <td>Cancel up to 24 hours in advance for a full re...</td>\n",
       "      <td>https://www.getyourguide.com/jaipur-l1149/from...</td>\n",
       "    </tr>\n",
       "    <tr>\n",
       "      <th>4</th>\n",
       "      <td>554624</td>\n",
       "      <td>https://cdn.getyourguide.com/img/tour/0497abdf...</td>\n",
       "      <td>Explore 3-Day Golden Triangle Tour with Hotels...</td>\n",
       "      <td>3 days</td>\n",
       "      <td>per person</td>\n",
       "      <td>Private group</td>\n",
       "      <td>Multi-day trip</td>\n",
       "      <td>Explore 3-day Golden Triangle tour with Hotels...</td>\n",
       "      <td>See the Qutub Minar, Humayun Tomb, India Gate,...</td>\n",
       "      <td>2 nights' accommodation (if option selected)Da...</td>\n",
       "      <td>GratuitiesEntrance fees to monumentsLunchDinner</td>\n",
       "      <td>English, Spanish, French, German, Russian, Hin...</td>\n",
       "      <td>₹27,000</td>\n",
       "      <td>₹14,000</td>\n",
       "      <td>Cancel up to 24 hours in advance for a full re...</td>\n",
       "      <td>https://www.getyourguide.com/jaipur-l1149/expl...</td>\n",
       "    </tr>\n",
       "    <tr>\n",
       "      <th>...</th>\n",
       "      <td>...</td>\n",
       "      <td>...</td>\n",
       "      <td>...</td>\n",
       "      <td>...</td>\n",
       "      <td>...</td>\n",
       "      <td>...</td>\n",
       "      <td>...</td>\n",
       "      <td>...</td>\n",
       "      <td>...</td>\n",
       "      <td>...</td>\n",
       "      <td>...</td>\n",
       "      <td>...</td>\n",
       "      <td>...</td>\n",
       "      <td>...</td>\n",
       "      <td>...</td>\n",
       "      <td>...</td>\n",
       "    </tr>\n",
       "    <tr>\n",
       "      <th>85</th>\n",
       "      <td>532451</td>\n",
       "      <td>https://cdn.getyourguide.com/img/tour/06f3dc8b...</td>\n",
       "      <td>From Delhi: 4 Days Golden Triangle Tour Delhi,...</td>\n",
       "      <td>4 days</td>\n",
       "      <td>per person</td>\n",
       "      <td>Pickup available</td>\n",
       "      <td>Multi-day trip</td>\n",
       "      <td>Explore India's Golden Triangle on a Private 4...</td>\n",
       "      <td>Step back in time and explore the historic cit...</td>\n",
       "      <td>Private Tour3 nights accommodation (if option ...</td>\n",
       "      <td>Optional gratuitiesEntrance fees (approximatel...</td>\n",
       "      <td>English, Spanish, French, German, Russian, Hin...</td>\n",
       "      <td>₹30,000</td>\n",
       "      <td>₹21,150</td>\n",
       "      <td>Cancel up to 24 hours in advance for a full re...</td>\n",
       "      <td>https://www.getyourguide.com/jaipur-l1149/from...</td>\n",
       "    </tr>\n",
       "    <tr>\n",
       "      <th>86</th>\n",
       "      <td>474034</td>\n",
       "      <td>https://cdn.getyourguide.com/img/tour/6486b43d...</td>\n",
       "      <td>2 Days Delhi and Agra Tour by private car</td>\n",
       "      <td>2 days</td>\n",
       "      <td>per person</td>\n",
       "      <td>Private group</td>\n",
       "      <td>Multi-day trip</td>\n",
       "      <td>Explore in two days the rich heritage of the c...</td>\n",
       "      <td>Explore the rich heritage of the capital city ...</td>\n",
       "      <td>Pick-up and Drop-Off Service.Accommodation (If...</td>\n",
       "      <td>Tips / Gratuities to Tour Guide &amp; Chauffeur.An...</td>\n",
       "      <td>English, Hindi, Spanish, French, Chinese, Germ...</td>\n",
       "      <td>₹24,000</td>\n",
       "      <td>₹24,000</td>\n",
       "      <td>Cancel up to 24 hours in advance for a full re...</td>\n",
       "      <td>https://www.getyourguide.com/new-delhi-l231/2-...</td>\n",
       "    </tr>\n",
       "    <tr>\n",
       "      <th>87</th>\n",
       "      <td>709558</td>\n",
       "      <td>https://cdn.getyourguide.com/img/tour/768b5523...</td>\n",
       "      <td>A Land Called India !!</td>\n",
       "      <td>12 days</td>\n",
       "      <td>per person</td>\n",
       "      <td>Small group</td>\n",
       "      <td>Multi-day trip</td>\n",
       "      <td>A comprehensive, fully escorted, 12 day tour o...</td>\n",
       "      <td>Explore India's bustling national capitalBe aw...</td>\n",
       "      <td>A comprehensive, fully escorted tour commencin...</td>\n",
       "      <td>Airfare/tickets from the home country to New D...</td>\n",
       "      <td>English, Hindi</td>\n",
       "      <td>₹23,985</td>\n",
       "      <td>₹23,985</td>\n",
       "      <td>Cancel up to 24 hours in advance for a full re...</td>\n",
       "      <td>https://www.getyourguide.com/new-delhi-l231/a-...</td>\n",
       "    </tr>\n",
       "    <tr>\n",
       "      <th>88</th>\n",
       "      <td>470646</td>\n",
       "      <td>https://cdn.getyourguide.com/img/tour/647c6c30...</td>\n",
       "      <td>From New Delhi : Delhi &amp; Agra 2 Days Tour with...</td>\n",
       "      <td>2 days</td>\n",
       "      <td>per person</td>\n",
       "      <td>Private group</td>\n",
       "      <td>Multi-day trip</td>\n",
       "      <td>Begin in Delhi, the bustling capital known for...</td>\n",
       "      <td>Explore the two Heritage Cities of India - Del...</td>\n",
       "      <td>Pick up &amp; Drop offPrivate Air Condition Transp...</td>\n",
       "      <td>DrinksTips &amp; GratitudeAny Personal Expenses</td>\n",
       "      <td>Arabic, Chinese, English, French, German, Hind...</td>\n",
       "      <td>₹10,500</td>\n",
       "      <td>₹10,500</td>\n",
       "      <td>Cancel up to 24 hours in advance for a full re...</td>\n",
       "      <td>https://www.getyourguide.com/new-delhi-l231/fr...</td>\n",
       "    </tr>\n",
       "    <tr>\n",
       "      <th>89</th>\n",
       "      <td>529956</td>\n",
       "      <td>https://cdn.getyourguide.com/img/tour/c3c8febd...</td>\n",
       "      <td>8 Days Motorbike tour (Delhi Agra Jaipur Pushk...</td>\n",
       "      <td>8 days</td>\n",
       "      <td>per person</td>\n",
       "      <td>Private group</td>\n",
       "      <td>Multi-day trip</td>\n",
       "      <td>Discover top most autunitic spots of India by ...</td>\n",
       "      <td>Discover the most famous UNESCO spots of India...</td>\n",
       "      <td>Pick-up and drop-off service from the hotel, a...</td>\n",
       "      <td>Souvenir photos, which may be available for pu...</td>\n",
       "      <td>English, French, German, Hindi, Italian, Russi...</td>\n",
       "      <td>₹80,000</td>\n",
       "      <td>₹80,000</td>\n",
       "      <td>Cancel up to 24 hours in advance for a full re...</td>\n",
       "      <td>https://www.getyourguide.com/jaipur-l1149/8-da...</td>\n",
       "    </tr>\n",
       "  </tbody>\n",
       "</table>\n",
       "<p>90 rows × 16 columns</p>\n",
       "</div>"
      ],
      "text/plain": [
       "      ID's                                        Image Links  \\\n",
       "0   528281  https://cdn.getyourguide.com/img/tour/54143ab3...   \n",
       "1   445328  https://cdn.getyourguide.com/img/tour/105557b2...   \n",
       "2   444248  https://cdn.getyourguide.com/img/tour/dcdd51e3...   \n",
       "3   625446  https://cdn.getyourguide.com/img/tour/faf8c53a...   \n",
       "4   554624  https://cdn.getyourguide.com/img/tour/0497abdf...   \n",
       "..     ...                                                ...   \n",
       "85  532451  https://cdn.getyourguide.com/img/tour/06f3dc8b...   \n",
       "86  474034  https://cdn.getyourguide.com/img/tour/6486b43d...   \n",
       "87  709558  https://cdn.getyourguide.com/img/tour/768b5523...   \n",
       "88  470646  https://cdn.getyourguide.com/img/tour/647c6c30...   \n",
       "89  529956  https://cdn.getyourguide.com/img/tour/c3c8febd...   \n",
       "\n",
       "                                                Title Duration Price Category  \\\n",
       "0   From Delhi: Private 3-Day Golden Triangle Tour...   3 days     per person   \n",
       "1   From Delhi: 3-Day Private Golden Triangle Tour...   3 days     per person   \n",
       "2   From Delhi: 2-Day Taj Mahal Sunrise Tour with ...   2 days     per person   \n",
       "3   From Delhi: 3-Day Golden Triangle Tour with Ag...   3 days     per person   \n",
       "4   Explore 3-Day Golden Triangle Tour with Hotels...   3 days     per person   \n",
       "..                                                ...      ...            ...   \n",
       "85  From Delhi: 4 Days Golden Triangle Tour Delhi,...   4 days     per person   \n",
       "86          2 Days Delhi and Agra Tour by private car   2 days     per person   \n",
       "87                             A Land Called India !!  12 days     per person   \n",
       "88  From New Delhi : Delhi & Agra 2 Days Tour with...   2 days     per person   \n",
       "89  8 Days Motorbike tour (Delhi Agra Jaipur Pushk...   8 days     per person   \n",
       "\n",
       "          Group Type   Activity Type  \\\n",
       "0      Private group  Multi-day trip   \n",
       "1      Private group  Multi-day trip   \n",
       "2        Small group  Multi-day trip   \n",
       "3      Private group  Multi-day trip   \n",
       "4      Private group  Multi-day trip   \n",
       "..               ...             ...   \n",
       "85  Pickup available  Multi-day trip   \n",
       "86     Private group  Multi-day trip   \n",
       "87       Small group  Multi-day trip   \n",
       "88     Private group  Multi-day trip   \n",
       "89     Private group  Multi-day trip   \n",
       "\n",
       "                                        Trip Overview  \\\n",
       "0   Embark on a private 3-day Golden Triangle Tour...   \n",
       "1   Explore India's Golden Triangle on a 3-day tou...   \n",
       "2   Experience the beauty of Agra Fort, Baby Taj, ...   \n",
       "3   Explore the highlights of the Golden Triangle ...   \n",
       "4   Explore 3-day Golden Triangle tour with Hotels...   \n",
       "..                                                ...   \n",
       "85  Explore India's Golden Triangle on a Private 4...   \n",
       "86  Explore in two days the rich heritage of the c...   \n",
       "87  A comprehensive, fully escorted, 12 day tour o...   \n",
       "88  Begin in Delhi, the bustling capital known for...   \n",
       "89  Discover top most autunitic spots of India by ...   \n",
       "\n",
       "                                           Highlights  \\\n",
       "0   See the Qutub Minar, Humayun Tomb, India Gate,...   \n",
       "1   Utilize three days to utilize the highlights o...   \n",
       "2   Experience the Taj Mahal's grandeur at sunrise...   \n",
       "3   Discover the highlights of Old and New Delhi o...   \n",
       "4   See the Qutub Minar, Humayun Tomb, India Gate,...   \n",
       "..                                                ...   \n",
       "85  Step back in time and explore the historic cit...   \n",
       "86  Explore the rich heritage of the capital city ...   \n",
       "87  Explore India's bustling national capitalBe aw...   \n",
       "88  Explore the two Heritage Cities of India - Del...   \n",
       "89  Discover the most famous UNESCO spots of India...   \n",
       "\n",
       "                                             Included  \\\n",
       "0   Hotel pickup and drop-offPrivate tour2 nights ...   \n",
       "1   Hotel or airport pickup and drop-off includedA...   \n",
       "2   Hotel or airport pick-up and drop-offAll trans...   \n",
       "3   Pick-up and drop-off at your hotel or the Delh...   \n",
       "4   2 nights' accommodation (if option selected)Da...   \n",
       "..                                                ...   \n",
       "85  Private Tour3 nights accommodation (if option ...   \n",
       "86  Pick-up and Drop-Off Service.Accommodation (If...   \n",
       "87  A comprehensive, fully escorted tour commencin...   \n",
       "88  Pick up & Drop offPrivate Air Condition Transp...   \n",
       "89  Pick-up and drop-off service from the hotel, a...   \n",
       "\n",
       "                                             Excluded  \\\n",
       "0                      Entry feesLunch and dinnerTips   \n",
       "1                     FoodEntry feesParking costsTips   \n",
       "2   Meals except breakfast, Laundry, phone calls, ...   \n",
       "3   Meals and drinksEntrance fees to monumentsTip ...   \n",
       "4     GratuitiesEntrance fees to monumentsLunchDinner   \n",
       "..                                                ...   \n",
       "85  Optional gratuitiesEntrance fees (approximatel...   \n",
       "86  Tips / Gratuities to Tour Guide & Chauffeur.An...   \n",
       "87  Airfare/tickets from the home country to New D...   \n",
       "88        DrinksTips & GratitudeAny Personal Expenses   \n",
       "89  Souvenir photos, which may be available for pu...   \n",
       "\n",
       "                            Live Tour Guide Languages Old Price Actual Price  \\\n",
       "0   English, Spanish, French, German, Russian, Hin...   ₹27,000       ₹9,520   \n",
       "1   English, French, German, Hindi, Japanese, Span...   ₹33,000       ₹8,425   \n",
       "2   English, French, Spanish, Russian, German, Jap...   ₹11,000       ₹5,500   \n",
       "3   English, French, German, Spanish, Italian, Jap...   ₹13,000       ₹7,800   \n",
       "4   English, Spanish, French, German, Russian, Hin...   ₹27,000      ₹14,000   \n",
       "..                                                ...       ...          ...   \n",
       "85  English, Spanish, French, German, Russian, Hin...   ₹30,000      ₹21,150   \n",
       "86  English, Hindi, Spanish, French, Chinese, Germ...   ₹24,000      ₹24,000   \n",
       "87                                     English, Hindi   ₹23,985      ₹23,985   \n",
       "88  Arabic, Chinese, English, French, German, Hind...   ₹10,500      ₹10,500   \n",
       "89  English, French, German, Hindi, Italian, Russi...   ₹80,000      ₹80,000   \n",
       "\n",
       "                                    Free Cancellation  \\\n",
       "0   Cancel up to 24 hours in advance for a full re...   \n",
       "1   Cancel up to 24 hours in advance for a full re...   \n",
       "2   Cancel up to 24 hours in advance for a full re...   \n",
       "3   Cancel up to 24 hours in advance for a full re...   \n",
       "4   Cancel up to 24 hours in advance for a full re...   \n",
       "..                                                ...   \n",
       "85  Cancel up to 24 hours in advance for a full re...   \n",
       "86  Cancel up to 24 hours in advance for a full re...   \n",
       "87  Cancel up to 24 hours in advance for a full re...   \n",
       "88  Cancel up to 24 hours in advance for a full re...   \n",
       "89  Cancel up to 24 hours in advance for a full re...   \n",
       "\n",
       "                                        WebSite Links  \n",
       "0   https://www.getyourguide.com/jaipur-l1149/from...  \n",
       "1   https://www.getyourguide.com/new-delhi-l231/fr...  \n",
       "2   https://www.getyourguide.com/new-delhi-l231/de...  \n",
       "3   https://www.getyourguide.com/jaipur-l1149/from...  \n",
       "4   https://www.getyourguide.com/jaipur-l1149/expl...  \n",
       "..                                                ...  \n",
       "85  https://www.getyourguide.com/jaipur-l1149/from...  \n",
       "86  https://www.getyourguide.com/new-delhi-l231/2-...  \n",
       "87  https://www.getyourguide.com/new-delhi-l231/a-...  \n",
       "88  https://www.getyourguide.com/new-delhi-l231/fr...  \n",
       "89  https://www.getyourguide.com/jaipur-l1149/8-da...  \n",
       "\n",
       "[90 rows x 16 columns]"
      ]
     },
     "execution_count": 32,
     "metadata": {},
     "output_type": "execute_result"
    }
   ],
   "source": [
    "Data = pd.DataFrame(df)\n",
    "Data"
   ]
  },
  {
   "cell_type": "code",
   "execution_count": 34,
   "id": "2db4ec3b-340a-4113-96af-1f979ab1272e",
   "metadata": {},
   "outputs": [],
   "source": [
    "Data.to_csv(\"Delhi Tour Package.csv\",index=False)"
   ]
  },
  {
   "cell_type": "code",
   "execution_count": 35,
   "id": "4d75e8ce-5fab-4c66-94f7-0604c3bcb1e4",
   "metadata": {},
   "outputs": [],
   "source": [
    "df2 = {\"ID's\":ids, \"Image Links\":Img_Links, \"Title\":package_title, \"Duration\":duration, \"Price Category\":price_category,\"Group Type\":group_category, \"Activity Type\":activity_type,\n",
    "      \"Trip Overview\":overview, \"Highlights\":Highlights, \"Included\":Includes, \"Excluded\":Excludes,\"Live Tour Guide Languages\":live_tour_guide_languages,\n",
    "      \"Old Price\":old_price, \"Actual Price\":actual_Price, \"WebSite Links\":created_link, \"Free Cancellation\":Free_cancellation}"
   ]
  },
  {
   "cell_type": "code",
   "execution_count": 36,
   "id": "5c3849c0-eafb-49bf-ace4-310c3c16a627",
   "metadata": {},
   "outputs": [],
   "source": [
    "Data2 = pd.DataFrame(df2)"
   ]
  },
  {
   "cell_type": "code",
   "execution_count": 38,
   "id": "c5ae2bc6-1194-418a-a433-8340b89d531c",
   "metadata": {},
   "outputs": [],
   "source": [
    "Data2.to_csv(\"Delhi Tour Packages.csv\",index=False)"
   ]
  },
  {
   "cell_type": "code",
   "execution_count": null,
   "id": "be955816-3ad7-438b-b42d-133eb712ae27",
   "metadata": {},
   "outputs": [],
   "source": []
  }
 ],
 "metadata": {
  "kernelspec": {
   "display_name": "Python 3 (ipykernel)",
   "language": "python",
   "name": "python3"
  },
  "language_info": {
   "codemirror_mode": {
    "name": "ipython",
    "version": 3
   },
   "file_extension": ".py",
   "mimetype": "text/x-python",
   "name": "python",
   "nbconvert_exporter": "python",
   "pygments_lexer": "ipython3",
   "version": "3.11.7"
  }
 },
 "nbformat": 4,
 "nbformat_minor": 5
}
