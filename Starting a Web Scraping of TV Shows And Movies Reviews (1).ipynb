{
 "cells": [
  {
   "cell_type": "markdown",
   "metadata": {},
   "source": [
    "# Best Website to Extract/Scrap **Movies and TV-Shows** **Reviews**: `https://www.metacritic.com/tv/the-office-uk/critic-reviews/`"
   ]
  },
  {
   "cell_type": "code",
   "execution_count": null,
   "metadata": {},
   "outputs": [],
   "source": [
    "# pip install selenium\n",
    "# pip install webdriver-manager"
   ]
  },
  {
   "cell_type": "code",
   "execution_count": 104,
   "metadata": {},
   "outputs": [],
   "source": [
    "from selenium import webdriver\n",
    "from selenium.webdriver.common.keys import Keys\n",
    "from selenium.webdriver.common.by import By\n",
    "from webdriver_manager.chrome import ChromeDriverManager\n",
    "from selenium.webdriver.chrome.service import Service\n",
    "\n",
    "import pandas as pd\n",
    "import numpy as np\n",
    "from bs4 import BeautifulSoup"
   ]
  },
  {
   "cell_type": "code",
   "execution_count": 2,
   "metadata": {},
   "outputs": [],
   "source": [
    "# Path to the ChromeDriver executable\n",
    "chrome_driver_path = 'C://Users//ANAND SHAW//New folder//chromedriver-win64//chromedriver-win64//chromedriver.exe'\n",
    "\n",
    "# Create a Service object with the path to ChromeDriver\n",
    "service = Service(chrome_driver_path)\n",
    "\n",
    "# Initialize the Chrome WebDriver with the Service object\n",
    "# driver = webdriver.Chrome(service=service)\n",
    "\n",
    "# Open a webpage to test if the driver is working\n",
    "# driver.get(\"http://www.google.com\")\n",
    "\n",
    "# # Print the title of the current webpage\n",
    "# print(driver.title)\n",
    "\n",
    "# # Quit the driver and close all associated windows\n",
    "# driver.quit()"
   ]
  },
  {
   "cell_type": "code",
   "execution_count": 56,
   "metadata": {},
   "outputs": [],
   "source": [
    "# Initialize the Chrome WebDriver with the Service object\n",
    "driver = webdriver.Chrome(service=service)\n",
    "\n",
    "# Open a webpage to test if the driver is working\n",
    "driver.get(\"https://www.metacritic.com/tv/the-office-uk/critic-reviews/\")"
   ]
  },
  {
   "cell_type": "code",
   "execution_count": 57,
   "metadata": {},
   "outputs": [],
   "source": [
    "source = driver.page_source\n",
    "soup = BeautifulSoup(source, \"html.parser\")"
   ]
  },
  {
   "cell_type": "code",
   "execution_count": 224,
   "metadata": {},
   "outputs": [],
   "source": [
    "name=[]\n",
    "\n",
    "review=[]\n",
    "\n",
    "date=[]"
   ]
  },
  {
   "cell_type": "code",
   "execution_count": 225,
   "metadata": {},
   "outputs": [],
   "source": [
    "#Extracting the Names from different Tags\n",
    "name_tags = soup.find_all(['a', 'span'], class_=\"c-siteReview_criticName\")\n",
    "for name_tag in name_tags:\n",
    "    names = name_tag.get_text(strip=True).replace('By ', '')\n",
    "    name.append(names if names else None)\n",
    "\n",
    "\n",
    "#Puting the Review box Body\n",
    "for tag in soup.find_all(\"div\",class_='c-siteReview_main g-inner-spacing-medium'):\n",
    "\n",
    "    #Extracting Reviews\n",
    "    review_tags = tag.find_all('div', class_=\"c-siteReview_quote g-outer-spacing-bottom-small\")\n",
    "    for review_tag in review_tags:\n",
    "        reviews = review_tag.get_text()\n",
    "        review.append(reviews if reviews else None)\n",
    "\n",
    "    #Extracting Date\n",
    "    date_tags = tag.find_all('div', class_=\"c-siteReviewHeader_reviewDate\")\n",
    "    for date_tag in date_tags:\n",
    "        dates = date_tag.get_text(strip=True)\n",
    "        date.append(dates if dates else None)\n"
   ]
  },
  {
   "cell_type": "code",
   "execution_count": 227,
   "metadata": {},
   "outputs": [
    {
     "name": "stdout",
     "output_type": "stream",
     "text": [
      "Name: ['Ken Tucker', None, None, 'Monica Collins', 'Matthew Gilbert', 'Steve Johnson', 'Phil Rosenthal', 'Ann Donahue', 'Steve Johnson', 'Joanne Ostrow', 'Tim Goodman', 'Mike Duffy', 'Heather Havrilesky', 'Virginia Heffernan', 'Joy Press', 'Robert Lloyd', 'Alan Sepinwall', 'Alessandra Stanley', 'Tim Goodman', 'Christopher Sieving', 'Alan Sepinwall', 'Robert Bianco', 'Matthew Gilbert', 'David Bianculli', 'Bill Goodykoontz', 'Sarah Rodman', 'Joanne Ostrow', 'Robert Lloyd', 'Mike Duffy', 'Diane Werts', 'Mike McDaniel', 'Matt Zoller Seitz', 'Alessandra Stanley', 'Charlie McCollum', 'Tim Goodman', 'Devin Gordon', 'Rob Owen', 'James Poniewozik', None, 'Rob Owen', None, 'Tom Shales', 'Maureen Ryan', 'David Bianculli', 'Robert P. Laurence', 'Robert Bianco', 'Marvin Kitman'], Review: [\"The pleasure to be taken from 'Office' isn't merely that of laughter -- it's the pleasure of watching a piece of entertainment so perfectly made and so delicately acted.\", \"As ever, it's all in the details.\", \"It takes a little while to get into it (episode two clinched it for me), but once you get used to the accents and dry humor, you're hooked. [23 Jan 2003]\", '\"The Office\" makes you cringe in delight and heave with giggles when you see the absurdity of it all. [23 Oct 2003]', 'It is depressing, brilliant, hysterical, excruciating, full of irony, and nothing you\\'d ever expect to find on American network TV. Rather than sweetening the workplace with fantasies of a home away from home, \"The Office\" heightens the reality and disconnection of corporate life until it is absurdly funny. The show doesn\\'t touch your heart so much as tickle your spleen. [9 Oct 2003]', '\"The Office\" is everything television comedy can and ought to be but almost never is. ... The result is subtle, searing and laugh-bitterly-out-loud funny, like a series of the darkest Dilbert strips strung together and given human dimension and narrative shape. [30 Jan 2003]', \"It takes a while to get into the rhythms of Gervais' writing and seemingly improvised acting, but once you've become a fan, it's the kind of show you can watch over and over. [10 Oct 2003]\", 'Never have lives of quiet desperation been so laugh-out-loud funny as in \"The Office.\" [10 Oct 2003]', \"The laughs are still there ... But the show begins to take on ominous overtones, a kind of small-scale tragedy in the making as it plots the apparent path of a little dictator's downfall. [10 Oct 2003]\", 'David Brent, brilliantly conceived and played by Gervais, remains among the most wonderfully annoying characters in modern TV comedy. [12 Oct 2003]', \"The funniest thing you're likely to see all year.\", 'Fascinating and outrageously witty ... the best new sitcom to hit American television since Larry David\\'s similarly inspired \"Curb Your Enthusiasm.\" ... An instant classic. [23 Jan 2003]', \"The first time you watch the show, you really don’t believe what you’re seeing. Each moment feels so real, it’s hard to tell if the actors are improvising brilliantly or just delivering their lines with incredible conviction. Like the best moments of 'This Is Spinal Tap' or 'Waiting for Guffman,' 'The Office' offers up breathtaking slices of deadpan humor and amazing comic timing.\", 'As viewers, because of the incalculable talents of the actor Gervais, who also helped create the show, we must choose to humor David or to loathe him—and that choice is exciting, somehow, and challenging.', \"Wincingly funny ... It's the details that make the show so funny, not to mention the awesome veracity of the acting.\", 'As did the six previous episodes, the new installments generate a tension so awful, from circumstances so awfully lifelike, that you have to watch at times from behind laced fingers, with teeth clenched and the remote control close at hand.', 'A scream, in the biting Britcom tradition of \"Fawlty Towers\" and the best depiction of middle management hell since Mike Judge\\'s cult classic \"Office Space.\" [23 Jan 2003]', \"Television's funniest show. ... On a less carefully written show, the [mockumentary] conceit would almost certainly pall after a few episodes. 'The Office' is instead addictive, less because viewers grow to love David and his batty employees than because the show refuses to let those characters grow too lovable.\", 'For those unbowed by the lack of formula, this second season of \"The Office\" has rewards even greater than the first. The series is both funnier and darker -- much darker -- than last season.', 'In 10 years of reviewing film and television for various publications, no comedy has given me as much pleasure as The Office.', 'The six-episode first season of \"The Office\" was so dark, so wicked, so brilliant that it was hard to imagine Gervais and Merchant topping themselves. But they have. By slowly chipping away at David\\'s power base, they\\'ve made him even more desperate, petulant and bullying. (The less funny David gets, the funnier the show is.) [10 Oct 2003]', \"Gervais' show is so unusual, and his performance as David Brent is so painfully specific -- and sometimes just so flat-out painful -- it's hard to imagine how anyone else can make it work. [23 Jan 2003]\", \"It's hard to imagine any other comedy series putting such a fitting cap on its run. [21 Oct 2004]\", \"A fully satisfying and fitting TV finale, and a show that really should be seen. It's acted as well as it's written and directed, which means it's just about perfect. [21 Oct 2004]\", 'Like the series that preceded it, The Office Special is brilliant. [21 Oct 2004]', 'As he did in the series, Gervais imbues Brent with a kind of idiotic cleverness that is both silly and devastating. [21 Oct 2004]', 'Supremely satisfying. [21 Oct 2004]', 'It integrates the boredom, self-delusion, dashed hopes and struggle for power into something bigger, and potentially better, and functions not only as a continuation of the story but a convincing conclusion.', 'A masterful series finale. [21 Oct 2004]', \"Whether it's Brent's starry-eyed foppishness, Dawn's artistic daydreams or Gareth's organizational stiffness, these are characters we don't see on American TV. They're not accomplished, clever or distinctive. But they're so well-observed, and so subtly personified, that it's as if we're finding amusement in people we know. [21 Oct 2004]\", 'Easily one of the funniest shows of the year. [21 Oct 2004]', 'A masterful two-hour finale to an already exceptional program. [21 Oct 2004]', 'As wickedly, painfully funny as the first two seasons and, in tiny, fleeting doses, as delicately tender.', 'The special stays true to the tone and searing wit of the original series and makes for a spectacularly funny coda to \"The Office.\" [18 Oct 2004]', 'Quite possibly the finest closing chapter ever for a TV series.', \"Thanks to a finale that is, by turns, hysterical, excruciating and even poignant, this series--about a blowhard branch manager (Ricky Gervais) who gets sacked from his job at a struggling paper company--gets to quit while it's way, way ahead. [18 Oct 2004]\", 'Brilliant. [21 Oct 2004]', 'A satisfying, touching and excruciatingly funny severance package.', \"For the most part, the special continues with the show's distinctive brand of brutal, punchline-free, squirm-inducing humor. Ultimately, though, it gives us what the first and second seasons did not, a happy ending. This optimistic conclusion could be seen as a loss of nerve. I prefer to see it as chance for release.\", '\"The Office\" is hilarious, but it is an acquired taste as it serves up comedy of the uncomfortable. [10 Oct 2003]', 'It\\'s a wonderful, subversive concept, and by failing to romanticize the players, \"Office\" remains true to its ghastly, funny self. [23 Jan 2003]', 'Mike Judge, creator of \"Beavis and Butt-head,\" made a darn good try at a seriously funny workplace comedy with his 1999 film \"Office Space,\" but Gervais and Merchant have even greater success. \"The Office\" is hilarious in a very hip and flippant way. [30 Jan 2003]', 'What\\'s most satisfying about \"The Office\" is that, despite the sharpest humor this side of \"The Larry Sanders Show,\" it has an ultimately sympathetic take on the cubicle-dwellers of the world, and that outlook is derived from a million tiny observations about personal decency (and lack thereof). [21 Oct 2004]', 'It\\'s dependent almost entirely on characters rather than plot - but, with such recognizable characters, \"The Office\" works beautifully. [10 Oct 2003]', 'Dark, sly, ironic, subtle, brilliant. ... A taste for British humor comes in handy in watching \"The Office,\" though. If you\\'re bothered by deliberate (but tongue-in-cheek) bad taste, raging political incorrectness, sexual innuendo or comedy involving large sexual toys, or if you just don\\'t get satire, \"The Office\" may not be right for you. [24 Oct 2003]', \"It takes a real artist's eye to concentrate reality so realistically, and a true wit to pull it off in a sitcom that makes you gasp as frequently as it makes you laugh. [10 Oct 2003]\", 'Larry David is obnoxious in \"Curb Your Enthusiasm\" but very funny. Gervais\\' David is just obnoxious. ... It\\'s the sort of comedy that only certain people can get, like the way dogs can hear sounds human can\\'t. I\\'m ashamed to say, I couldn\\'t take it more than one dinner hour. [19 Oct 2003]'], Date: ['Jun 14, 2013', 'Jun 18, 2013', 'Jul 25, 2013', 'Jul 25, 2013', 'Jul 25, 2013', 'Jul 25, 2013', 'Jul 25, 2013', 'Jul 25, 2013', 'Jul 25, 2013', 'Jul 25, 2013', 'Jul 25, 2013', 'Jul 25, 2013', 'Jul 25, 2013', 'Jul 25, 2013', 'Jul 25, 2013', 'Jul 25, 2013', 'Jul 25, 2013', 'Jul 25, 2013', 'Jul 25, 2013', 'Jul 25, 2013', 'Jul 25, 2013', 'Jul 25, 2013', 'Jul 25, 2013', 'Jul 25, 2013', 'Jul 25, 2013', 'Jul 25, 2013', 'Jul 25, 2013', 'Jul 25, 2013', 'Jul 25, 2013', 'Jul 25, 2013', 'Jul 25, 2013', 'Jul 25, 2013', 'Jul 25, 2013', 'Jul 25, 2013', 'Jul 25, 2013', 'Jul 25, 2013', 'Jul 25, 2013', 'Jul 1, 2013', 'Jul 3, 2013', 'Jul 25, 2013', 'Jul 25, 2013', 'Jul 25, 2013', 'Jul 25, 2013', 'Jul 25, 2013', 'Jul 25, 2013', 'Jul 25, 2013', 'Jul 25, 2013']\n"
     ]
    }
   ],
   "source": [
    "print(f\"Name: {name}, Review: {review}, Date: {date}\")"
   ]
  },
  {
   "cell_type": "code",
   "execution_count": 230,
   "metadata": {},
   "outputs": [
    {
     "name": "stdout",
     "output_type": "stream",
     "text": [
      "Total length is: Name: 47, Review: 47, Date: 47\n"
     ]
    }
   ],
   "source": [
    "print(f\"Total length is: Name: {len(name)}, Review: {len(review)}, Date: {len(date)}\")"
   ]
  },
  {
   "cell_type": "code",
   "execution_count": 232,
   "metadata": {},
   "outputs": [],
   "source": [
    "data = pd.DataFrame({\"Name\":name, \"Reviews\":review, \"Date\":date})"
   ]
  },
  {
   "cell_type": "code",
   "execution_count": 119,
   "metadata": {},
   "outputs": [],
   "source": [
    "data.to_csv(\"Small Reviews.csv\")"
   ]
  },
  {
   "cell_type": "code",
   "execution_count": null,
   "metadata": {},
   "outputs": [],
   "source": []
  },
  {
   "cell_type": "markdown",
   "metadata": {},
   "source": [
    "# **we can write also different types of code**"
   ]
  },
  {
   "cell_type": "markdown",
   "metadata": {},
   "source": [
    "\n",
    "\n",
    "# for content in soup.find_all(\"div\",class_=\"c-siteReview_main g-inner-spacing-medium\")\n",
    "# for content in soup.find_all(\"div\",attrs={'class':'c-siteReview_main g-inner-spacing-medium'})\n",
    "# for content in soup.find_all(\"div\",attrs={'class','c-siteReview_main g-inner-spacing-medium'})"
   ]
  },
  {
   "cell_type": "code",
   "execution_count": null,
   "metadata": {},
   "outputs": [],
   "source": [
    "info = {\n",
    "    \"name\":[],\n",
    "    \"review\":[],\n",
    "    \"date\":[]\n",
    "}\n",
    "\n",
    "\n",
    "for content in soup.find_all(\"div\",class_='c-siteReview_main g-inner-spacing-medium'):\n",
    "\n",
    "    # Find all <a> tags with the specified class\n",
    "    # a_tags = soup.find_all('a', class_='c-siteReview_criticName')\n",
    "\n",
    "    # Extract and clean the text from each <a> tag\n",
    "    # name = [tag.get_text(strip=True).replace('By ', '') for tag in a_tags]\n",
    "    \n",
    "    name = content.find('a', attrs={'class','c-siteReview_criticName'})\n",
    "    review = content.find('div', attrs={'class','c-siteReview_quote'})\n",
    "    date = content.find('div', attrs={'class','c-siteReviewHeader_reviewDate'})\n",
    "\n",
    "    info['name'].append(name.text.strip().replace(\"by \", '') if name else \"N/A\") ##name wale mein error ho rha hai output NA store kar rha hai {'name': ['N/A', 'N/A'], 'review': ['This is a review.', 'Another review.']}\n",
    "    info['review'].append(review.text.strip() if review else \"N/A\")\n",
    "    info['date'].append(date.text.strip() if date else \"N/A\")\n",
    "\n",
    "print(info['name'],info['review'], info['date'])\n",
    "\n",
    "\n",
    "#You can easly do this how to write small code\n",
    "review = tag.find('div', attrs={'class','c-siteReview_quote g-outer-spacing-bottom-small'})\n",
    "date = tag.find('div', attrs={'class','c-siteReviewHeader_reviewDate g-color-gray80 u-text-uppercase'})\n",
    "info['review'].append(review.get_text().strip() if review else None)\n",
    "info['date'].append(date.get_text().strip() if date else None)"
   ]
  },
  {
   "cell_type": "code",
   "execution_count": 157,
   "metadata": {},
   "outputs": [
    {
     "name": "stdout",
     "output_type": "stream",
     "text": [
      "[]\n"
     ]
    }
   ],
   "source": [
    "# names=[]\n",
    "\n",
    "# for i in a_tags:\n",
    "#     names.append(i.get_text().strip())\n",
    "\n",
    "\n",
    "# for i in a_tags:\n",
    "#     names.append(i.get_text(strip=True))\n",
    "    \n",
    "\n",
    "# this code removing the \"By  \" from names like clean text/Name    \n",
    "# for i in a_tags:\n",
    "#     names.append(i.text.strip().replace(\"By \", ''))\n",
    "\n",
    "\n",
    "# for i in a_tags:\n",
    "#     names.append(i.text.strip())\n"
   ]
  },
  {
   "cell_type": "markdown",
   "metadata": {},
   "source": [
    "# How to extract review > Name Only"
   ]
  },
  {
   "cell_type": "code",
   "execution_count": 219,
   "metadata": {},
   "outputs": [],
   "source": [
    "info = {'name': []\n",
    "       }\n",
    "name_tags = soup.find_all(['a', 'span'], class_=\"c-siteReview_criticName\")\n",
    "for name_tag in name_tags:\n",
    "    name = name_tag.get_text(strip=True).replace('By ', '')\n",
    "    info['name'].append(name if name else None)\n"
   ]
  },
  {
   "cell_type": "code",
   "execution_count": 220,
   "metadata": {},
   "outputs": [
    {
     "data": {
      "text/plain": [
       "['Ken Tucker',\n",
       " None,\n",
       " None,\n",
       " 'Monica Collins',\n",
       " 'Matthew Gilbert',\n",
       " 'Steve Johnson',\n",
       " 'Phil Rosenthal',\n",
       " 'Ann Donahue',\n",
       " 'Steve Johnson',\n",
       " 'Joanne Ostrow',\n",
       " 'Tim Goodman',\n",
       " 'Mike Duffy',\n",
       " 'Heather Havrilesky',\n",
       " 'Virginia Heffernan',\n",
       " 'Joy Press',\n",
       " 'Robert Lloyd',\n",
       " 'Alan Sepinwall',\n",
       " 'Alessandra Stanley',\n",
       " 'Tim Goodman',\n",
       " 'Christopher Sieving',\n",
       " 'Alan Sepinwall',\n",
       " 'Robert Bianco',\n",
       " 'Matthew Gilbert',\n",
       " 'David Bianculli',\n",
       " 'Bill Goodykoontz',\n",
       " 'Sarah Rodman',\n",
       " 'Joanne Ostrow',\n",
       " 'Robert Lloyd',\n",
       " 'Mike Duffy',\n",
       " 'Diane Werts',\n",
       " 'Mike McDaniel',\n",
       " 'Matt Zoller Seitz',\n",
       " 'Alessandra Stanley',\n",
       " 'Charlie McCollum',\n",
       " 'Tim Goodman',\n",
       " 'Devin Gordon',\n",
       " 'Rob Owen',\n",
       " 'James Poniewozik',\n",
       " None,\n",
       " 'Rob Owen',\n",
       " None,\n",
       " 'Tom Shales',\n",
       " 'Maureen Ryan',\n",
       " 'David Bianculli',\n",
       " 'Robert P. Laurence',\n",
       " 'Robert Bianco',\n",
       " 'Marvin Kitman']"
      ]
     },
     "execution_count": 220,
     "metadata": {},
     "output_type": "execute_result"
    }
   ],
   "source": [
    "info['name']"
   ]
  },
  {
   "cell_type": "code",
   "execution_count": 222,
   "metadata": {},
   "outputs": [
    {
     "name": "stdout",
     "output_type": "stream",
     "text": [
      "47\n"
     ]
    }
   ],
   "source": [
    "print(len(info['name']))"
   ]
  },
  {
   "cell_type": "markdown",
   "metadata": {},
   "source": [
    "# how to extract **review** only below 2 Codes"
   ]
  },
  {
   "cell_type": "code",
   "execution_count": 213,
   "metadata": {},
   "outputs": [],
   "source": [
    "info = {'review': []\n",
    "       }\n",
    "for tag in soup.find_all(\"div\",class_='c-siteReview_main g-inner-spacing-medium'):\n",
    "    review_tags = tag.find_all('div', class_=\"c-siteReview_quote g-outer-spacing-bottom-small\")\n",
    "    for review_tag in review_tags:\n",
    "        review = review_tag.get_text()\n",
    "        info['review'].append(review if review else None)\n",
    "\n",
    "\n",
    "#review_tags = soup.find_all('div', class_=\"c-siteReview_quote g-outer-spacing-bottom-small\")\n",
    "#for review_tag in review_tags:\n",
    "#    review = review_tag.get_text()\n",
    "#    info['review'].append(review if review else None)"
   ]
  },
  {
   "cell_type": "code",
   "execution_count": 214,
   "metadata": {},
   "outputs": [
    {
     "data": {
      "text/plain": [
       "[\"The pleasure to be taken from 'Office' isn't merely that of laughter -- it's the pleasure of watching a piece of entertainment so perfectly made and so delicately acted.\",\n",
       " \"As ever, it's all in the details.\",\n",
       " \"It takes a little while to get into it (episode two clinched it for me), but once you get used to the accents and dry humor, you're hooked. [23 Jan 2003]\",\n",
       " '\"The Office\" makes you cringe in delight and heave with giggles when you see the absurdity of it all. [23 Oct 2003]',\n",
       " 'It is depressing, brilliant, hysterical, excruciating, full of irony, and nothing you\\'d ever expect to find on American network TV. Rather than sweetening the workplace with fantasies of a home away from home, \"The Office\" heightens the reality and disconnection of corporate life until it is absurdly funny. The show doesn\\'t touch your heart so much as tickle your spleen. [9 Oct 2003]',\n",
       " '\"The Office\" is everything television comedy can and ought to be but almost never is. ... The result is subtle, searing and laugh-bitterly-out-loud funny, like a series of the darkest Dilbert strips strung together and given human dimension and narrative shape. [30 Jan 2003]',\n",
       " \"It takes a while to get into the rhythms of Gervais' writing and seemingly improvised acting, but once you've become a fan, it's the kind of show you can watch over and over. [10 Oct 2003]\",\n",
       " 'Never have lives of quiet desperation been so laugh-out-loud funny as in \"The Office.\" [10 Oct 2003]',\n",
       " \"The laughs are still there ... But the show begins to take on ominous overtones, a kind of small-scale tragedy in the making as it plots the apparent path of a little dictator's downfall. [10 Oct 2003]\",\n",
       " 'David Brent, brilliantly conceived and played by Gervais, remains among the most wonderfully annoying characters in modern TV comedy. [12 Oct 2003]',\n",
       " \"The funniest thing you're likely to see all year.\",\n",
       " 'Fascinating and outrageously witty ... the best new sitcom to hit American television since Larry David\\'s similarly inspired \"Curb Your Enthusiasm.\" ... An instant classic. [23 Jan 2003]',\n",
       " \"The first time you watch the show, you really don’t believe what you’re seeing. Each moment feels so real, it’s hard to tell if the actors are improvising brilliantly or just delivering their lines with incredible conviction. Like the best moments of 'This Is Spinal Tap' or 'Waiting for Guffman,' 'The Office' offers up breathtaking slices of deadpan humor and amazing comic timing.\",\n",
       " 'As viewers, because of the incalculable talents of the actor Gervais, who also helped create the show, we must choose to humor David or to loathe him—and that choice is exciting, somehow, and challenging.',\n",
       " \"Wincingly funny ... It's the details that make the show so funny, not to mention the awesome veracity of the acting.\",\n",
       " 'As did the six previous episodes, the new installments generate a tension so awful, from circumstances so awfully lifelike, that you have to watch at times from behind laced fingers, with teeth clenched and the remote control close at hand.',\n",
       " 'A scream, in the biting Britcom tradition of \"Fawlty Towers\" and the best depiction of middle management hell since Mike Judge\\'s cult classic \"Office Space.\" [23 Jan 2003]',\n",
       " \"Television's funniest show. ... On a less carefully written show, the [mockumentary] conceit would almost certainly pall after a few episodes. 'The Office' is instead addictive, less because viewers grow to love David and his batty employees than because the show refuses to let those characters grow too lovable.\",\n",
       " 'For those unbowed by the lack of formula, this second season of \"The Office\" has rewards even greater than the first. The series is both funnier and darker -- much darker -- than last season.',\n",
       " 'In 10 years of reviewing film and television for various publications, no comedy has given me as much pleasure as The Office.',\n",
       " 'The six-episode first season of \"The Office\" was so dark, so wicked, so brilliant that it was hard to imagine Gervais and Merchant topping themselves. But they have. By slowly chipping away at David\\'s power base, they\\'ve made him even more desperate, petulant and bullying. (The less funny David gets, the funnier the show is.) [10 Oct 2003]',\n",
       " \"Gervais' show is so unusual, and his performance as David Brent is so painfully specific -- and sometimes just so flat-out painful -- it's hard to imagine how anyone else can make it work. [23 Jan 2003]\",\n",
       " \"It's hard to imagine any other comedy series putting such a fitting cap on its run. [21 Oct 2004]\",\n",
       " \"A fully satisfying and fitting TV finale, and a show that really should be seen. It's acted as well as it's written and directed, which means it's just about perfect. [21 Oct 2004]\",\n",
       " 'Like the series that preceded it, The Office Special is brilliant. [21 Oct 2004]',\n",
       " 'As he did in the series, Gervais imbues Brent with a kind of idiotic cleverness that is both silly and devastating. [21 Oct 2004]',\n",
       " 'Supremely satisfying. [21 Oct 2004]',\n",
       " 'It integrates the boredom, self-delusion, dashed hopes and struggle for power into something bigger, and potentially better, and functions not only as a continuation of the story but a convincing conclusion.',\n",
       " 'A masterful series finale. [21 Oct 2004]',\n",
       " \"Whether it's Brent's starry-eyed foppishness, Dawn's artistic daydreams or Gareth's organizational stiffness, these are characters we don't see on American TV. They're not accomplished, clever or distinctive. But they're so well-observed, and so subtly personified, that it's as if we're finding amusement in people we know. [21 Oct 2004]\",\n",
       " 'Easily one of the funniest shows of the year. [21 Oct 2004]',\n",
       " 'A masterful two-hour finale to an already exceptional program. [21 Oct 2004]',\n",
       " 'As wickedly, painfully funny as the first two seasons and, in tiny, fleeting doses, as delicately tender.',\n",
       " 'The special stays true to the tone and searing wit of the original series and makes for a spectacularly funny coda to \"The Office.\" [18 Oct 2004]',\n",
       " 'Quite possibly the finest closing chapter ever for a TV series.',\n",
       " \"Thanks to a finale that is, by turns, hysterical, excruciating and even poignant, this series--about a blowhard branch manager (Ricky Gervais) who gets sacked from his job at a struggling paper company--gets to quit while it's way, way ahead. [18 Oct 2004]\",\n",
       " 'Brilliant. [21 Oct 2004]',\n",
       " 'A satisfying, touching and excruciatingly funny severance package.',\n",
       " \"For the most part, the special continues with the show's distinctive brand of brutal, punchline-free, squirm-inducing humor. Ultimately, though, it gives us what the first and second seasons did not, a happy ending. This optimistic conclusion could be seen as a loss of nerve. I prefer to see it as chance for release.\",\n",
       " '\"The Office\" is hilarious, but it is an acquired taste as it serves up comedy of the uncomfortable. [10 Oct 2003]',\n",
       " 'It\\'s a wonderful, subversive concept, and by failing to romanticize the players, \"Office\" remains true to its ghastly, funny self. [23 Jan 2003]',\n",
       " 'Mike Judge, creator of \"Beavis and Butt-head,\" made a darn good try at a seriously funny workplace comedy with his 1999 film \"Office Space,\" but Gervais and Merchant have even greater success. \"The Office\" is hilarious in a very hip and flippant way. [30 Jan 2003]',\n",
       " 'What\\'s most satisfying about \"The Office\" is that, despite the sharpest humor this side of \"The Larry Sanders Show,\" it has an ultimately sympathetic take on the cubicle-dwellers of the world, and that outlook is derived from a million tiny observations about personal decency (and lack thereof). [21 Oct 2004]',\n",
       " 'It\\'s dependent almost entirely on characters rather than plot - but, with such recognizable characters, \"The Office\" works beautifully. [10 Oct 2003]',\n",
       " 'Dark, sly, ironic, subtle, brilliant. ... A taste for British humor comes in handy in watching \"The Office,\" though. If you\\'re bothered by deliberate (but tongue-in-cheek) bad taste, raging political incorrectness, sexual innuendo or comedy involving large sexual toys, or if you just don\\'t get satire, \"The Office\" may not be right for you. [24 Oct 2003]',\n",
       " \"It takes a real artist's eye to concentrate reality so realistically, and a true wit to pull it off in a sitcom that makes you gasp as frequently as it makes you laugh. [10 Oct 2003]\",\n",
       " 'Larry David is obnoxious in \"Curb Your Enthusiasm\" but very funny. Gervais\\' David is just obnoxious. ... It\\'s the sort of comedy that only certain people can get, like the way dogs can hear sounds human can\\'t. I\\'m ashamed to say, I couldn\\'t take it more than one dinner hour. [19 Oct 2003]']"
      ]
     },
     "execution_count": 214,
     "metadata": {},
     "output_type": "execute_result"
    }
   ],
   "source": [
    "info['review']"
   ]
  },
  {
   "cell_type": "code",
   "execution_count": 215,
   "metadata": {},
   "outputs": [
    {
     "name": "stdout",
     "output_type": "stream",
     "text": [
      "47\n"
     ]
    }
   ],
   "source": [
    "print(len(info['review']))"
   ]
  },
  {
   "cell_type": "code",
   "execution_count": 216,
   "metadata": {},
   "outputs": [
    {
     "name": "stdout",
     "output_type": "stream",
     "text": [
      "[\"The pleasure to be taken from 'Office' isn't merely that of laughter -- it's the pleasure of watching a piece of entertainment so perfectly made and so delicately acted.\", \"As ever, it's all in the details.\", \"It takes a little while to get into it (episode two clinched it for me), but once you get used to the accents and dry humor, you're hooked. [23 Jan 2003]\", '\"The Office\" makes you cringe in delight and heave with giggles when you see the absurdity of it all. [23 Oct 2003]', 'It is depressing, brilliant, hysterical, excruciating, full of irony, and nothing you\\'d ever expect to find on American network TV. Rather than sweetening the workplace with fantasies of a home away from home, \"The Office\" heightens the reality and disconnection of corporate life until it is absurdly funny. The show doesn\\'t touch your heart so much as tickle your spleen. [9 Oct 2003]', '\"The Office\" is everything television comedy can and ought to be but almost never is. ... The result is subtle, searing and laugh-bitterly-out-loud funny, like a series of the darkest Dilbert strips strung together and given human dimension and narrative shape. [30 Jan 2003]', \"It takes a while to get into the rhythms of Gervais' writing and seemingly improvised acting, but once you've become a fan, it's the kind of show you can watch over and over. [10 Oct 2003]\", 'Never have lives of quiet desperation been so laugh-out-loud funny as in \"The Office.\" [10 Oct 2003]', \"The laughs are still there ... But the show begins to take on ominous overtones, a kind of small-scale tragedy in the making as it plots the apparent path of a little dictator's downfall. [10 Oct 2003]\", 'David Brent, brilliantly conceived and played by Gervais, remains among the most wonderfully annoying characters in modern TV comedy. [12 Oct 2003]', \"The funniest thing you're likely to see all year.\", 'Fascinating and outrageously witty ... the best new sitcom to hit American television since Larry David\\'s similarly inspired \"Curb Your Enthusiasm.\" ... An instant classic. [23 Jan 2003]', \"The first time you watch the show, you really don’t believe what you’re seeing. Each moment feels so real, it’s hard to tell if the actors are improvising brilliantly or just delivering their lines with incredible conviction. Like the best moments of 'This Is Spinal Tap' or 'Waiting for Guffman,' 'The Office' offers up breathtaking slices of deadpan humor and amazing comic timing.\", 'As viewers, because of the incalculable talents of the actor Gervais, who also helped create the show, we must choose to humor David or to loathe him—and that choice is exciting, somehow, and challenging.', \"Wincingly funny ... It's the details that make the show so funny, not to mention the awesome veracity of the acting.\", 'As did the six previous episodes, the new installments generate a tension so awful, from circumstances so awfully lifelike, that you have to watch at times from behind laced fingers, with teeth clenched and the remote control close at hand.', 'A scream, in the biting Britcom tradition of \"Fawlty Towers\" and the best depiction of middle management hell since Mike Judge\\'s cult classic \"Office Space.\" [23 Jan 2003]', \"Television's funniest show. ... On a less carefully written show, the [mockumentary] conceit would almost certainly pall after a few episodes. 'The Office' is instead addictive, less because viewers grow to love David and his batty employees than because the show refuses to let those characters grow too lovable.\", 'For those unbowed by the lack of formula, this second season of \"The Office\" has rewards even greater than the first. The series is both funnier and darker -- much darker -- than last season.', 'In 10 years of reviewing film and television for various publications, no comedy has given me as much pleasure as The Office.', 'The six-episode first season of \"The Office\" was so dark, so wicked, so brilliant that it was hard to imagine Gervais and Merchant topping themselves. But they have. By slowly chipping away at David\\'s power base, they\\'ve made him even more desperate, petulant and bullying. (The less funny David gets, the funnier the show is.) [10 Oct 2003]', \"Gervais' show is so unusual, and his performance as David Brent is so painfully specific -- and sometimes just so flat-out painful -- it's hard to imagine how anyone else can make it work. [23 Jan 2003]\", \"It's hard to imagine any other comedy series putting such a fitting cap on its run. [21 Oct 2004]\", \"A fully satisfying and fitting TV finale, and a show that really should be seen. It's acted as well as it's written and directed, which means it's just about perfect. [21 Oct 2004]\", 'Like the series that preceded it, The Office Special is brilliant. [21 Oct 2004]', 'As he did in the series, Gervais imbues Brent with a kind of idiotic cleverness that is both silly and devastating. [21 Oct 2004]', 'Supremely satisfying. [21 Oct 2004]', 'It integrates the boredom, self-delusion, dashed hopes and struggle for power into something bigger, and potentially better, and functions not only as a continuation of the story but a convincing conclusion.', 'A masterful series finale. [21 Oct 2004]', \"Whether it's Brent's starry-eyed foppishness, Dawn's artistic daydreams or Gareth's organizational stiffness, these are characters we don't see on American TV. They're not accomplished, clever or distinctive. But they're so well-observed, and so subtly personified, that it's as if we're finding amusement in people we know. [21 Oct 2004]\", 'Easily one of the funniest shows of the year. [21 Oct 2004]', 'A masterful two-hour finale to an already exceptional program. [21 Oct 2004]', 'As wickedly, painfully funny as the first two seasons and, in tiny, fleeting doses, as delicately tender.', 'The special stays true to the tone and searing wit of the original series and makes for a spectacularly funny coda to \"The Office.\" [18 Oct 2004]', 'Quite possibly the finest closing chapter ever for a TV series.', \"Thanks to a finale that is, by turns, hysterical, excruciating and even poignant, this series--about a blowhard branch manager (Ricky Gervais) who gets sacked from his job at a struggling paper company--gets to quit while it's way, way ahead. [18 Oct 2004]\", 'Brilliant. [21 Oct 2004]', 'A satisfying, touching and excruciatingly funny severance package.', \"For the most part, the special continues with the show's distinctive brand of brutal, punchline-free, squirm-inducing humor. Ultimately, though, it gives us what the first and second seasons did not, a happy ending. This optimistic conclusion could be seen as a loss of nerve. I prefer to see it as chance for release.\", '\"The Office\" is hilarious, but it is an acquired taste as it serves up comedy of the uncomfortable. [10 Oct 2003]', 'It\\'s a wonderful, subversive concept, and by failing to romanticize the players, \"Office\" remains true to its ghastly, funny self. [23 Jan 2003]', 'Mike Judge, creator of \"Beavis and Butt-head,\" made a darn good try at a seriously funny workplace comedy with his 1999 film \"Office Space,\" but Gervais and Merchant have even greater success. \"The Office\" is hilarious in a very hip and flippant way. [30 Jan 2003]', 'What\\'s most satisfying about \"The Office\" is that, despite the sharpest humor this side of \"The Larry Sanders Show,\" it has an ultimately sympathetic take on the cubicle-dwellers of the world, and that outlook is derived from a million tiny observations about personal decency (and lack thereof). [21 Oct 2004]', 'It\\'s dependent almost entirely on characters rather than plot - but, with such recognizable characters, \"The Office\" works beautifully. [10 Oct 2003]', 'Dark, sly, ironic, subtle, brilliant. ... A taste for British humor comes in handy in watching \"The Office,\" though. If you\\'re bothered by deliberate (but tongue-in-cheek) bad taste, raging political incorrectness, sexual innuendo or comedy involving large sexual toys, or if you just don\\'t get satire, \"The Office\" may not be right for you. [24 Oct 2003]', \"It takes a real artist's eye to concentrate reality so realistically, and a true wit to pull it off in a sitcom that makes you gasp as frequently as it makes you laugh. [10 Oct 2003]\", 'Larry David is obnoxious in \"Curb Your Enthusiasm\" but very funny. Gervais\\' David is just obnoxious. ... It\\'s the sort of comedy that only certain people can get, like the way dogs can hear sounds human can\\'t. I\\'m ashamed to say, I couldn\\'t take it more than one dinner hour. [19 Oct 2003]']\n"
     ]
    }
   ],
   "source": [
    "print(info['review'])"
   ]
  },
  {
   "cell_type": "markdown",
   "metadata": {},
   "source": [
    "# How to extract ***Date ,*** ***2*** Codes below "
   ]
  },
  {
   "cell_type": "code",
   "execution_count": 207,
   "metadata": {},
   "outputs": [],
   "source": [
    "info = {'date': []\n",
    "       }\n",
    "\n",
    "\n",
    "date_tags = soup.find_all('div', class_=\"c-siteReviewHeader_reviewDate\")\n",
    "for date_tag in date_tags:\n",
    "    date = date_tag.get_text(strip=True)\n",
    "    info['date'].append(date if date else None)"
   ]
  },
  {
   "cell_type": "code",
   "execution_count": 208,
   "metadata": {},
   "outputs": [
    {
     "data": {
      "text/plain": [
       "['Jun 14, 2013',\n",
       " 'Jun 18, 2013',\n",
       " 'Jul 25, 2013',\n",
       " 'Jul 25, 2013',\n",
       " 'Jul 25, 2013',\n",
       " 'Jul 25, 2013',\n",
       " 'Jul 25, 2013',\n",
       " 'Jul 25, 2013',\n",
       " 'Jul 25, 2013',\n",
       " 'Jul 25, 2013',\n",
       " 'Jul 25, 2013',\n",
       " 'Jul 25, 2013',\n",
       " 'Jul 25, 2013',\n",
       " 'Jul 25, 2013',\n",
       " 'Jul 25, 2013',\n",
       " 'Jul 25, 2013',\n",
       " 'Jul 25, 2013',\n",
       " 'Jul 25, 2013',\n",
       " 'Jul 25, 2013',\n",
       " 'Jul 25, 2013',\n",
       " 'Jul 25, 2013',\n",
       " 'Jul 25, 2013',\n",
       " 'Jul 25, 2013',\n",
       " 'Jul 25, 2013',\n",
       " 'Jul 25, 2013',\n",
       " 'Jul 25, 2013',\n",
       " 'Jul 25, 2013',\n",
       " 'Jul 25, 2013',\n",
       " 'Jul 25, 2013',\n",
       " 'Jul 25, 2013',\n",
       " 'Jul 25, 2013',\n",
       " 'Jul 25, 2013',\n",
       " 'Jul 25, 2013',\n",
       " 'Jul 25, 2013',\n",
       " 'Jul 25, 2013',\n",
       " 'Jul 25, 2013',\n",
       " 'Jul 25, 2013',\n",
       " 'Jul 1, 2013',\n",
       " 'Jul 3, 2013',\n",
       " 'Jul 25, 2013',\n",
       " 'Jul 25, 2013',\n",
       " 'Jul 25, 2013',\n",
       " 'Jul 25, 2013',\n",
       " 'Jul 25, 2013',\n",
       " 'Jul 25, 2013',\n",
       " 'Jul 25, 2013',\n",
       " 'Jul 25, 2013']"
      ]
     },
     "execution_count": 208,
     "metadata": {},
     "output_type": "execute_result"
    }
   ],
   "source": [
    "info['date']"
   ]
  },
  {
   "cell_type": "code",
   "execution_count": 209,
   "metadata": {},
   "outputs": [
    {
     "name": "stdout",
     "output_type": "stream",
     "text": [
      "47\n"
     ]
    }
   ],
   "source": [
    "print(len(info['date']))"
   ]
  },
  {
   "cell_type": "code",
   "execution_count": 210,
   "metadata": {},
   "outputs": [],
   "source": [
    "info = {'date': []\n",
    "       }\n",
    "\n",
    "for tag in soup.find_all(\"div\",class_='c-siteReview_main g-inner-spacing-medium'):\n",
    "    date_tags = tag.find_all('div', class_=\"c-siteReviewHeader_reviewDate\")\n",
    "    for date_tag in date_tags:\n",
    "        date = date_tag.get_text(strip=True)\n",
    "        info['date'].append(date if date else None)"
   ]
  },
  {
   "cell_type": "code",
   "execution_count": 211,
   "metadata": {},
   "outputs": [
    {
     "data": {
      "text/plain": [
       "['Jun 14, 2013',\n",
       " 'Jun 18, 2013',\n",
       " 'Jul 25, 2013',\n",
       " 'Jul 25, 2013',\n",
       " 'Jul 25, 2013',\n",
       " 'Jul 25, 2013',\n",
       " 'Jul 25, 2013',\n",
       " 'Jul 25, 2013',\n",
       " 'Jul 25, 2013',\n",
       " 'Jul 25, 2013',\n",
       " 'Jul 25, 2013',\n",
       " 'Jul 25, 2013',\n",
       " 'Jul 25, 2013',\n",
       " 'Jul 25, 2013',\n",
       " 'Jul 25, 2013',\n",
       " 'Jul 25, 2013',\n",
       " 'Jul 25, 2013',\n",
       " 'Jul 25, 2013',\n",
       " 'Jul 25, 2013',\n",
       " 'Jul 25, 2013',\n",
       " 'Jul 25, 2013',\n",
       " 'Jul 25, 2013',\n",
       " 'Jul 25, 2013',\n",
       " 'Jul 25, 2013',\n",
       " 'Jul 25, 2013',\n",
       " 'Jul 25, 2013',\n",
       " 'Jul 25, 2013',\n",
       " 'Jul 25, 2013',\n",
       " 'Jul 25, 2013',\n",
       " 'Jul 25, 2013',\n",
       " 'Jul 25, 2013',\n",
       " 'Jul 25, 2013',\n",
       " 'Jul 25, 2013',\n",
       " 'Jul 25, 2013',\n",
       " 'Jul 25, 2013',\n",
       " 'Jul 25, 2013',\n",
       " 'Jul 25, 2013',\n",
       " 'Jul 1, 2013',\n",
       " 'Jul 3, 2013',\n",
       " 'Jul 25, 2013',\n",
       " 'Jul 25, 2013',\n",
       " 'Jul 25, 2013',\n",
       " 'Jul 25, 2013',\n",
       " 'Jul 25, 2013',\n",
       " 'Jul 25, 2013',\n",
       " 'Jul 25, 2013',\n",
       " 'Jul 25, 2013']"
      ]
     },
     "execution_count": 211,
     "metadata": {},
     "output_type": "execute_result"
    }
   ],
   "source": [
    "info['date']"
   ]
  },
  {
   "cell_type": "code",
   "execution_count": 212,
   "metadata": {},
   "outputs": [
    {
     "name": "stdout",
     "output_type": "stream",
     "text": [
      "47\n"
     ]
    }
   ],
   "source": [
    "print(len(info['date']))"
   ]
  },
  {
   "cell_type": "code",
   "execution_count": null,
   "metadata": {},
   "outputs": [],
   "source": []
  }
 ],
 "metadata": {
  "kernelspec": {
   "display_name": "Python 3 (ipykernel)",
   "language": "python",
   "name": "python3"
  },
  "language_info": {
   "codemirror_mode": {
    "name": "ipython",
    "version": 3
   },
   "file_extension": ".py",
   "mimetype": "text/x-python",
   "name": "python",
   "nbconvert_exporter": "python",
   "pygments_lexer": "ipython3",
   "version": "3.11.7"
  }
 },
 "nbformat": 4,
 "nbformat_minor": 4
}
